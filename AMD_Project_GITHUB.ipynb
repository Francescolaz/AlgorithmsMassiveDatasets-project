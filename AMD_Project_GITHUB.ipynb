{
  "nbformat": 4,
  "nbformat_minor": 0,
  "metadata": {
    "colab": {
      "name": "AMD - Project GITHUB.ipynb",
      "provenance": [],
      "collapsed_sections": [],
      "mount_file_id": "1SHA2bm9pv_ivuyWg53zT6RIxanHbKt8U",
      "authorship_tag": "ABX9TyOYil3Zg8c4nuyDzLlvEAAK",
      "include_colab_link": true
    },
    "kernelspec": {
      "display_name": "Python 3",
      "name": "python3"
    }
  },
  "cells": [
    {
      "cell_type": "markdown",
      "metadata": {
        "id": "view-in-github",
        "colab_type": "text"
      },
      "source": [
        "<a href=\"https://colab.research.google.com/github/Francescolaz/AlgorithmsMassiveDatasets-project/blob/main/AMD_Project_GITHUB.ipynb\" target=\"_parent\"><img src=\"https://colab.research.google.com/assets/colab-badge.svg\" alt=\"Open In Colab\"/></a>"
      ]
    },
    {
      "cell_type": "markdown",
      "metadata": {
        "id": "EJFp3cdZ-9EZ"
      },
      "source": [
        "# AMD - Project 2020/21\n",
        "\n",
        "## Francesco Lazzara 942830\n",
        "\n",
        "“I declare that this material, which I now submit for assessment, is entirely my own work and has not been taken from the work of others, save and to the extent that such work has been cited and acknowledged within the text of my work. I understand that plagiarism, collusion, and copying are grave and serious offences in the university and accept the penalties that would be imposed should I engage in plagiarism, collusion or copying. This assignment, or any part of it, has not been previously submitted by me or any other person for assessment on this or any other course of study.“"
      ]
    },
    {
      "cell_type": "markdown",
      "metadata": {
        "id": "xNs2gWODE4Qs"
      },
      "source": [
        "# Dowload the dataset from Kaggle API \n",
        "\n",
        "URL-link to the dataset: <https://www.kaggle.com/ashirwadsangwan/imdb-dataset?select=title.basics.tsv.gz​>"
      ]
    },
    {
      "cell_type": "code",
      "metadata": {
        "colab": {
          "resources": {
            "http://localhost:8080/nbextensions/google.colab/files.js": {
              "data": "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",
              "ok": true,
              "headers": [
                [
                  "content-type",
                  "application/javascript"
                ]
              ],
              "status": 200,
              "status_text": ""
            }
          },
          "base_uri": "https://localhost:8080/",
          "height": 82
        },
        "id": "X5eqw_5hcoAN",
        "outputId": "9811f943-7956-42ba-f7bf-6b3f3223d1e1"
      },
      "source": [
        " # Install the \"kaggle\" library to establish the connection with the Kaggle API\n",
        "\n",
        "!pip install -q kaggle\n",
        "\n",
        "# Upload the \"kaggle.json\" file with the credentials for the Kaggle API\n",
        "\n",
        "from google.colab import files\n",
        "files.upload()"
      ],
      "execution_count": 1,
      "outputs": [
        {
          "output_type": "display_data",
          "data": {
            "text/html": [
              "\n",
              "     <input type=\"file\" id=\"files-264d23e5-ecd5-46f7-b408-d8456547b8ba\" name=\"files[]\" multiple disabled\n",
              "        style=\"border:none\" />\n",
              "     <output id=\"result-264d23e5-ecd5-46f7-b408-d8456547b8ba\">\n",
              "      Upload widget is only available when the cell has been executed in the\n",
              "      current browser session. Please rerun this cell to enable.\n",
              "      </output>\n",
              "      <script src=\"/nbextensions/google.colab/files.js\"></script> "
            ],
            "text/plain": [
              "<IPython.core.display.HTML object>"
            ]
          },
          "metadata": {}
        },
        {
          "output_type": "stream",
          "name": "stdout",
          "text": [
            "Saving kaggle.json to kaggle.json\n"
          ]
        },
        {
          "output_type": "execute_result",
          "data": {
            "text/plain": [
              "{'kaggle.json': b'{\"username\":\"francescolaz\",\"key\":\"e4e7aedec77147b9f0dea02fb3216c54\"}'}"
            ]
          },
          "metadata": {},
          "execution_count": 1
        }
      ]
    },
    {
      "cell_type": "code",
      "metadata": {
        "id": "zWaTwq8Jc13s"
      },
      "source": [
        "# Copy the Kaggle API token \"kaggle.json\", downloaded from the Github folder of the project, and paste it in the .kaggle folder (Google Drive)\n",
        "\n",
        "!mkdir ~/.kaggle\n",
        "!cp kaggle.json ~/.kaggle/"
      ],
      "execution_count": 2,
      "outputs": []
    },
    {
      "cell_type": "code",
      "metadata": {
        "id": "yFYFnjLtX7Dz",
        "colab": {
          "base_uri": "https://localhost:8080/"
        },
        "outputId": "bab98f3a-276b-48df-a0ba-324ff153c53a"
      },
      "source": [
        "# Mount Google Drive to use the storage space for downloading the dataset\n",
        "\n",
        "from google.colab import drive\n",
        "\n",
        "\n",
        "# Follow the URL-link to get the authorization code to connect Google Drive with Colab and use it as storage \n",
        "# (it might be asked the first time the code is executed with a different Google Drive storage)\n",
        "\n",
        "drive.mount('/content/drive')"
      ],
      "execution_count": 3,
      "outputs": [
        {
          "output_type": "stream",
          "name": "stdout",
          "text": [
            "Drive already mounted at /content/drive; to attempt to forcibly remount, call drive.mount(\"/content/drive\", force_remount=True).\n"
          ]
        }
      ]
    },
    {
      "cell_type": "code",
      "metadata": {
        "id": "OYR0359DdCuv"
      },
      "source": [
        " # Change the permissions of the file\n",
        " \n",
        " !chmod 600 ~/.kaggle/kaggle.json"
      ],
      "execution_count": 4,
      "outputs": []
    },
    {
      "cell_type": "code",
      "metadata": {
        "id": "AJBLWJrSdJ6u",
        "colab": {
          "base_uri": "https://localhost:8080/"
        },
        "outputId": "d912009e-5e8d-4c77-df88-8998332c9c06"
      },
      "source": [
        "# Paste the Kaggle API command to download the IMDb dataset\n",
        "\n",
        "!kaggle datasets download -d ashirwadsangwan/imdb-dataset"
      ],
      "execution_count": 5,
      "outputs": [
        {
          "output_type": "stream",
          "name": "stdout",
          "text": [
            "Downloading imdb-dataset.zip to /content\n",
            " 99% 1.43G/1.44G [00:14<00:00, 99.6MB/s]\n",
            "100% 1.44G/1.44G [00:14<00:00, 107MB/s] \n"
          ]
        }
      ]
    },
    {
      "cell_type": "code",
      "metadata": {
        "id": "J7fJFvlDe1RG",
        "colab": {
          "base_uri": "https://localhost:8080/"
        },
        "outputId": "2d379c67-fc9f-4f35-b154-eb93e197ca60"
      },
      "source": [
        "# Check the files contained in the workind directory\n",
        "\n",
        "!ls"
      ],
      "execution_count": 6,
      "outputs": [
        {
          "output_type": "stream",
          "name": "stdout",
          "text": [
            "drive  imdb-dataset.zip  kaggle.json  sample_data\n"
          ]
        }
      ]
    },
    {
      "cell_type": "code",
      "metadata": {
        "id": "UyHoM7jdKMRv",
        "colab": {
          "base_uri": "https://localhost:8080/"
        },
        "outputId": "b84fc37c-4782-42fd-e513-a5dd73236391"
      },
      "source": [
        "# Unzip the \"imdb-dataset\" and delete the zip file\n",
        "\n",
        "!unzip \\*.zip  && rm *.zip"
      ],
      "execution_count": 7,
      "outputs": [
        {
          "output_type": "stream",
          "name": "stdout",
          "text": [
            "Archive:  imdb-dataset.zip\n",
            "  inflating: name.basics.tsv.gz      \n",
            "  inflating: name.basics.tsv/name.basics.tsv  \n",
            "  inflating: title.akas.tsv.gz       \n",
            "  inflating: title.akas.tsv/title.akas.tsv  \n",
            "  inflating: title.basics.tsv.gz     \n",
            "  inflating: title.basics.tsv/title.basics.tsv  \n",
            "  inflating: title.principals.tsv.gz  \n",
            "  inflating: title.principals.tsv/title.principals.tsv  \n",
            "  inflating: title.ratings.tsv.gz    \n",
            "  inflating: title.ratings.tsv/title.ratings.tsv  \n"
          ]
        }
      ]
    },
    {
      "cell_type": "markdown",
      "metadata": {
        "id": "cqaq87-tV-BG"
      },
      "source": [
        "## Install Spark\n",
        "\n",
        "We would try to extract only the actor/actress observations from the \"title.principals.ts\" table, along with the \"*tconst* and \"*nconst*\" columns to link the actors to their name (\"nconst\") and movies (\"tconst\")."
      ]
    },
    {
      "cell_type": "code",
      "metadata": {
        "id": "NNNp2KVJRiXl"
      },
      "source": [
        "# Install Java\n",
        "# Install Spark (change the version number according to: https://downloads.apache.org/spark/)\n",
        "# Unzip the Spark file to the current folder\n",
        "# Install Findspark using pip\n",
        "\n",
        "!apt-get install openjdk-8-jdk-headless -qq > /dev/null\n",
        "!wget -q https://downloads.apache.org/spark/spark-3.0.3/spark-3.0.3-bin-hadoop2.7.tgz\n",
        "!tar xf spark-3.0.3-bin-hadoop2.7.tgz\n",
        "!pip install -q findspark"
      ],
      "execution_count": 8,
      "outputs": []
    },
    {
      "cell_type": "code",
      "metadata": {
        "id": "b-VPaO4xkg6x",
        "colab": {
          "base_uri": "https://localhost:8080/",
          "height": 34
        },
        "outputId": "3a1ffd69-7460-4b87-a9a6-cf71a943417e"
      },
      "source": [
        "# Set the Spark folder to the system path environment\n",
        "\n",
        "import os\n",
        "os.environ[\"JAVA_HOME\"] = \"/usr/lib/jvm/java-8-openjdk-amd64\"\n",
        "os.environ[\"SPARK_HOME\"] = \"/content/spark-3.0.3-bin-hadoop2.7\"\n",
        "import findspark\n",
        "\n",
        "# Locate Spark in the system\n",
        "\n",
        "findspark.init()\n",
        "findspark.find()"
      ],
      "execution_count": 9,
      "outputs": [
        {
          "output_type": "execute_result",
          "data": {
            "application/vnd.google.colaboratory.intrinsic+json": {
              "type": "string"
            },
            "text/plain": [
              "'/content/spark-3.0.3-bin-hadoop2.7'"
            ]
          },
          "metadata": {},
          "execution_count": 9
        }
      ]
    },
    {
      "cell_type": "code",
      "metadata": {
        "id": "6K47Q24BkiJt"
      },
      "source": [
        "# Start a Spark session\n",
        "\n",
        "from pyspark.sql import SparkSession\n",
        "\n",
        "spark = SparkSession.builder\\\n",
        "        .master(\"local\")\\\n",
        "        .appName(\"Colab\")\\\n",
        "        .config('spark.ui.port', '4050')\\\n",
        "        .config(\"spark.driver.memory\", \"15g\")\\\n",
        "        .getOrCreate()"
      ],
      "execution_count": 10,
      "outputs": []
    },
    {
      "cell_type": "code",
      "metadata": {
        "id": "XAzbw0VRklAu",
        "colab": {
          "base_uri": "https://localhost:8080/"
        },
        "outputId": "d2f28585-921b-43b1-b3a6-15dce0f42f4f"
      },
      "source": [
        "print(spark, type(spark))"
      ],
      "execution_count": 11,
      "outputs": [
        {
          "output_type": "stream",
          "name": "stdout",
          "text": [
            "<pyspark.sql.session.SparkSession object at 0x7f07adde7390> <class 'pyspark.sql.session.SparkSession'>\n"
          ]
        }
      ]
    },
    {
      "cell_type": "code",
      "metadata": {
        "id": "5O1ErFun_XOs"
      },
      "source": [
        "# The SparkContext represents the connection to a Spark cluster and can be used to create RDD and broadcast variables\n",
        "\n",
        "from pyspark import SparkContext\n",
        "\n",
        "sc = spark.sparkContext"
      ],
      "execution_count": 12,
      "outputs": []
    },
    {
      "cell_type": "markdown",
      "metadata": {
        "id": "sg_A-wEEEV9E"
      },
      "source": [
        "## Data Pre-processing\n",
        "\n",
        "---\n",
        "\n"
      ]
    },
    {
      "cell_type": "code",
      "metadata": {
        "id": "wG0p9nihzTfI",
        "colab": {
          "base_uri": "https://localhost:8080/"
        },
        "outputId": "245788d0-72c2-4525-8c02-0a89fc92a771"
      },
      "source": [
        "# Read the \"tsv\" file with the Movie titles\n",
        "\n",
        "titles = spark.read.csv(\"/content/title.basics.tsv/title.basics.tsv\", \n",
        "               sep=r'\\t', header=True).select(\"tconst\", \"titleType\", \"PrimaryTitle\", \"originalTitle\", \"genres\")\n",
        "\n",
        "print(titles.count())"
      ],
      "execution_count": 13,
      "outputs": [
        {
          "output_type": "stream",
          "name": "stdout",
          "text": [
            "6321302\n"
          ]
        }
      ]
    },
    {
      "cell_type": "code",
      "metadata": {
        "colab": {
          "base_uri": "https://localhost:8080/"
        },
        "id": "JukKBdkPxUKe",
        "outputId": "c28f9bf7-a535-44c4-b584-ce2099ab2b46"
      },
      "source": [
        "# Inspect if there are nan values - TITLES\n",
        "\n",
        "from pyspark.sql.functions import isnan, when, count, col\n",
        "\n",
        "titles.select([count(when(isnan(c), c)).alias(c) for c in titles.columns]).show()"
      ],
      "execution_count": 14,
      "outputs": [
        {
          "output_type": "stream",
          "name": "stdout",
          "text": [
            "+------+---------+------------+-------------+------+\n",
            "|tconst|titleType|PrimaryTitle|originalTitle|genres|\n",
            "+------+---------+------------+-------------+------+\n",
            "|     0|        0|           7|            7|     0|\n",
            "+------+---------+------------+-------------+------+\n",
            "\n"
          ]
        }
      ]
    },
    {
      "cell_type": "code",
      "metadata": {
        "id": "csBAnvM_hKpR",
        "colab": {
          "base_uri": "https://localhost:8080/"
        },
        "outputId": "1a4df320-ca8c-4e9b-a52e-ebf4ba2c4cd6"
      },
      "source": [
        "# Remove the null values from the dataset\n",
        "\n",
        "titles = titles.filter(\"PrimaryTitle != 'Nan' and originalTitle != 'Nan'\")\n",
        "\n",
        "print(titles.count())"
      ],
      "execution_count": 15,
      "outputs": [
        {
          "output_type": "stream",
          "name": "stdout",
          "text": [
            "6321295\n"
          ]
        }
      ]
    },
    {
      "cell_type": "code",
      "metadata": {
        "colab": {
          "base_uri": "https://localhost:8080/"
        },
        "id": "s5jP7ZApzANu",
        "outputId": "05a7a854-d603-4cdc-ca42-0d00b5d8974e"
      },
      "source": [
        "titles.head(10)"
      ],
      "execution_count": 16,
      "outputs": [
        {
          "output_type": "execute_result",
          "data": {
            "text/plain": [
              "[Row(tconst='tt0000001', titleType='short', PrimaryTitle='Carmencita', originalTitle='Carmencita', genres='Documentary,Short'),\n",
              " Row(tconst='tt0000002', titleType='short', PrimaryTitle='Le clown et ses chiens', originalTitle='Le clown et ses chiens', genres='Animation,Short'),\n",
              " Row(tconst='tt0000003', titleType='short', PrimaryTitle='Pauvre Pierrot', originalTitle='Pauvre Pierrot', genres='Animation,Comedy,Romance'),\n",
              " Row(tconst='tt0000004', titleType='short', PrimaryTitle='Un bon bock', originalTitle='Un bon bock', genres='Animation,Short'),\n",
              " Row(tconst='tt0000005', titleType='short', PrimaryTitle='Blacksmith Scene', originalTitle='Blacksmith Scene', genres='Comedy,Short'),\n",
              " Row(tconst='tt0000006', titleType='short', PrimaryTitle='Chinese Opium Den', originalTitle='Chinese Opium Den', genres='Short'),\n",
              " Row(tconst='tt0000007', titleType='short', PrimaryTitle='Corbett and Courtney Before the Kinetograph', originalTitle='Corbett and Courtney Before the Kinetograph', genres='Short,Sport'),\n",
              " Row(tconst='tt0000008', titleType='short', PrimaryTitle='Edison Kinetoscopic Record of a Sneeze', originalTitle='Edison Kinetoscopic Record of a Sneeze', genres='Documentary,Short'),\n",
              " Row(tconst='tt0000009', titleType='movie', PrimaryTitle='Miss Jerry', originalTitle='Miss Jerry', genres='Romance'),\n",
              " Row(tconst='tt0000010', titleType='short', PrimaryTitle='Exiting the Factory', originalTitle=\"La sortie de l'usine Lumière à Lyon\", genres='Documentary,Short')]"
            ]
          },
          "metadata": {},
          "execution_count": 16
        }
      ]
    },
    {
      "cell_type": "code",
      "metadata": {
        "id": "dOQFOQGvwB4G",
        "colab": {
          "base_uri": "https://localhost:8080/"
        },
        "outputId": "3e264fd1-6835-401d-9399-a9578bfa2bd8"
      },
      "source": [
        "# Read the \"tsv\" file with the Individual job's for each movie\n",
        "\n",
        "job = spark.read.csv(\"/content/title.principals.tsv/title.principals.tsv\", \n",
        "                    sep=r'\\t', header=True).select(\"tconst\", \"ordering\", \"nconst\", \"category\")\n",
        "\n",
        "print(job.count())"
      ],
      "execution_count": 17,
      "outputs": [
        {
          "output_type": "stream",
          "name": "stdout",
          "text": [
            "36468817\n"
          ]
        }
      ]
    },
    {
      "cell_type": "code",
      "metadata": {
        "id": "D3jZAui2CTB6",
        "colab": {
          "base_uri": "https://localhost:8080/"
        },
        "outputId": "5f8586e1-f58b-4313-a617-e24bf74f354c"
      },
      "source": [
        "# Inspect if there are null values - JOB\n",
        "\n",
        "job.select([count(when(isnan(c), c)).alias(c) for c in job.columns]).show()"
      ],
      "execution_count": 18,
      "outputs": [
        {
          "output_type": "stream",
          "name": "stdout",
          "text": [
            "+------+--------+------+--------+\n",
            "|tconst|ordering|nconst|category|\n",
            "+------+--------+------+--------+\n",
            "|     0|       0|     0|       0|\n",
            "+------+--------+------+--------+\n",
            "\n"
          ]
        }
      ]
    },
    {
      "cell_type": "code",
      "metadata": {
        "id": "XB6eW92p1yeJ",
        "colab": {
          "base_uri": "https://localhost:8080/"
        },
        "outputId": "71731abc-6c74-42e9-9b19-c96bb2a6392e"
      },
      "source": [
        "job.head(10)"
      ],
      "execution_count": 19,
      "outputs": [
        {
          "output_type": "execute_result",
          "data": {
            "text/plain": [
              "[Row(tconst='tt0000001', ordering='1', nconst='nm1588970', category='self'),\n",
              " Row(tconst='tt0000001', ordering='2', nconst='nm0005690', category='director'),\n",
              " Row(tconst='tt0000001', ordering='3', nconst='nm0374658', category='cinematographer'),\n",
              " Row(tconst='tt0000002', ordering='1', nconst='nm0721526', category='director'),\n",
              " Row(tconst='tt0000002', ordering='2', nconst='nm1335271', category='composer'),\n",
              " Row(tconst='tt0000003', ordering='1', nconst='nm0721526', category='director'),\n",
              " Row(tconst='tt0000003', ordering='2', nconst='nm5442194', category='producer'),\n",
              " Row(tconst='tt0000003', ordering='3', nconst='nm1335271', category='composer'),\n",
              " Row(tconst='tt0000003', ordering='4', nconst='nm5442200', category='editor'),\n",
              " Row(tconst='tt0000004', ordering='1', nconst='nm0721526', category='director')]"
            ]
          },
          "metadata": {},
          "execution_count": 19
        }
      ]
    },
    {
      "cell_type": "code",
      "metadata": {
        "id": "6J47KoQ8wkrA",
        "colab": {
          "base_uri": "https://localhost:8080/"
        },
        "outputId": "739b887c-a689-416b-90f5-4e715adea435"
      },
      "source": [
        "# Read the \"tsv\" file with the Actor name's for each job\n",
        "\n",
        "actors = spark.read.csv(\"/content/name.basics.tsv/name.basics.tsv\", \n",
        "               sep=r'\\t', header=True).select(\"nconst\", \"primaryName\", \"birthYear\", \"deathYear\", \"knownForTitles\")\n",
        "\n",
        "print(actors.count())"
      ],
      "execution_count": 20,
      "outputs": [
        {
          "output_type": "stream",
          "name": "stdout",
          "text": [
            "9706922\n"
          ]
        }
      ]
    },
    {
      "cell_type": "code",
      "metadata": {
        "id": "_tYpAP-ECWen",
        "colab": {
          "base_uri": "https://localhost:8080/"
        },
        "outputId": "e6a44296-7f95-438a-b8fa-da676fa1d048"
      },
      "source": [
        "# Inspect if there are null values - ACTORS\n",
        "\n",
        "actors.select([count(when(isnan(c), c)).alias(c) for c in actors.columns]).show()"
      ],
      "execution_count": 21,
      "outputs": [
        {
          "output_type": "stream",
          "name": "stdout",
          "text": [
            "+------+-----------+---------+---------+--------------+\n",
            "|nconst|primaryName|birthYear|deathYear|knownForTitles|\n",
            "+------+-----------+---------+---------+--------------+\n",
            "|     0|          7|        0|        0|             0|\n",
            "+------+-----------+---------+---------+--------------+\n",
            "\n"
          ]
        }
      ]
    },
    {
      "cell_type": "code",
      "metadata": {
        "id": "BwD07ONEnN6s",
        "colab": {
          "base_uri": "https://localhost:8080/"
        },
        "outputId": "a8ad0808-110a-4e0d-dfa1-6ea991f8280a"
      },
      "source": [
        "# Remove the null values from the dataset\n",
        "\n",
        "actors = actors.filter(\"primaryName != 'Nan'\")\n",
        "\n",
        "print(actors.count())"
      ],
      "execution_count": 22,
      "outputs": [
        {
          "output_type": "stream",
          "name": "stdout",
          "text": [
            "9706915\n"
          ]
        }
      ]
    },
    {
      "cell_type": "code",
      "metadata": {
        "colab": {
          "base_uri": "https://localhost:8080/"
        },
        "id": "_GGrvJLezJKF",
        "outputId": "bacdca3b-4dd7-41e6-b3ba-e05cccd96307"
      },
      "source": [
        "actors.head(10)"
      ],
      "execution_count": 23,
      "outputs": [
        {
          "output_type": "execute_result",
          "data": {
            "text/plain": [
              "[Row(nconst='nm0000001', primaryName='Fred Astaire', birthYear='1899', deathYear='1987', knownForTitles='tt0050419,tt0053137,tt0072308,tt0043044'),\n",
              " Row(nconst='nm0000002', primaryName='Lauren Bacall', birthYear='1924', deathYear='2014', knownForTitles='tt0071877,tt0117057,tt0038355,tt0037382'),\n",
              " Row(nconst='nm0000003', primaryName='Brigitte Bardot', birthYear='1934', deathYear='\\\\N', knownForTitles='tt0054452,tt0049189,tt0059956,tt0057345'),\n",
              " Row(nconst='nm0000004', primaryName='John Belushi', birthYear='1949', deathYear='1982', knownForTitles='tt0077975,tt0072562,tt0080455,tt0078723'),\n",
              " Row(nconst='nm0000005', primaryName='Ingmar Bergman', birthYear='1918', deathYear='2007', knownForTitles='tt0069467,tt0050976,tt0083922,tt0050986'),\n",
              " Row(nconst='nm0000006', primaryName='Ingrid Bergman', birthYear='1915', deathYear='1982', knownForTitles='tt0038109,tt0036855,tt0077711,tt0038787'),\n",
              " Row(nconst='nm0000007', primaryName='Humphrey Bogart', birthYear='1899', deathYear='1957', knownForTitles='tt0043265,tt0033870,tt0034583,tt0037382'),\n",
              " Row(nconst='nm0000008', primaryName='Marlon Brando', birthYear='1924', deathYear='2004', knownForTitles='tt0070849,tt0078788,tt0044081,tt0068646'),\n",
              " Row(nconst='nm0000009', primaryName='Richard Burton', birthYear='1925', deathYear='1984', knownForTitles='tt0057877,tt0087803,tt0061184,tt0059749'),\n",
              " Row(nconst='nm0000010', primaryName='James Cagney', birthYear='1899', deathYear='1986', knownForTitles='tt0035575,tt0031867,tt0042041,tt0029870')]"
            ]
          },
          "metadata": {},
          "execution_count": 23
        }
      ]
    },
    {
      "cell_type": "code",
      "metadata": {
        "id": "Vlsv-0929DU4",
        "colab": {
          "base_uri": "https://localhost:8080/"
        },
        "outputId": "ca805db0-86f1-41b3-e773-ecad6e836f09"
      },
      "source": [
        "# Extract the list of movies from the titles DataFrame\n",
        "\n",
        "print('Number of movies in the Dataset: {}\\n'.format(titles.filter(titles.titleType == \"movie\").select(\"tconst\", \"titleType\", \"primaryTitle\") \\\n",
        "            .rdd.map(lambda row : row[:3]).count()))\n",
        "\n",
        "(titles.filter(titles.titleType == \"movie\").select(\"tconst\", \"titleType\", \"primaryTitle\") \\\n",
        "            .rdd.map(lambda row : row[:3]).take(50))"
      ],
      "execution_count": 24,
      "outputs": [
        {
          "output_type": "stream",
          "name": "stdout",
          "text": [
            "Number of movies in the Dataset: 536032\n",
            "\n"
          ]
        },
        {
          "output_type": "execute_result",
          "data": {
            "text/plain": [
              "[('tt0000009', 'movie', 'Miss Jerry'),\n",
              " ('tt0000147', 'movie', 'The Corbett-Fitzsimmons Fight'),\n",
              " ('tt0000335', 'movie', 'Soldiers of the Cross'),\n",
              " ('tt0000502', 'movie', 'Bohemios'),\n",
              " ('tt0000574', 'movie', 'The Story of the Kelly Gang'),\n",
              " ('tt0000615', 'movie', 'Robbery Under Arms'),\n",
              " ('tt0000630', 'movie', 'Hamlet'),\n",
              " ('tt0000675', 'movie', 'Don Quijote'),\n",
              " ('tt0000676', 'movie', 'Don Álvaro o la fuerza del sino'),\n",
              " ('tt0000679', 'movie', 'The Fairylogue and Radio-Plays'),\n",
              " ('tt0000739', 'movie', 'El pastorcito de Torrente'),\n",
              " ('tt0000793', 'movie', 'Andreas Hofer'),\n",
              " ('tt0000812', 'movie', 'El blocao Velarde'),\n",
              " ('tt0000814', 'movie', 'La bocana de Mar Chica'),\n",
              " ('tt0000838', 'movie', 'A Cultura do Cacau'),\n",
              " ('tt0000842', 'movie', 'De Garraf a Barcelona'),\n",
              " ('tt0000846', 'movie', 'Un día en Xochimilco'),\n",
              " ('tt0000850', 'movie', 'Los dos hermanos'),\n",
              " ('tt0000859', 'movie', 'Fabricación del corcho en Sant Feliu de Guixols'),\n",
              " ('tt0000862', 'movie', 'Faldgruben'),\n",
              " ('tt0000867', 'movie', 'Fiesta de toros'),\n",
              " ('tt0000868', 'movie', 'Fiestas de Santa Lucía - Belenes'),\n",
              " ('tt0000869', 'movie', 'Fiestas en La Garriga'),\n",
              " ('tt0000879', 'movie', 'Gira política de Madero y Pino Suárez'),\n",
              " ('tt0000886', 'movie', 'Hamlet, Prince of Denmark'),\n",
              " ('tt0000891', 'movie', 'Cycle Rider and the Witch'),\n",
              " ('tt0000941', 'movie', 'Locura de amor'),\n",
              " ('tt0000947', 'movie', 'Lægens offer'),\n",
              " ('tt0000959', 'movie', 'Melilla y el Gurugu'),\n",
              " ('tt0000984', 'movie', 'Niños en la alameda'),\n",
              " ('tt0000992', 'movie', 'De onde Veje'),\n",
              " ('tt0001007', 'movie', 'La primera y segunda casetas'),\n",
              " ('tt0001010',\n",
              "  'movie',\n",
              "  'Protección de un convoy de víveres en el puente de camellos'),\n",
              " ('tt0001028', 'movie', 'Salome Mad'),\n",
              " ('tt0001038', 'movie', 'Sherlock Holmes VI'),\n",
              " ('tt0001043', 'movie', \"Smith's Knockabout Theatre\"),\n",
              " ('tt0001049', 'movie', 'Gøngehøvdingen'),\n",
              " ('tt0001051', 'movie', 'El sueño milagroso'),\n",
              " ('tt0001059', 'movie', 'O Terremoto de Benavente'),\n",
              " ('tt0001068', 'movie', 'Toma caseta Z'),\n",
              " ('tt0001069', 'movie', 'Toma del Gurugu'),\n",
              " ('tt0001080', 'movie', 'Two of the Boys'),\n",
              " ('tt0001081', 'movie', 'La vida en el campamento'),\n",
              " ('tt0001082', 'movie', 'Viernes de dolores'),\n",
              " ('tt0001101', 'movie', \"Abraham Lincoln's Clemency\"),\n",
              " ('tt0001109', 'movie', \"L'aluminite\"),\n",
              " ('tt0001112', 'movie', 'Amleto'),\n",
              " ('tt0001113', 'movie', 'Amor gitano'),\n",
              " ('tt0001115', 'movie', 'Ansigttyven I'),\n",
              " ('tt0001116', 'movie', 'Ansigttyven II')]"
            ]
          },
          "metadata": {},
          "execution_count": 24
        }
      ]
    },
    {
      "cell_type": "code",
      "metadata": {
        "id": "-xSN7uAlr3Vq",
        "colab": {
          "base_uri": "https://localhost:8080/"
        },
        "outputId": "e904307d-70c5-41a6-a79a-141264a347b9"
      },
      "source": [
        "# Create a DataFrame containing the actors and the movies they played in\n",
        "\n",
        "df_actors = job.filter((job.category == \"actor\") | (job.category == \"actress\")).select(\"tconst\", \"nconst\", \"category\")\n",
        "\n",
        "\n",
        "# Get the name of the actors for each movie played (with repetitions)\n",
        "\n",
        "df_actors = df_actors.join(actors, df_actors.nconst == actors.nconst) \\\n",
        "                     .select(df_actors.tconst, df_actors.nconst, \"primaryName\", \"category\")\n",
        "\n",
        "\n",
        "# Retrieve from the \"titles\" table only the movies (\"tytleType\"), by not including for example tvseries (Episode #1.x)\n",
        "\n",
        "only_movies = titles.filter(titles.titleType == \"movie\").select(\"tconst\", \"titleType\", \"primaryTitle\")\n",
        "\n",
        "\n",
        "# Connect each actor with the movies he/she played in\n",
        "\n",
        "df_actors = df_actors.join(only_movies, df_actors.tconst == only_movies.tconst) \\\n",
        "                     .select(df_actors.tconst, df_actors.nconst, \"primaryName\", \"category\", \"titleType\", \"primaryTitle\")\n",
        "\n",
        "print(df_actors.count())"
      ],
      "execution_count": 25,
      "outputs": [
        {
          "output_type": "stream",
          "name": "stdout",
          "text": [
            "1692933\n"
          ]
        }
      ]
    },
    {
      "cell_type": "code",
      "metadata": {
        "id": "O-rYkn-S5ouB",
        "colab": {
          "base_uri": "https://localhost:8080/"
        },
        "outputId": "275d573f-c280-47e7-dff4-814d00dd7799"
      },
      "source": [
        "df_actors.show(50)"
      ],
      "execution_count": 26,
      "outputs": [
        {
          "output_type": "stream",
          "name": "stdout",
          "text": [
            "+---------+---------+--------------------+--------+---------+--------------------+\n",
            "|   tconst|   nconst|         primaryName|category|titleType|        primaryTitle|\n",
            "+---------+---------+--------------------+--------+---------+--------------------+\n",
            "|tt0002591|nm0509573|       Harry Liedtke|   actor|    movie|             Zu spät|\n",
            "|tt0002591|nm0029806|Martha Angerstein...| actress|    movie|             Zu spät|\n",
            "|tt0003689|nm0585503| George W. Middleton|   actor|    movie|          Born Again|\n",
            "|tt0003689|nm0694718|      Beulah Poynter| actress|    movie|          Born Again|\n",
            "|tt0003689|nm0101071|         John Bowers|   actor|    movie|          Born Again|\n",
            "|tt0003689|nm0910564|      Mrs. E. Walton| actress|    movie|          Born Again|\n",
            "|tt0003689|nm0527801|        Octave Luzon|   actor|    movie|          Born Again|\n",
            "|tt0003689|nm0399988|       Wilbur Hudson|   actor|    movie|          Born Again|\n",
            "|tt0003689|nm0728289|   William S. Rising|   actor|    movie|          Born Again|\n",
            "|tt0004272|nm0776747|        Harry Schumm|   actor|    movie|Lucille Love: The...|\n",
            "|tt0004272|nm0383278|        Wilbur Higby|   actor|    movie|Lucille Love: The...|\n",
            "|tt0004272|nm0285643|        Francis Ford|   actor|    movie|Lucille Love: The...|\n",
            "|tt0004272|nm0445507|        Edgar Keller|   actor|    movie|Lucille Love: The...|\n",
            "|tt0004272|nm0492302|          Burton Law|   actor|    movie|Lucille Love: The...|\n",
            "|tt0004272|nm0092665|        Eddie Boland|   actor|    movie|Lucille Love: The...|\n",
            "|tt0004272|nm0368875|       Jean Hathaway| actress|    movie|Lucille Love: The...|\n",
            "|tt0004272|nm0192062|        Grace Cunard| actress|    movie|Lucille Love: The...|\n",
            "|tt0004272|nm0793189|      Ernest Shields|   actor|    movie|Lucille Love: The...|\n",
            "|tt0004336|nm0478359|   Florence La Badie| actress|    movie|The Million Dolla...|\n",
            "|tt0004336|nm0102718|       Sidney Bracey|   actor|    movie|The Million Dolla...|\n",
            "|tt0004336|nm0268437|    Frank Farrington|   actor|    movie|The Million Dolla...|\n",
            "|tt0004336|nm0811293|     Marguerite Snow| actress|    movie|The Million Dolla...|\n",
            "|tt0004336|nm0190516|         James Cruze|   actor|    movie|The Million Dolla...|\n",
            "|tt0005209|nm0394389|   DeWolf Hopper Sr.|   actor|    movie|         Don Quixote|\n",
            "|tt0005209|nm0269671|          Julia Faye| actress|    movie|         Don Quixote|\n",
            "|tt0005209|nm0863863|         Fay Tincher| actress|    movie|         Don Quixote|\n",
            "|tt0005209|nm0203439|        Max Davidson|   actor|    movie|         Don Quixote|\n",
            "|tt0005209|nm0909648|        George Walsh|   actor|    movie|         Don Quixote|\n",
            "|tt0005209|nm0593671|       Rhea Mitchell| actress|    movie|         Don Quixote|\n",
            "|tt0005605|nm0322794|   Ellis F. Glickman|   actor|    movie|    The Last Concert|\n",
            "|tt0005605|nm0668525|         Lucy Payton| actress|    movie|    The Last Concert|\n",
            "|tt0005605|nm0364218|       W.H. Harriman|   actor|    movie|    The Last Concert|\n",
            "|tt0005605|nm0061746|        Arthur Bauer|   actor|    movie|    The Last Concert|\n",
            "|tt0005605|nm0075601|       Minnie Berlin| actress|    movie|    The Last Concert|\n",
            "|tt0005605|nm0304236|          Nolan Gane|   actor|    movie|    The Last Concert|\n",
            "|tt0005793|nm0493083|    Wingold Lawrence|   actor|    movie| Mysteries of London|\n",
            "|tt0005793|nm0606530|        Flora Morris| actress|    movie| Mysteries of London|\n",
            "|tt0006204|nm0000909|   Constance Bennett| actress|    movie|The Valley of Dec...|\n",
            "|tt0006204|nm0000910|        Joan Bennett| actress|    movie|The Valley of Dec...|\n",
            "|tt0006204|nm0071618|     Blanche Bennett| actress|    movie|The Valley of Dec...|\n",
            "|tt0006204|nm0673814|     George Periolat|   actor|    movie|The Valley of Dec...|\n",
            "|tt0006204|nm0071601|     Barbara Bennett| actress|    movie|The Valley of Dec...|\n",
            "|tt0006204|nm0071992|     Richard Bennett|   actor|    movie|The Valley of Dec...|\n",
            "|tt0006204|nm0507655|         Rhoda Lewis| actress|    movie|The Valley of Dec...|\n",
            "|tt0006204|nm0607056|   Adrienne Morrison| actress|    movie|The Valley of Dec...|\n",
            "|tt0006207|nm0356267|        Henry Hallam|   actor|    movie|The Vanderhoff Af...|\n",
            "|tt0006207|nm0135474| Francesca Cappelano| actress|    movie|The Vanderhoff Af...|\n",
            "|tt0006207|nm0285950|           Hal Forde|   actor|    movie|The Vanderhoff Af...|\n",
            "|tt0006207|nm0183994|  Marguerite Courtot| actress|    movie|The Vanderhoff Af...|\n",
            "|tt0006207|nm0235634|       T. Justin Dow|   actor|    movie|The Vanderhoff Af...|\n",
            "+---------+---------+--------------------+--------+---------+--------------------+\n",
            "only showing top 50 rows\n",
            "\n"
          ]
        }
      ]
    },
    {
      "cell_type": "code",
      "metadata": {
        "id": "2E2XEqiAEOWS",
        "colab": {
          "base_uri": "https://localhost:8080/"
        },
        "outputId": "c7ebd0bf-d7fc-4c7b-f54b-00da092f5f02"
      },
      "source": [
        "# Look a the first ten movies with the most number of actors\n",
        "\n",
        "from pyspark.sql.functions import desc\n",
        "\n",
        "df_actors.groupBy([\"tconst\", \"PrimaryTitle\"]).count().sort(desc(\"count\")).head(10)"
      ],
      "execution_count": 27,
      "outputs": [
        {
          "output_type": "execute_result",
          "data": {
            "text/plain": [
              "[Row(tconst='tt0205101', PrimaryTitle='The Grue Crew', count=10),\n",
              " Row(tconst='tt0816517', PrimaryTitle='The Gypsy Ball', count=10),\n",
              " Row(tconst='tt3166672', PrimaryTitle='Emmanuelle Through Time: Rod Steele 0014 & Naked Agent 0069', count=10),\n",
              " Row(tconst='tt0259293', PrimaryTitle='En Thangai Kalyani', count=10),\n",
              " Row(tconst='tt4921338', PrimaryTitle='The Break-In', count=10),\n",
              " Row(tconst='tt5870174', PrimaryTitle='Batman Beyond: Rising Knight', count=10),\n",
              " Row(tconst='tt9347518', PrimaryTitle='Stick To The Status Quo', count=10),\n",
              " Row(tconst='tt3611440', PrimaryTitle='Home in Time for War', count=10),\n",
              " Row(tconst='tt0404419', PrimaryTitle='El sexenio de la muerte', count=10),\n",
              " Row(tconst='tt2289062', PrimaryTitle=\"Another 'Brief' Case\", count=10)]"
            ]
          },
          "metadata": {},
          "execution_count": 27
        }
      ]
    },
    {
      "cell_type": "code",
      "metadata": {
        "colab": {
          "base_uri": "https://localhost:8080/"
        },
        "id": "ueo8f5obZ0c3",
        "outputId": "f6527542-933c-4102-ca2e-a79833b01c07"
      },
      "source": [
        "# Erroneously grouping of the movies by \"PrimaryTitle\"\n",
        "\n",
        "df_actors.groupBy(\"PrimaryTitle\").count().sort(desc(\"count\")).head(10)"
      ],
      "execution_count": 28,
      "outputs": [
        {
          "output_type": "execute_result",
          "data": {
            "text/plain": [
              "[Row(PrimaryTitle='Hamlet', count=145),\n",
              " Row(PrimaryTitle='Macbeth', count=140),\n",
              " Row(PrimaryTitle='Honeymoon', count=139),\n",
              " Row(PrimaryTitle='Broken', count=131),\n",
              " Row(PrimaryTitle='Alone', count=128),\n",
              " Row(PrimaryTitle='Love', count=127),\n",
              " Row(PrimaryTitle='Desire', count=125),\n",
              " Row(PrimaryTitle='Mother', count=123),\n",
              " Row(PrimaryTitle='Homecoming', count=117),\n",
              " Row(PrimaryTitle='Revenge', count=115)]"
            ]
          },
          "metadata": {},
          "execution_count": 28
        }
      ]
    },
    {
      "cell_type": "markdown",
      "metadata": {
        "id": "uBcTX4F7a45Z"
      },
      "source": [
        "---"
      ]
    },
    {
      "cell_type": "markdown",
      "metadata": {
        "id": "myMzhs21a7BJ"
      },
      "source": [
        "## Project 2: Market-basket analysis\n",
        "\n",
        "The task is to implement a system finding frequent itemsets (aka market-basket analysis), analyzing one of the two datasets described below.\n",
        "IMDB\n",
        "The «​IMDB​» dataset is published on Kaggle, under I​MDB non-commercial licensing​. The analysis must be done considering movies as baskets and actors as items.\n",
        "\n",
        "In general, we only need small frequent itemsets with *k* that nevers grows beyond 2 or 3 (subset size)."
      ]
    },
    {
      "cell_type": "code",
      "metadata": {
        "id": "TcxcGG2PCEFL",
        "colab": {
          "base_uri": "https://localhost:8080/"
        },
        "outputId": "68f93d47-9c55-4edd-c437-470ae9ab209f"
      },
      "source": [
        "# Create the set of baskets (movies) with items (actors) as a list of items for each each basket [[item1, item2, ...], ..., []]\n",
        "\n",
        "from pyspark.sql import functions as F\n",
        "\n",
        "baskets_list = (df_actors.groupby(\"tconst\").agg(F.collect_list(\"primaryName\")).rdd.map(lambda row: row[1]).collect())\n",
        "\n",
        "print(len(baskets_list))"
      ],
      "execution_count": 29,
      "outputs": [
        {
          "output_type": "stream",
          "name": "stdout",
          "text": [
            "393653\n"
          ]
        }
      ]
    },
    {
      "cell_type": "code",
      "metadata": {
        "id": "KAirWPZoFdQe",
        "colab": {
          "base_uri": "https://localhost:8080/"
        },
        "outputId": "0f01b260-0fe2-4532-f4ef-f5b49908a878"
      },
      "source": [
        "baskets_list[:10]"
      ],
      "execution_count": 30,
      "outputs": [
        {
          "output_type": "execute_result",
          "data": {
            "text/plain": [
              "[['Harry Liedtke', 'Martha Angerstein-Licho'],\n",
              " ['George W. Middleton',\n",
              "  'Beulah Poynter',\n",
              "  'John Bowers',\n",
              "  'Mrs. E. Walton',\n",
              "  'Octave Luzon',\n",
              "  'Wilbur Hudson',\n",
              "  'William S. Rising'],\n",
              " ['Harry Schumm',\n",
              "  'Wilbur Higby',\n",
              "  'Francis Ford',\n",
              "  'Edgar Keller',\n",
              "  'Burton Law',\n",
              "  'Eddie Boland',\n",
              "  'Jean Hathaway',\n",
              "  'Grace Cunard',\n",
              "  'Ernest Shields'],\n",
              " ['Florence La Badie',\n",
              "  'Sidney Bracey',\n",
              "  'Frank Farrington',\n",
              "  'Marguerite Snow',\n",
              "  'James Cruze'],\n",
              " ['DeWolf Hopper Sr.',\n",
              "  'Julia Faye',\n",
              "  'Fay Tincher',\n",
              "  'Max Davidson',\n",
              "  'George Walsh',\n",
              "  'Rhea Mitchell'],\n",
              " ['Ellis F. Glickman',\n",
              "  'Lucy Payton',\n",
              "  'W.H. Harriman',\n",
              "  'Arthur Bauer',\n",
              "  'Minnie Berlin',\n",
              "  'Nolan Gane'],\n",
              " ['Wingold Lawrence', 'Flora Morris'],\n",
              " ['Constance Bennett',\n",
              "  'Joan Bennett',\n",
              "  'Blanche Bennett',\n",
              "  'George Periolat',\n",
              "  'Barbara Bennett',\n",
              "  'Richard Bennett',\n",
              "  'Rhoda Lewis',\n",
              "  'Adrienne Morrison'],\n",
              " ['Henry Hallam',\n",
              "  'Francesca Cappelano',\n",
              "  'Hal Forde',\n",
              "  'Marguerite Courtot',\n",
              "  'T. Justin Dow',\n",
              "  'Helen Lindroth'],\n",
              " ['Martin Kinney', 'James A. Marcus', 'George Walsh', 'Doris Pawn']]"
            ]
          },
          "metadata": {},
          "execution_count": 30
        }
      ]
    },
    {
      "cell_type": "markdown",
      "metadata": {
        "id": "C4cQdobk6ixt"
      },
      "source": [
        "## A-Priori algorithm\n",
        "\n",
        "It is designed to reduce the number of pairs that must be counted, at the expense of performing two passes over the data."
      ]
    },
    {
      "cell_type": "code",
      "metadata": {
        "id": "d-r2c6_jCLI1",
        "colab": {
          "base_uri": "https://localhost:8080/"
        },
        "outputId": "82de007b-d8f0-4882-a445-045f4c7cdab6"
      },
      "source": [
        "# Get the unique name of actors in the list of baskets and hash each of them to a unique integer (from 0 to n)\n",
        "\n",
        "items_to_hash = dict(enumerate(sc.parallelize(baskets_list).flatMap(lambda bask: bask).distinct().collect(), 0))\n",
        "\n",
        "print(len(items_to_hash))"
      ],
      "execution_count": 31,
      "outputs": [
        {
          "output_type": "stream",
          "name": "stdout",
          "text": [
            "560653\n"
          ]
        }
      ]
    },
    {
      "cell_type": "code",
      "metadata": {
        "id": "S9WKQabKo1ak",
        "colab": {
          "base_uri": "https://localhost:8080/"
        },
        "outputId": "90d91b9d-71b2-4859-f94e-d93ca2c0d86d"
      },
      "source": [
        "list(items_to_hash.items())[:10]"
      ],
      "execution_count": 32,
      "outputs": [
        {
          "output_type": "execute_result",
          "data": {
            "text/plain": [
              "[(0, 'Harry Liedtke'),\n",
              " (1, 'Martha Angerstein-Licho'),\n",
              " (2, 'George W. Middleton'),\n",
              " (3, 'Beulah Poynter'),\n",
              " (4, 'John Bowers'),\n",
              " (5, 'Mrs. E. Walton'),\n",
              " (6, 'Octave Luzon'),\n",
              " (7, 'Wilbur Hudson'),\n",
              " (8, 'William S. Rising'),\n",
              " (9, 'Harry Schumm')]"
            ]
          },
          "metadata": {},
          "execution_count": 32
        }
      ]
    },
    {
      "cell_type": "code",
      "metadata": {
        "id": "8cb3pLbAIr3D",
        "colab": {
          "base_uri": "https://localhost:8080/"
        },
        "outputId": "18f7f2bc-9334-48f8-e8f4-a947c7ff1be4"
      },
      "source": [
        "# Alternative dictionary with items as keys and hash as values (used to remap integers to actors name)\n",
        "\n",
        "key_actors = dict(zip(items_to_hash.values(), items_to_hash.keys()))\n",
        "\n",
        "print(len(key_actors))"
      ],
      "execution_count": 33,
      "outputs": [
        {
          "output_type": "stream",
          "name": "stdout",
          "text": [
            "560653\n"
          ]
        }
      ]
    },
    {
      "cell_type": "code",
      "metadata": {
        "id": "qguOTJV3o0h8",
        "colab": {
          "base_uri": "https://localhost:8080/"
        },
        "outputId": "37c70317-61d7-4beb-8f76-e2cd29126121"
      },
      "source": [
        "list(key_actors.items())[:10]"
      ],
      "execution_count": 34,
      "outputs": [
        {
          "output_type": "execute_result",
          "data": {
            "text/plain": [
              "[('Harry Liedtke', 0),\n",
              " ('Martha Angerstein-Licho', 1),\n",
              " ('George W. Middleton', 2),\n",
              " ('Beulah Poynter', 3),\n",
              " ('John Bowers', 4),\n",
              " ('Mrs. E. Walton', 5),\n",
              " ('Octave Luzon', 6),\n",
              " ('Wilbur Hudson', 7),\n",
              " ('William S. Rising', 8),\n",
              " ('Harry Schumm', 9)]"
            ]
          },
          "metadata": {},
          "execution_count": 34
        }
      ]
    },
    {
      "cell_type": "code",
      "metadata": {
        "id": "F9giknXibc0o",
        "colab": {
          "base_uri": "https://localhost:8080/"
        },
        "outputId": "b71e5b8d-ef87-4879-bfed-b87008ac5e13"
      },
      "source": [
        "# Hash table\n",
        "\n",
        "spark.createDataFrame(items_to_hash.items(), schema = [\"Hash\", \"Item\"]).show(50)"
      ],
      "execution_count": 35,
      "outputs": [
        {
          "output_type": "stream",
          "name": "stdout",
          "text": [
            "+----+--------------------+\n",
            "|Hash|                Item|\n",
            "+----+--------------------+\n",
            "|   0|       Harry Liedtke|\n",
            "|   1|Martha Angerstein...|\n",
            "|   2| George W. Middleton|\n",
            "|   3|      Beulah Poynter|\n",
            "|   4|         John Bowers|\n",
            "|   5|      Mrs. E. Walton|\n",
            "|   6|        Octave Luzon|\n",
            "|   7|       Wilbur Hudson|\n",
            "|   8|   William S. Rising|\n",
            "|   9|        Harry Schumm|\n",
            "|  10|        Wilbur Higby|\n",
            "|  11|        Francis Ford|\n",
            "|  12|        Edgar Keller|\n",
            "|  13|          Burton Law|\n",
            "|  14|        Eddie Boland|\n",
            "|  15|       Jean Hathaway|\n",
            "|  16|        Grace Cunard|\n",
            "|  17|      Ernest Shields|\n",
            "|  18|   Florence La Badie|\n",
            "|  19|       Sidney Bracey|\n",
            "|  20|    Frank Farrington|\n",
            "|  21|     Marguerite Snow|\n",
            "|  22|         James Cruze|\n",
            "|  23|   DeWolf Hopper Sr.|\n",
            "|  24|          Julia Faye|\n",
            "|  25|         Fay Tincher|\n",
            "|  26|        Max Davidson|\n",
            "|  27|        George Walsh|\n",
            "|  28|       Rhea Mitchell|\n",
            "|  29|   Ellis F. Glickman|\n",
            "|  30|         Lucy Payton|\n",
            "|  31|       W.H. Harriman|\n",
            "|  32|        Arthur Bauer|\n",
            "|  33|       Minnie Berlin|\n",
            "|  34|          Nolan Gane|\n",
            "|  35|    Wingold Lawrence|\n",
            "|  36|        Flora Morris|\n",
            "|  37|   Constance Bennett|\n",
            "|  38|        Joan Bennett|\n",
            "|  39|     Blanche Bennett|\n",
            "|  40|     George Periolat|\n",
            "|  41|     Barbara Bennett|\n",
            "|  42|     Richard Bennett|\n",
            "|  43|         Rhoda Lewis|\n",
            "|  44|   Adrienne Morrison|\n",
            "|  45|        Henry Hallam|\n",
            "|  46| Francesca Cappelano|\n",
            "|  47|           Hal Forde|\n",
            "|  48|  Marguerite Courtot|\n",
            "|  49|       T. Justin Dow|\n",
            "+----+--------------------+\n",
            "only showing top 50 rows\n",
            "\n"
          ]
        }
      ]
    },
    {
      "cell_type": "code",
      "metadata": {
        "id": "tzqON3js2oIt",
        "colab": {
          "base_uri": "https://localhost:8080/"
        },
        "outputId": "4633d29c-ab45-4701-827b-24f1a47fbd33"
      },
      "source": [
        "# Format the list of baskets with actors to baskets with the corresponding hash values\n",
        "\n",
        "baskets_hash = (sc.parallelize(baskets_list)\n",
        "                  .map(lambda basket: [key_actors[item] for item in basket])\n",
        "                  .collect())\n",
        "\n",
        "baskets_hash[:50]"
      ],
      "execution_count": 36,
      "outputs": [
        {
          "output_type": "execute_result",
          "data": {
            "text/plain": [
              "[[0, 1],\n",
              " [2, 3, 4, 5, 6, 7, 8],\n",
              " [9, 10, 11, 12, 13, 14, 15, 16, 17],\n",
              " [18, 19, 20, 21, 22],\n",
              " [23, 24, 25, 26, 27, 28],\n",
              " [29, 30, 31, 32, 33, 34],\n",
              " [35, 36],\n",
              " [37, 38, 39, 40, 41, 42, 43, 44],\n",
              " [45, 46, 47, 48, 49, 50],\n",
              " [51, 52, 27, 53],\n",
              " [54, 55, 56, 57],\n",
              " [58, 59, 60, 61, 62, 63],\n",
              " [64, 65, 66, 67],\n",
              " [68, 69, 70, 71, 72],\n",
              " [73, 74, 75, 36, 76, 77],\n",
              " [78, 79, 80, 81],\n",
              " [82, 83, 84, 85, 86, 87, 88, 89],\n",
              " [90, 91, 92, 93, 94, 95],\n",
              " [96, 97, 98],\n",
              " [99, 100, 101, 102],\n",
              " [103, 104, 105, 106, 107, 108],\n",
              " [109, 110, 111, 112, 113, 114],\n",
              " [115, 116, 103, 117, 118, 119],\n",
              " [120, 121, 122, 123],\n",
              " [124, 125, 126, 127, 128, 129],\n",
              " [130, 131, 132, 133, 134, 135, 136, 137],\n",
              " [138, 139, 140, 141],\n",
              " [142, 143, 144, 145, 146, 147],\n",
              " [148, 149],\n",
              " [150, 151, 152, 153, 154, 155],\n",
              " [156, 157, 158, 159, 160, 161, 162],\n",
              " [163, 146, 164, 165],\n",
              " [166, 167, 168, 169, 170],\n",
              " [171, 172, 173, 174, 175],\n",
              " [176, 177, 178, 179, 180, 181],\n",
              " [182, 183, 184, 185, 186, 187],\n",
              " [188, 189, 190, 191, 192],\n",
              " [193, 194, 195, 196, 197, 198],\n",
              " [199, 200, 201, 202, 203, 204, 205, 206],\n",
              " [207, 208, 209, 210, 211, 212],\n",
              " [213, 214, 215, 216, 217, 218],\n",
              " [219, 220, 221, 222],\n",
              " [223, 224, 225, 226, 227, 228, 229, 230, 231],\n",
              " [232, 233, 234, 235, 236, 237, 238, 239, 240],\n",
              " [10, 241, 242, 243, 244, 245, 246],\n",
              " [247, 248, 249, 66, 250],\n",
              " [251],\n",
              " [252, 253, 254, 255],\n",
              " [256, 257, 258, 259, 260],\n",
              " [261, 262, 263, 264, 265]]"
            ]
          },
          "metadata": {},
          "execution_count": 36
        }
      ]
    },
    {
      "cell_type": "code",
      "metadata": {
        "id": "T-_n__B8HcGr",
        "colab": {
          "base_uri": "https://localhost:8080/"
        },
        "outputId": "420d67d6-079b-4bc5-ff95-7303323ef792"
      },
      "source": [
        "# Count the occurrence of each item over all the baskets - SINGLETON (itemsets of size 1)\n",
        "\n",
        "array_counts = sorted((sc.parallelize(baskets_hash)\n",
        "                          .flatMap(lambda basket: [(item, 1) for item in basket])\n",
        "                          .reduceByKey(lambda a, b: a + b)\n",
        "                          .collect()), key=lambda a: a[0], reverse=False)\n",
        "\n",
        "print(len(array_counts))"
      ],
      "execution_count": 37,
      "outputs": [
        {
          "output_type": "stream",
          "name": "stdout",
          "text": [
            "560653\n"
          ]
        }
      ]
    },
    {
      "cell_type": "code",
      "metadata": {
        "id": "CETgqY_jmAaE",
        "colab": {
          "base_uri": "https://localhost:8080/"
        },
        "outputId": "9328890c-6885-4de5-fc92-6c384b08d67f"
      },
      "source": [
        "array_counts[:50]"
      ],
      "execution_count": 38,
      "outputs": [
        {
          "output_type": "execute_result",
          "data": {
            "text/plain": [
              "[(0, 132),\n",
              " (1, 13),\n",
              " (2, 5),\n",
              " (3, 6),\n",
              " (4, 89),\n",
              " (5, 2),\n",
              " (6, 1),\n",
              " (7, 3),\n",
              " (8, 2),\n",
              " (9, 3),\n",
              " (10, 35),\n",
              " (11, 56),\n",
              " (12, 4),\n",
              " (13, 7),\n",
              " (14, 6),\n",
              " (15, 12),\n",
              " (16, 24),\n",
              " (17, 14),\n",
              " (18, 19),\n",
              " (19, 33),\n",
              " (20, 8),\n",
              " (21, 29),\n",
              " (22, 25),\n",
              " (23, 6),\n",
              " (24, 20),\n",
              " (25, 7),\n",
              " (26, 19),\n",
              " (27, 62),\n",
              " (28, 30),\n",
              " (29, 1),\n",
              " (30, 7),\n",
              " (31, 1),\n",
              " (32, 19),\n",
              " (33, 1),\n",
              " (34, 2),\n",
              " (35, 5),\n",
              " (36, 6),\n",
              " (37, 51),\n",
              " (38, 68),\n",
              " (39, 1),\n",
              " (40, 50),\n",
              " (41, 3),\n",
              " (42, 22),\n",
              " (43, 1),\n",
              " (44, 6),\n",
              " (45, 24),\n",
              " (46, 2),\n",
              " (47, 4),\n",
              " (48, 27),\n",
              " (49, 1)]"
            ]
          },
          "metadata": {},
          "execution_count": 38
        }
      ]
    },
    {
      "cell_type": "code",
      "metadata": {
        "id": "2rEu9yRND3kG",
        "colab": {
          "base_uri": "https://localhost:8080/"
        },
        "outputId": "130c11f6-def8-47f7-f83b-76323cbe52eb"
      },
      "source": [
        "# Format the frequent triples from items to actors names\n",
        "\n",
        "actors_counts = sorted((sc.parallelize(array_counts)\n",
        "                          .map(lambda basket: ((items_to_hash[basket[0]], basket[1])))\n",
        "                          .collect()), key=lambda a: a[1], reverse = True)\n",
        "\n",
        "print(len(actors_counts))"
      ],
      "execution_count": 39,
      "outputs": [
        {
          "output_type": "stream",
          "name": "stdout",
          "text": [
            "560653\n"
          ]
        }
      ]
    },
    {
      "cell_type": "code",
      "metadata": {
        "id": "oJGF_8KtYvfC",
        "colab": {
          "base_uri": "https://localhost:8080/"
        },
        "outputId": "d436c718-6654-43dd-fbdd-42e7e23d9f5a"
      },
      "source": [
        "actors_counts[:100]"
      ],
      "execution_count": 40,
      "outputs": [
        {
          "output_type": "execute_result",
          "data": {
            "text/plain": [
              "[('Brahmanandam', 798),\n",
              " ('Adoor Bhasi', 585),\n",
              " ('Matsunosuke Onoe', 565),\n",
              " ('Eddie Garcia', 507),\n",
              " ('Prem Nazir', 438),\n",
              " ('Sung-il Shin', 411),\n",
              " ('Paquito Diaz', 391),\n",
              " ('Masayoshi Nogami', 387),\n",
              " ('Mammootty', 381),\n",
              " ('Aachi Manorama', 355),\n",
              " ('Bahadur', 348),\n",
              " ('Mohanlal', 344),\n",
              " ('Mithun Chakraborty', 330),\n",
              " ('Shivaji Ganesan', 323),\n",
              " ('Sultan Rahi', 315),\n",
              " ('Nagesh', 313),\n",
              " ('Shakti Kapoor', 310),\n",
              " ('Tom Byron', 303),\n",
              " ('Jayabharati', 303),\n",
              " ('Madhu', 303),\n",
              " ('Pandharibai', 303),\n",
              " ('Jagathi Sreekumar', 299),\n",
              " ('Ron Jeremy', 295),\n",
              " ('Cüneyt Arkin', 294),\n",
              " ('George Estregan', 292),\n",
              " ('Taraka Rama Rao Nandamuri', 287),\n",
              " ('Helen', 285),\n",
              " ('Ashok Kumar', 281),\n",
              " ('Anjali Devi', 276),\n",
              " ('Seiji Nakamitsu', 273),\n",
              " ('Dharmendra', 272),\n",
              " ('Max Alvarado', 265),\n",
              " ('Meena', 264),\n",
              " ('Anup Kumar', 264),\n",
              " ('Balkrishna', 261),\n",
              " ('Thikkurisi Sukumaran Nair', 260),\n",
              " ('Gummadi', 260),\n",
              " ('Pran', 256),\n",
              " ('Akkineni Nageshwara Rao', 255),\n",
              " ('Aruna Irani', 251),\n",
              " ('Sukumari', 250),\n",
              " ('Ali', 250),\n",
              " ('Eric Roberts', 249),\n",
              " ('Chiquito', 248),\n",
              " ('Sridevi', 247),\n",
              " ('Sharada', 247),\n",
              " ('Ji-mee Kim', 244),\n",
              " ('Fernando Poe Jr.', 243),\n",
              " ('Dolphy', 239),\n",
              " ('Raza Murad', 239),\n",
              " ('Kazuo Hasegawa', 236),\n",
              " ('Jeevan', 236),\n",
              " ('Soumitra Chatterjee', 235),\n",
              " ('Krishna Ghattamaneni', 234),\n",
              " ('Mario Almada', 234),\n",
              " ('Nedumudi Venu', 232),\n",
              " ('Kiran Kumar', 232),\n",
              " ('No-shik Park', 230),\n",
              " ('Rajkumar', 230),\n",
              " ('Kamal Haasan', 229),\n",
              " ('Joey Silvera', 228),\n",
              " ('Yeong-gyun Shin', 228),\n",
              " ('Jamie Gillis', 224),\n",
              " ('Mohan Babu', 223),\n",
              " ('Yuri Izumi', 219),\n",
              " ('Turgut Özatay', 218),\n",
              " ('Kaichi Yamamoto', 218),\n",
              " ('Lalita Pawar', 216),\n",
              " ('Ambika', 216),\n",
              " ('Master Bhagwan', 216),\n",
              " ('Prakash Raj', 215),\n",
              " ('Jayasudha', 214),\n",
              " ('Panchito', 214),\n",
              " ('Kayoko Sugi', 213),\n",
              " ('Jaya Prada', 211),\n",
              " ('Satyanarayana Kaikala', 210),\n",
              " ('Srividya', 210),\n",
              " ('Nirupa Roy', 209),\n",
              " ('Asrani', 208),\n",
              " ('Rekha', 208),\n",
              " ('Janardanan', 207),\n",
              " ('Ritoku Arashi', 207),\n",
              " ('Anupam Kher', 206),\n",
              " ('Prem Chopra', 206),\n",
              " ('Jin Kyu Kim', 206),\n",
              " ('Lakshmi', 205),\n",
              " ('K.P.A.C. Lalitha', 204),\n",
              " ('Gloria Romero', 204),\n",
              " ('Vilma Santos', 200),\n",
              " ('Kanjûrô Arashi', 200),\n",
              " ('Gulshan Grover', 198),\n",
              " ('Mukesh', 198),\n",
              " ('Raymond Hatton', 197),\n",
              " ('Hideo Fujino', 194),\n",
              " ('Shinji Kubo', 194),\n",
              " ('Jayaram', 194),\n",
              " ('Jeetendra', 193),\n",
              " ('Billy Dee', 192),\n",
              " ('Leopoldo Salcedo', 192),\n",
              " ('Makoto Sugimoto', 192)]"
            ]
          },
          "metadata": {},
          "execution_count": 40
        }
      ]
    },
    {
      "cell_type": "code",
      "metadata": {
        "id": "muKZX_OLlLtX",
        "colab": {
          "base_uri": "https://localhost:8080/"
        },
        "outputId": "effd72a4-a3ca-4de3-90bf-e26093e9e135"
      },
      "source": [
        "# Inspect the mean value of movies played by actors/actresses to set the support treshold\n",
        "\n",
        "print('Mean value of movies played by actors/actresses: {}'.format(round((sc.parallelize(array_counts).map(lambda tup: tup[1]).mean()), 2)))"
      ],
      "execution_count": 41,
      "outputs": [
        {
          "output_type": "stream",
          "name": "stdout",
          "text": [
            "Mean value of movies played by actors/actresses: 3.02\n"
          ]
        }
      ]
    },
    {
      "cell_type": "code",
      "metadata": {
        "colab": {
          "base_uri": "https://localhost:8080/",
          "height": 454
        },
        "id": "CnVv2muDpN2d",
        "outputId": "c12ae8b4-b76b-44a2-9c04-3c99de2c5763"
      },
      "source": [
        "# Boxplot of the distribution of counts in Log scale\n",
        "\n",
        "import seaborn as sns\n",
        "import matplotlib.pyplot as plt\n",
        "\n",
        "plt.figure(figsize=(10, 7))\n",
        "sns.set(style=\"darkgrid\")\n",
        "g = sns.boxplot(data=[val[1] for val in array_counts], linewidth=2, width=.6, orient=\"h\")\n",
        "g.set_xscale(\"log\")\n",
        "g.set(xlabel=\"Support Value\")\n",
        "plt.show()"
      ],
      "execution_count": 42,
      "outputs": [
        {
          "output_type": "display_data",
          "data": {
            "image/png": "[encoded data removed]",
            "text/plain": [
              "<Figure size 720x504 with 1 Axes>"
            ]
          },
          "metadata": {
            "needs_background": "light"
          }
        }
      ]
    },
    {
      "cell_type": "code",
      "metadata": {
        "colab": {
          "base_uri": "https://localhost:8080/"
        },
        "id": "HySSYOCVZeMl",
        "outputId": "ebd5f3c6-383c-47ab-9cbd-9e3fba182450"
      },
      "source": [
        "# Set the support threshold to the 95% percentile that corresponds to 10 movies played\n",
        "\n",
        "import numpy as np\n",
        "\n",
        "np.percentile([val[1] for val in array_counts], 95)"
      ],
      "execution_count": 43,
      "outputs": [
        {
          "output_type": "execute_result",
          "data": {
            "text/plain": [
              "10.0"
            ]
          },
          "metadata": {},
          "execution_count": 43
        }
      ]
    },
    {
      "cell_type": "code",
      "metadata": {
        "colab": {
          "base_uri": "https://localhost:8080/",
          "height": 450
        },
        "id": "ALg79U7n4P_g",
        "outputId": "c4a4f871-a941-442b-b40d-c2e79966f3f9"
      },
      "source": [
        "# Histogram of the distribution of counts in Log scale\n",
        "\n",
        "plt.figure(figsize=(10, 7))\n",
        "plt.hist(x=[val[1] for val in array_counts], log=True)\n",
        "plt.xlabel(\"Support value\")\n",
        "plt.ylabel(\"Counts\")\n",
        "plt.show()"
      ],
      "execution_count": 44,
      "outputs": [
        {
          "output_type": "display_data",
          "data": {
            "image/png": "[encoded data removed]",
            "text/plain": [
              "<Figure size 720x504 with 1 Axes>"
            ]
          },
          "metadata": {}
        }
      ]
    },
    {
      "cell_type": "code",
      "metadata": {
        "colab": {
          "base_uri": "https://localhost:8080/"
        },
        "id": "Ko-uofBXd5G0",
        "outputId": "5b866758-7110-41d0-db3c-fe192e9adb39"
      },
      "source": [
        "# Hashed value of the first-ranked actor for number of movies\n",
        "\n",
        "print(key_actors['Brahmanandam'], key_actors['Adoor Bhasi'], key_actors['Matsunosuke Onoe'])"
      ],
      "execution_count": 45,
      "outputs": [
        {
          "output_type": "stream",
          "name": "stdout",
          "text": [
            "4924 2024 4354\n"
          ]
        }
      ]
    },
    {
      "cell_type": "code",
      "metadata": {
        "colab": {
          "base_uri": "https://localhost:8080/"
        },
        "id": "d1n7TyrNlAfI",
        "outputId": "8f94de5f-14bb-43ff-c12c-5066167c0567"
      },
      "source": [
        "# Average length of each basket\n",
        "\n",
        "print(\"The average number of actors in each basket is: {}\".format(round((sc.parallelize(baskets_hash))\n",
        "                                                                           .map(lambda basket: len(basket))\n",
        "                                                                           .mean(), 2)))"
      ],
      "execution_count": 46,
      "outputs": [
        {
          "output_type": "stream",
          "name": "stdout",
          "text": [
            "The average number of actors in each basket is: 4.3\n"
          ]
        }
      ]
    },
    {
      "cell_type": "code",
      "metadata": {
        "colab": {
          "base_uri": "https://localhost:8080/"
        },
        "id": "cK2b4GcUV7W9",
        "outputId": "51297376-aba3-4280-c007-77595811262d"
      },
      "source": [
        "# Inspect the average number of actors in the movies played by \"Brahmanandam\"\n",
        "\n",
        "Brahmanandam_avgmovies = (sc.parallelize(baskets_hash)\n",
        "                            .map(lambda basket: len(basket) if 4924 in basket else 0)\n",
        "                            .collect())\n",
        "\n",
        "print(\"The average number of actors in the movies played by 'Brahmanandam' is : {}\".format(round(np.mean([val for val in Brahmanandam_avgmovies if val != 0]), 2)))"
      ],
      "execution_count": 47,
      "outputs": [
        {
          "output_type": "stream",
          "name": "stdout",
          "text": [
            "The average number of actors in the movies played by 'Brahmanandam' is : 4.25\n"
          ]
        }
      ]
    },
    {
      "cell_type": "code",
      "metadata": {
        "colab": {
          "base_uri": "https://localhost:8080/"
        },
        "id": "V5IDH6TP29Xh",
        "outputId": "a290bcfa-d6d7-4f37-a5dd-f747b2a577d8"
      },
      "source": [
        "# Frequent-items table - SINGLETON\n",
        "# entry i-th is -1 if item \"i\" is not frequent, while the i-th entry is its hashed value if the item \"i\" is frequent\n",
        "\n",
        "freqitem_table = (sc.parallelize(array_counts)\n",
        "                    .map(lambda basket: -1 if basket[1] <= 10 else basket[0])\n",
        "                    .collect())\n",
        "\n",
        "freqitem_table[:50]"
      ],
      "execution_count": 48,
      "outputs": [
        {
          "output_type": "execute_result",
          "data": {
            "text/plain": [
              "[0,\n",
              " 1,\n",
              " -1,\n",
              " -1,\n",
              " 4,\n",
              " -1,\n",
              " -1,\n",
              " -1,\n",
              " -1,\n",
              " -1,\n",
              " 10,\n",
              " 11,\n",
              " -1,\n",
              " -1,\n",
              " -1,\n",
              " 15,\n",
              " 16,\n",
              " 17,\n",
              " 18,\n",
              " 19,\n",
              " -1,\n",
              " 21,\n",
              " 22,\n",
              " -1,\n",
              " 24,\n",
              " -1,\n",
              " 26,\n",
              " 27,\n",
              " 28,\n",
              " -1,\n",
              " -1,\n",
              " -1,\n",
              " 32,\n",
              " -1,\n",
              " -1,\n",
              " -1,\n",
              " -1,\n",
              " 37,\n",
              " 38,\n",
              " -1,\n",
              " 40,\n",
              " -1,\n",
              " 42,\n",
              " -1,\n",
              " -1,\n",
              " 45,\n",
              " -1,\n",
              " -1,\n",
              " 48,\n",
              " -1]"
            ]
          },
          "metadata": {},
          "execution_count": 48
        }
      ]
    },
    {
      "cell_type": "code",
      "metadata": {
        "colab": {
          "base_uri": "https://localhost:8080/"
        },
        "id": "waif1GVFnhMl",
        "outputId": "8778306a-8b8b-48d0-950e-a9274eb7db00"
      },
      "source": [
        "# Inspect the frequent items in each basket\n",
        "\n",
        "freqbaskets_hash = (sc.parallelize(baskets_hash)\n",
        "                      .map(lambda basket: [freqitem_table[item] for item in basket if freqitem_table[item] != -1])\n",
        "                      .collect())\n",
        "\n",
        "\n",
        "# Remove non frequent items in the baskets\n",
        "\n",
        "freqbaskets_hash = (sc.parallelize(freqbaskets_hash)\n",
        "                      .map(lambda basket: [item for item in basket if item != -1])\n",
        "                      .collect())\n",
        "\n",
        "\n",
        "# Remove the empty baskets and the ones with length lower than 2\n",
        "\n",
        "freqbaskets_hash = list(filter(lambda bsk: bsk != [] and len(bsk) >= 2, freqbaskets_hash))\n",
        "print(len(freqbaskets_hash))"
      ],
      "execution_count": 49,
      "outputs": [
        {
          "output_type": "stream",
          "name": "stdout",
          "text": [
            "198755\n"
          ]
        }
      ]
    },
    {
      "cell_type": "code",
      "metadata": {
        "colab": {
          "base_uri": "https://localhost:8080/"
        },
        "id": "_FDNp7w2ctT0",
        "outputId": "d381ef9b-7457-4c7e-ac4d-85a1955c1a76"
      },
      "source": [
        "freqbaskets_hash[:50]"
      ],
      "execution_count": 50,
      "outputs": [
        {
          "output_type": "execute_result",
          "data": {
            "text/plain": [
              "[[0, 1],\n",
              " [10, 11, 15, 16, 17],\n",
              " [18, 19, 21, 22],\n",
              " [24, 26, 27, 28],\n",
              " [37, 38, 40, 42],\n",
              " [45, 48, 50],\n",
              " [52, 27, 53],\n",
              " [55, 56, 57],\n",
              " [58, 59, 61, 63],\n",
              " [66, 67],\n",
              " [68, 69, 70, 71, 72],\n",
              " [73, 75, 77],\n",
              " [78, 79, 81],\n",
              " [83, 84, 86, 87, 88],\n",
              " [91, 93, 95],\n",
              " [103, 105, 107, 108],\n",
              " [111, 112, 113],\n",
              " [115, 116, 103, 118, 119],\n",
              " [120, 121, 122, 123],\n",
              " [124, 125, 126, 127, 128, 129],\n",
              " [133, 136, 137],\n",
              " [140, 141],\n",
              " [143, 144, 146, 147],\n",
              " [148, 149],\n",
              " [151, 152, 153, 154, 155],\n",
              " [156, 157, 158, 159, 160, 162],\n",
              " [163, 146, 164, 165],\n",
              " [167, 168, 169, 170],\n",
              " [171, 172, 175],\n",
              " [183, 187],\n",
              " [189, 190],\n",
              " [193, 195, 196, 198],\n",
              " [199, 201, 202, 206],\n",
              " [208, 209, 210, 211],\n",
              " [214, 215, 216, 218],\n",
              " [224, 225, 226, 229, 230, 231],\n",
              " [10, 241, 242, 244, 246],\n",
              " [247, 248, 249, 66, 250],\n",
              " [252, 253, 254, 255],\n",
              " [257, 258, 259, 260],\n",
              " [261, 262, 263, 264, 265],\n",
              " [266, 267, 268, 269, 270],\n",
              " [273, 274, 275, 276, 277],\n",
              " [278, 279, 280, 281],\n",
              " [282, 147, 283, 284],\n",
              " [278, 254, 286],\n",
              " [287, 288, 290, 291, 292],\n",
              " [293, 294, 248, 295, 296, 297],\n",
              " [298, 299, 300, 301, 302, 303],\n",
              " [304, 305, 306, 307, 308, 309]]"
            ]
          },
          "metadata": {},
          "execution_count": 50
        }
      ]
    },
    {
      "cell_type": "code",
      "metadata": {
        "colab": {
          "base_uri": "https://localhost:8080/"
        },
        "id": "M3ciDmeOOQcz",
        "outputId": "66e6cb54-13cb-4cef-e2af-c75af49ad7d8"
      },
      "source": [
        "# Count the occurrence of each item over all the baskets - DOUBLETON (itemsets of size 2)\n",
        "\n",
        "from itertools import combinations\n",
        "\n",
        "array_counts = (sc.parallelize(freqbaskets_hash)\n",
        "                  .map(lambda basket: combinations(basket, 2))\n",
        "                  .flatMap(lambda pairs: [(pair, 1) for pair in pairs])\n",
        "                  .reduceByKey(lambda a, b: a + b)\n",
        "                  .collect())\n",
        "\n",
        "print(len(array_counts))"
      ],
      "execution_count": 51,
      "outputs": [
        {
          "output_type": "stream",
          "name": "stdout",
          "text": [
            "675815\n"
          ]
        }
      ]
    },
    {
      "cell_type": "code",
      "metadata": {
        "colab": {
          "base_uri": "https://localhost:8080/"
        },
        "id": "mOJB8mg7Uj2r",
        "outputId": "0d110e88-9353-4180-e0b6-7ee71e68a418"
      },
      "source": [
        "array_counts[:50]"
      ],
      "execution_count": 52,
      "outputs": [
        {
          "output_type": "execute_result",
          "data": {
            "text/plain": [
              "[((0, 1), 2),\n",
              " ((10, 11), 1),\n",
              " ((10, 15), 2),\n",
              " ((10, 16), 1),\n",
              " ((10, 17), 1),\n",
              " ((11, 15), 2),\n",
              " ((11, 16), 8),\n",
              " ((11, 17), 2),\n",
              " ((15, 16), 2),\n",
              " ((15, 17), 1),\n",
              " ((16, 17), 2),\n",
              " ((18, 19), 2),\n",
              " ((18, 21), 2),\n",
              " ((18, 22), 4),\n",
              " ((19, 21), 2),\n",
              " ((19, 22), 2),\n",
              " ((21, 22), 6),\n",
              " ((24, 26), 1),\n",
              " ((24, 27), 1),\n",
              " ((24, 28), 1),\n",
              " ((26, 27), 1),\n",
              " ((26, 28), 1),\n",
              " ((27, 28), 1),\n",
              " ((37, 38), 1),\n",
              " ((37, 40), 1),\n",
              " ((37, 42), 2),\n",
              " ((38, 40), 1),\n",
              " ((38, 42), 1),\n",
              " ((40, 42), 5),\n",
              " ((45, 48), 2),\n",
              " ((45, 50), 4),\n",
              " ((48, 50), 2),\n",
              " ((52, 27), 7),\n",
              " ((52, 53), 2),\n",
              " ((27, 53), 4),\n",
              " ((55, 56), 2),\n",
              " ((55, 57), 1),\n",
              " ((56, 57), 4),\n",
              " ((58, 59), 4),\n",
              " ((58, 61), 3),\n",
              " ((58, 63), 2),\n",
              " ((59, 61), 7),\n",
              " ((59, 63), 6),\n",
              " ((61, 63), 5),\n",
              " ((66, 67), 3),\n",
              " ((68, 69), 1),\n",
              " ((68, 70), 1),\n",
              " ((68, 71), 6),\n",
              " ((68, 72), 2),\n",
              " ((69, 70), 1)]"
            ]
          },
          "metadata": {},
          "execution_count": 52
        }
      ]
    },
    {
      "cell_type": "code",
      "metadata": {
        "colab": {
          "base_uri": "https://localhost:8080/"
        },
        "id": "cG7UObKbaqW5",
        "outputId": "ed740e0f-d7fb-4606-8bf4-4288b28f17f7"
      },
      "source": [
        "# Format frequent pairs to actor names\n",
        "\n",
        "actors_counts = sorted((sc.parallelize(array_counts)\n",
        "                          .map(lambda basket: ((items_to_hash[basket[0][0]], items_to_hash[basket[0][1]]), basket[1]))\n",
        "                          .collect()), key = lambda a: a[1], reverse = True)\n",
        "\n",
        "actors_counts[:100]"
      ],
      "execution_count": 53,
      "outputs": [
        {
          "output_type": "execute_result",
          "data": {
            "text/plain": [
              "[(('Adoor Bhasi', 'Prem Nazir'), 237),\n",
              " (('Bahadur', 'Adoor Bhasi'), 169),\n",
              " (('Jayabharati', 'Adoor Bhasi'), 162),\n",
              " (('Kijaku Ôtani', 'Matsunosuke Onoe'), 147),\n",
              " (('Kitsuraku Arashi', 'Matsunosuke Onoe'), 126),\n",
              " (('Adoor Bhasi', 'Thikkurisi Sukumaran Nair'), 122),\n",
              " (('Kitsuraku Arashi', 'Kijaku Ôtani'), 113),\n",
              " (('Suminojo Ichikawa', 'Matsunosuke Onoe'), 113),\n",
              " (('Jayabharati', 'Bahadur'), 109),\n",
              " (('Panchito', 'Dolphy'), 103),\n",
              " (('Prem Nazir', 'Thikkurisi Sukumaran Nair'), 101),\n",
              " (('Kijaku Ôtani', 'Suminojo Ichikawa'), 101),\n",
              " (('Kitsuraku Arashi', 'Suminojo Ichikawa'), 97),\n",
              " ((\"Sen'nosuke Nakamura\", 'Matsunosuke Onoe'), 97),\n",
              " (('Hôshô Bandô', 'Ritoku Arashi'), 96),\n",
              " (('Bahadur', 'Prem Nazir'), 96),\n",
              " (('Jayabharati', 'Prem Nazir'), 94),\n",
              " (('Adoor Bhasi', 'Paravoor Bharathan'), 92),\n",
              " (('Adoor Bhasi', 'Meena'), 90),\n",
              " (('Ritoku Arashi', 'Enshô Jitsukawa'), 90),\n",
              " (('Madhu', 'Adoor Bhasi'), 90),\n",
              " ((\"Sen'nosuke Nakamura\", 'Kijaku Ôtani'), 84),\n",
              " (('Hôshô Bandô', 'Enshô Jitsukawa'), 83),\n",
              " (('T.S. Muthaiah', 'Adoor Bhasi'), 83),\n",
              " (('Ali', 'Brahmanandam'), 82),\n",
              " (('Kaichi Yamamoto', 'Takeo Azuma'), 76),\n",
              " (('Rajkumar', 'Balkrishna'), 74),\n",
              " (('Paquito Diaz', 'Fernando Poe Jr.'), 73),\n",
              " (('Ritoku Arashi', 'Shôzô Arashi'), 73),\n",
              " (('Franco Franchi', 'Ciccio Ingrassia'), 72),\n",
              " (('Hideo Fujino', 'Takeo Azuma'), 72),\n",
              " (('T.S. Muthaiah', 'Prem Nazir'), 72),\n",
              " (('Kitsuraku Arashi', \"Sen'nosuke Nakamura\"), 71),\n",
              " (('Bahadur', 'Thikkurisi Sukumaran Nair'), 70),\n",
              " (('Hideo Fujino', 'Kaichi Yamamoto'), 70),\n",
              " (('N. Govindankutty', 'Adoor Bhasi'), 68),\n",
              " (('Kakumatsuro Arashi', 'Matsunosuke Onoe'), 68),\n",
              " ((\"Sen'nosuke Nakamura\", 'Suminojo Ichikawa'), 67),\n",
              " (('Manavalan Joseph', 'Adoor Bhasi'), 66),\n",
              " (('Shirôgorô Sawamura', 'Enjuro Ichikawa'), 66),\n",
              " (('Nagesh', 'Shivaji Ganesan'), 63),\n",
              " (('Nagesh', 'Aachi Manorama'), 63),\n",
              " (('T.S. Muthaiah', 'Bahadur'), 63),\n",
              " (('Aachi Manorama', 'Shivaji Ganesan'), 63),\n",
              " (('Sentarô Nakamura', 'Matsunosuke Onoe'), 63),\n",
              " (('Jeong-hie Yun', 'Sung-il Shin'), 63),\n",
              " (('Chosei Kataoka', 'Matsunosuke Onoe'), 62),\n",
              " (('Hôshô Bandô', 'Shôzô Arashi'), 62),\n",
              " (('Prem Nazir', 'Meena'), 60),\n",
              " (('Leo Gorcey', 'Huntz Hall'), 59),\n",
              " (('Bahadur', 'Meena'), 59),\n",
              " (('Shôzô Arashi', 'Enshô Jitsukawa'), 59),\n",
              " (('Gummadi', 'Akkineni Nageshwara Rao'), 59),\n",
              " (('Madhu', 'Bahadur'), 58),\n",
              " (('Kakumatsuro Arashi', 'Kijaku Ôtani'), 58),\n",
              " (('Jeong-im Nam', 'Sung-il Shin'), 57),\n",
              " (('Adoor Bhasi', 'Sankaradi'), 56),\n",
              " (('Adoor Bhasi', 'Kaviyoor Ponnamma'), 55),\n",
              " (('Prem Nazir', 'Jose Prakash'), 55),\n",
              " (('V.K. Ramasamy', 'Shivaji Ganesan'), 55),\n",
              " (('Utae Nakamura', 'Matsunosuke Onoe'), 55),\n",
              " (('Nagesh', 'R. Muthuraman'), 55),\n",
              " (('Srinivasa Rao Kota', 'Brahmanandam'), 55),\n",
              " (('Chosei Kataoka', 'Kijaku Ôtani'), 55),\n",
              " (('Adoor Bhasi', 'T.R. Omana'), 55),\n",
              " (('Ichitarô Kataoka', 'Matsunosuke Onoe'), 55),\n",
              " (('M.N. Nambiar', 'Shivaji Ganesan'), 54),\n",
              " (('Hideo Fujino', 'Teinosuke Kinugasa'), 54),\n",
              " (('Futaba Kinoshita', 'Kusuo Abe'), 54),\n",
              " (('Jayabharati', 'Madhu'), 54),\n",
              " (('M.G. Ramachandran', 'M.N. Nambiar'), 54),\n",
              " (('Rajendra Prasad', 'Brahmanandam'), 54),\n",
              " (('Hie Mun', 'Sung-il Shin'), 54),\n",
              " (('Chieko Baishô', 'Kiyoshi Atsumi'), 54),\n",
              " (('Rihaku Arashi', 'Matsunosuke Onoe'), 53),\n",
              " (('Ji-mee Kim', 'Mu-ryong Choi'), 52),\n",
              " (('Utae Nakamura', 'Kijaku Ôtani'), 51),\n",
              " (('Peter North', 'Tom Byron'), 51),\n",
              " (('Kitsuraku Arashi', 'Kakumatsuro Arashi'), 51),\n",
              " (('Habibur Rehman', 'Sultan Rahi'), 51),\n",
              " (('Nellikode Bhaskaran', 'Adoor Bhasi'), 51),\n",
              " (('Smiley Burnette', 'Gene Autry'), 50),\n",
              " (('Chosei Kataoka', 'Kitsuraku Arashi'), 50),\n",
              " (('Nestor de Villa', 'Nida Blanca'), 50),\n",
              " (('Kitsuraku Arashi', 'Utae Nakamura'), 49),\n",
              " (('Tanikella Bharani', 'Brahmanandam'), 49),\n",
              " (('Thikkurisi Sukumaran Nair', 'S.P. Pillai'), 49),\n",
              " (('Prem Nazir', 'T.R. Omana'), 49),\n",
              " (('Nedumudi Venu', 'Mohanlal'), 48),\n",
              " (('Sankaradi', 'Prem Nazir'), 48),\n",
              " (('Wood-Yau Cheung', 'Yin Pak'), 48),\n",
              " (('Tat-Wah Cho', 'Tak-Hing Kwan'), 48),\n",
              " (('Chosei Kataoka', 'Suminojo Ichikawa'), 48),\n",
              " (('K.P.A.C. Lalitha', 'Adoor Bhasi'), 48),\n",
              " (('Jayabharati', 'Meena'), 48),\n",
              " (('Kottarakkara Sridharan Nair', 'Adoor Bhasi'), 48),\n",
              " (('Padmini', 'Shivaji Ganesan'), 48),\n",
              " (('Udaya Kumar', 'Balkrishna'), 48),\n",
              " (('Kakumatsuro Arashi', 'Suminojo Ichikawa'), 48),\n",
              " (('Ichitarô Kataoka', 'Kijaku Ôtani'), 48)]"
            ]
          },
          "metadata": {},
          "execution_count": 53
        }
      ]
    },
    {
      "cell_type": "code",
      "metadata": {
        "id": "Tk9uNmBwFBWV",
        "colab": {
          "base_uri": "https://localhost:8080/"
        },
        "outputId": "bc5d733a-d03f-4d87-9dcd-7b4b11b27fdd"
      },
      "source": [
        "# Frequent-items table - DOUBLETON\n",
        "\n",
        "freqitem_table = (sc.parallelize(array_counts)\n",
        "                     .map(lambda basket: -1 if basket[1] <= 10 else basket[0])\n",
        "                     .collect())\n",
        "\n",
        "print(len(freqitem_table))"
      ],
      "execution_count": 54,
      "outputs": [
        {
          "output_type": "stream",
          "name": "stdout",
          "text": [
            "675815\n"
          ]
        }
      ]
    },
    {
      "cell_type": "code",
      "metadata": {
        "colab": {
          "base_uri": "https://localhost:8080/"
        },
        "id": "JSanq9YnHEVV",
        "outputId": "a79bd20c-9ee4-4ddc-bc0a-79bae393ee5f"
      },
      "source": [
        "freqitem_table[:50]"
      ],
      "execution_count": 55,
      "outputs": [
        {
          "output_type": "execute_result",
          "data": {
            "text/plain": [
              "[-1,\n",
              " -1,\n",
              " -1,\n",
              " -1,\n",
              " -1,\n",
              " -1,\n",
              " -1,\n",
              " -1,\n",
              " -1,\n",
              " -1,\n",
              " -1,\n",
              " -1,\n",
              " -1,\n",
              " -1,\n",
              " -1,\n",
              " -1,\n",
              " -1,\n",
              " -1,\n",
              " -1,\n",
              " -1,\n",
              " -1,\n",
              " -1,\n",
              " -1,\n",
              " -1,\n",
              " -1,\n",
              " -1,\n",
              " -1,\n",
              " -1,\n",
              " -1,\n",
              " -1,\n",
              " -1,\n",
              " -1,\n",
              " -1,\n",
              " -1,\n",
              " -1,\n",
              " -1,\n",
              " -1,\n",
              " -1,\n",
              " -1,\n",
              " -1,\n",
              " -1,\n",
              " -1,\n",
              " -1,\n",
              " -1,\n",
              " -1,\n",
              " -1,\n",
              " -1,\n",
              " -1,\n",
              " -1,\n",
              " -1]"
            ]
          },
          "metadata": {},
          "execution_count": 55
        }
      ]
    },
    {
      "cell_type": "code",
      "metadata": {
        "colab": {
          "base_uri": "https://localhost:8080/"
        },
        "id": "0FG-zQF4MJqw",
        "outputId": "abbc4979-bcc1-4e5b-f897-7a570372116b"
      },
      "source": [
        "# Remove unfrequent pairs and retrieve distinct singletons\n",
        "\n",
        "freqitem_table = sorted((sc.parallelize(filter(lambda itemset: itemset != -1, freqitem_table))\n",
        "                           .flatMap(lambda itemset: itemset)\n",
        "                           .distinct()\n",
        "                           .collect()))\n",
        "\n",
        "freqitem_table[:50]"
      ],
      "execution_count": 56,
      "outputs": [
        {
          "output_type": "execute_result",
          "data": {
            "text/plain": [
              "[4,\n",
              " 40,\n",
              " 66,\n",
              " 91,\n",
              " 93,\n",
              " 133,\n",
              " 136,\n",
              " 137,\n",
              " 165,\n",
              " 183,\n",
              " 190,\n",
              " 193,\n",
              " 214,\n",
              " 216,\n",
              " 246,\n",
              " 248,\n",
              " 252,\n",
              " 253,\n",
              " 255,\n",
              " 261,\n",
              " 274,\n",
              " 294,\n",
              " 315,\n",
              " 316,\n",
              " 334,\n",
              " 337,\n",
              " 368,\n",
              " 374,\n",
              " 375,\n",
              " 385,\n",
              " 386,\n",
              " 404,\n",
              " 405,\n",
              " 406,\n",
              " 407,\n",
              " 408,\n",
              " 420,\n",
              " 426,\n",
              " 442,\n",
              " 454,\n",
              " 456,\n",
              " 459,\n",
              " 461,\n",
              " 462,\n",
              " 466,\n",
              " 468,\n",
              " 509,\n",
              " 510,\n",
              " 564,\n",
              " 569]"
            ]
          },
          "metadata": {},
          "execution_count": 56
        }
      ]
    },
    {
      "cell_type": "code",
      "metadata": {
        "id": "jzUbqIJ6N9wi",
        "colab": {
          "base_uri": "https://localhost:8080/"
        },
        "outputId": "ae6642a1-531b-4a8d-e760-668a566e814a"
      },
      "source": [
        "# Format the basket lists to frequent items\n",
        "\n",
        "freqbaskets_hash = (sc.parallelize(freqbaskets_hash)\n",
        "                      .map(lambda basket: [item if item in freqitem_table else -1 for item in basket])\n",
        "                      .map(lambda basket: [item for item in basket if item != -1])\n",
        "                      .collect())\n",
        "\n",
        "\n",
        "# Remove the baskets with length lower than 3\n",
        "\n",
        "freqbaskets_hash = list(filter(lambda bsk: bsk != [] and len(bsk) >= 3, freqbaskets_hash))\n",
        "print(len(freqbaskets_hash))"
      ],
      "execution_count": 57,
      "outputs": [
        {
          "output_type": "stream",
          "name": "stdout",
          "text": [
            "25694\n"
          ]
        }
      ]
    },
    {
      "cell_type": "code",
      "metadata": {
        "colab": {
          "base_uri": "https://localhost:8080/"
        },
        "id": "cXjZD446eMra",
        "outputId": "657d962a-e469-4970-bdb5-18c0bdd1d866"
      },
      "source": [
        "freqbaskets_hash[:50]"
      ],
      "execution_count": 58,
      "outputs": [
        {
          "output_type": "execute_result",
          "data": {
            "text/plain": [
              "[[133, 136, 137],\n",
              " [252, 253, 255],\n",
              " [405, 406, 407, 408],\n",
              " [459, 461, 462],\n",
              " [569, 570, 572],\n",
              " [426, 583, 584],\n",
              " [662, 664, 665, 666, 584],\n",
              " [664, 665, 666],\n",
              " [662, 664, 665, 666],\n",
              " [962, 963, 965],\n",
              " [1022, 1023, 1024],\n",
              " [1077, 1078, 1081, 1082],\n",
              " [1022, 1111, 1112],\n",
              " [927, 1185, 1186],\n",
              " [1818, 1821, 1823, 1825],\n",
              " [1915, 1918, 1920, 1922],\n",
              " [2018, 2019, 2020],\n",
              " [2021, 2022, 2023, 2024, 2025, 2026, 2027],\n",
              " [2024, 2028, 2026, 2029],\n",
              " [2031, 2034, 2035],\n",
              " [2034, 2042, 2044, 2045],\n",
              " [2175, 2177, 1922, 1825],\n",
              " [2191, 2194, 1894],\n",
              " [2217, 2218, 2219],\n",
              " [2265, 2266, 2267],\n",
              " [2294, 1821, 2298, 1302, 1922],\n",
              " [2335, 2338, 2339],\n",
              " [2446, 2447, 2448],\n",
              " [2492, 2496, 2497],\n",
              " [2507, 2508, 1992],\n",
              " [2518, 2521, 2522],\n",
              " [2560, 2561, 2562],\n",
              " [2600, 2601, 2603, 2604, 2024, 2605, 2606],\n",
              " [2681, 2682, 2683, 2684, 2686],\n",
              " [2723, 2024, 2025, 2027, 2724, 2725],\n",
              " [2734, 2735, 2736, 2737, 2738, 2027, 2739],\n",
              " [2784, 2785, 2786, 2788, 2790],\n",
              " [2265, 2800, 2692, 2802, 2803],\n",
              " [2805, 2806, 2807],\n",
              " [2814, 2815, 2816, 2817],\n",
              " [2833, 2834, 2835, 2739],\n",
              " [2836, 2837, 2496, 2838],\n",
              " [2841, 2842, 2835, 2843, 2739],\n",
              " [2844, 2845, 2265, 2267, 2847, 2848, 2849],\n",
              " [2908, 2909, 2910, 2911, 2912, 2913],\n",
              " [2914, 2915, 2916],\n",
              " [2928, 2028, 2025, 2027],\n",
              " [2986, 2218, 2989],\n",
              " [3008, 3011, 3012],\n",
              " [3057, 3058, 3062]]"
            ]
          },
          "metadata": {},
          "execution_count": 58
        }
      ]
    },
    {
      "cell_type": "code",
      "metadata": {
        "id": "UKVT585JrFyf"
      },
      "source": [
        "# A-Priori algorithm implementation as a function\n",
        "\n",
        "def APriori(hashed_baskets, k_size, s_threshold):\n",
        "\n",
        "\ti = 1\n",
        "\n",
        "\twhile i <= k_size:\n",
        "\n",
        "\n",
        "\t\tif i == 1:\n",
        "\n",
        "\t\t\tcounts = sorted((sc.parallelize(hashed_baskets)\n",
        "\t\t\t\t\t\t\t\t         .flatMap(lambda basket: [(item, 1) for item in basket])\n",
        "                       \t .reduceByKey(lambda a, b: a + b)\n",
        "                       \t .collect()), key=lambda a: a[0], reverse=False)\n",
        "\n",
        "\t\t\tfreqitem_table = (sc.parallelize(counts)\n",
        "                    \t\t\t.map(lambda basket: -1 if basket[1] <= s_threshold else basket[0])\n",
        "                    \t\t\t.collect())\n",
        "\n",
        "\t\t\tfreq_baskets = (sc.parallelize(hashed_baskets)\n",
        "                  \t\t\t.map(lambda basket: [freqitem_table[item] for item in basket if freqitem_table[item] != -1])\n",
        "                  \t\t\t.collect())\n",
        "\n",
        "\t\t\tfreq_baskets = list(filter(lambda bsk: bsk != [] and len(bsk) > i, freq_baskets))\n",
        "\n",
        "\n",
        "\t\telif i > 1:\n",
        "\n",
        "\t\t\tcounts = (sc.parallelize(freq_baskets)\n",
        "                  .map(lambda basket: combinations(basket, i))\n",
        "                  .flatMap(lambda basket: [(itemset, 1) for itemset in basket])\n",
        "                  .reduceByKey(lambda a, b: a + b)\n",
        "                  .collect())\n",
        "\n",
        "\n",
        "\t\t\tif i == k_size:\n",
        "\n",
        "\t\t\t\tbreak\n",
        "\n",
        "\t\t\telse:\n",
        "\n",
        "\t\t\t\tfreqitem_table = (sc.parallelize(counts)\n",
        "                    \t\t\t\t.map(lambda basket: -1 if basket[1] <= s_threshold else basket[0])\n",
        "                    \t\t\t\t.collect())\n",
        "\t\t\t\tfreqitem_table = sorted((sc.parallelize(filter(lambda itemset: itemset != -1, freqitem_table))\n",
        "                           \t\t\t\t .flatMap(lambda itemset: itemset)\n",
        "                           \t\t\t\t .distinct()\n",
        "                           \t\t\t\t .collect()))\n",
        "\n",
        "\t\t\t\tfreq_baskets = (sc.parallelize(freq_baskets)\n",
        "                      \t\t.map(lambda basket: [item if item in freqitem_table else -1 for item in basket])\n",
        "                  \t\t  \t.map(lambda basket: [item for item in basket if item != -1])\n",
        "                  \t\t  \t.collect())\n",
        "\t\t\t\tfreq_baskets = list(filter(lambda bsk: bsk != [] and len(bsk) > i, freq_baskets))\n",
        "\n",
        "\t\ti += 1\n",
        "\n",
        "\treturn counts"
      ],
      "execution_count": 59,
      "outputs": []
    },
    {
      "cell_type": "code",
      "metadata": {
        "colab": {
          "base_uri": "https://localhost:8080/"
        },
        "id": "Wr7TE9KxrHZD",
        "outputId": "709d2ff4-6d3d-4832-ec7e-f8ce5903212c"
      },
      "source": [
        "# Use the APriori function to get frequent triples\n",
        "\n",
        "freq_triples = APriori(hashed_baskets=baskets_hash, k_size=3, s_threshold=10)\n",
        "\n",
        "sorted((sc.parallelize(freq_triples)\n",
        "          .map(lambda basket: ((items_to_hash[basket[0][0]], items_to_hash[basket[0][1]], items_to_hash[basket[0][2]]), basket[1]))\n",
        "          .collect()), key = lambda a: a[1], reverse = True)[:100]"
      ],
      "execution_count": 60,
      "outputs": [
        {
          "output_type": "execute_result",
          "data": {
            "text/plain": [
              "[(('Kitsuraku Arashi', 'Kijaku Ôtani', 'Matsunosuke Onoe'), 112),\n",
              " (('Kijaku Ôtani', 'Suminojo Ichikawa', 'Matsunosuke Onoe'), 100),\n",
              " (('Kitsuraku Arashi', 'Suminojo Ichikawa', 'Matsunosuke Onoe'), 95),\n",
              " (('Kitsuraku Arashi', 'Kijaku Ôtani', 'Suminojo Ichikawa'), 87),\n",
              " ((\"Sen'nosuke Nakamura\", 'Kijaku Ôtani', 'Matsunosuke Onoe'), 80),\n",
              " (('Jayabharati', 'Bahadur', 'Adoor Bhasi'), 75),\n",
              " (('Adoor Bhasi', 'Prem Nazir', 'Thikkurisi Sukumaran Nair'), 74),\n",
              " (('Kitsuraku Arashi', \"Sen'nosuke Nakamura\", 'Matsunosuke Onoe'), 70),\n",
              " (('Hôshô Bandô', 'Ritoku Arashi', 'Enshô Jitsukawa'), 69),\n",
              " ((\"Sen'nosuke Nakamura\", 'Suminojo Ichikawa', 'Matsunosuke Onoe'), 64),\n",
              " (('Kitsuraku Arashi', \"Sen'nosuke Nakamura\", 'Kijaku Ôtani'), 63),\n",
              " (('Jayabharati', 'Adoor Bhasi', 'Prem Nazir'), 62),\n",
              " (('Hôshô Bandô', 'Ritoku Arashi', 'Shôzô Arashi'), 60),\n",
              " (('Bahadur', 'Adoor Bhasi', 'Prem Nazir'), 60),\n",
              " (('Hideo Fujino', 'Kaichi Yamamoto', 'Takeo Azuma'), 58),\n",
              " (('Ritoku Arashi', 'Shôzô Arashi', 'Enshô Jitsukawa'), 58),\n",
              " (('Kakumatsuro Arashi', 'Kijaku Ôtani', 'Matsunosuke Onoe'), 56),\n",
              " (('Chosei Kataoka', 'Kijaku Ôtani', 'Matsunosuke Onoe'), 55),\n",
              " ((\"Sen'nosuke Nakamura\", 'Kijaku Ôtani', 'Suminojo Ichikawa'), 55),\n",
              " (('T.S. Muthaiah', 'Adoor Bhasi', 'Prem Nazir'), 54),\n",
              " (('Kitsuraku Arashi', \"Sen'nosuke Nakamura\", 'Suminojo Ichikawa'), 52),\n",
              " (('Utae Nakamura', 'Kijaku Ôtani', 'Matsunosuke Onoe'), 51),\n",
              " (('Hôshô Bandô', 'Shôzô Arashi', 'Enshô Jitsukawa'), 51),\n",
              " (('Kitsuraku Arashi', 'Kakumatsuro Arashi', 'Matsunosuke Onoe'), 50),\n",
              " (('Chosei Kataoka', 'Kitsuraku Arashi', 'Matsunosuke Onoe'), 50),\n",
              " (('Kitsuraku Arashi', 'Utae Nakamura', 'Matsunosuke Onoe'), 49),\n",
              " (('Chosei Kataoka', 'Kitsuraku Arashi', 'Kijaku Ôtani'), 48),\n",
              " (('Chosei Kataoka', 'Suminojo Ichikawa', 'Matsunosuke Onoe'), 48),\n",
              " (('Rihaku Arashi', 'Kijaku Ôtani', 'Matsunosuke Onoe'), 47),\n",
              " (('Ichitarô Kataoka', 'Kijaku Ôtani', 'Matsunosuke Onoe'), 47),\n",
              " (('Kitsuraku Arashi', 'Utae Nakamura', 'Kijaku Ôtani'), 46),\n",
              " (('Chosei Kataoka', 'Kijaku Ôtani', 'Suminojo Ichikawa'), 45),\n",
              " (('Kakumatsuro Arashi', 'Suminojo Ichikawa', 'Matsunosuke Onoe'), 45),\n",
              " (('Adoor Bhasi', 'Prem Nazir', 'Meena'), 44),\n",
              " (('Chosei Kataoka', 'Kitsuraku Arashi', 'Suminojo Ichikawa'), 44),\n",
              " (('Hideo Fujino', 'Teinosuke Kinugasa', 'Takeo Azuma'), 44),\n",
              " (('Kitsuraku Arashi', 'Kakumatsuro Arashi', 'Kijaku Ôtani'), 43),\n",
              " (('Rihaku Arashi', 'Kitsuraku Arashi', 'Matsunosuke Onoe'), 42),\n",
              " (('Rihaku Arashi', 'Suminojo Ichikawa', 'Matsunosuke Onoe'), 42),\n",
              " (('Ichitarô Kataoka', 'Kitsuraku Arashi', 'Matsunosuke Onoe'), 42),\n",
              " (('Bahadur', 'Adoor Bhasi', 'Thikkurisi Sukumaran Nair'), 41),\n",
              " (('Ichitarô Kataoka', 'Suminojo Ichikawa', 'Matsunosuke Onoe'), 41),\n",
              " (('Unpei Yokoyama', 'Kaichi Yamamoto', 'Takeo Azuma'), 40),\n",
              " (('Sentarô Nakamura', 'Kijaku Ôtani', 'Matsunosuke Onoe'), 40),\n",
              " (('Hideo Fujino', 'Teinosuke Kinugasa', 'Kaichi Yamamoto'), 40),\n",
              " (('Bahadur', 'Adoor Bhasi', 'Meena'), 40),\n",
              " (('Hideo Fujino', 'Unpei Yokoyama', 'Kaichi Yamamoto'), 39),\n",
              " (('Masao Ômura', 'Kaichi Yamamoto', 'Takeo Azuma'), 39),\n",
              " (('Adoor Bhasi', 'Prem Nazir', 'T.R. Omana'), 39),\n",
              " (('Kakumatsuro Arashi', 'Kijaku Ôtani', 'Suminojo Ichikawa'), 39),\n",
              " (('Hideo Fujino', 'Unpei Yokoyama', 'Takeo Azuma'), 38),\n",
              " (('Sentarô Nakamura', 'Suminojo Ichikawa', 'Matsunosuke Onoe'), 38),\n",
              " (('Adoor Bhasi', 'Prem Nazir', 'Paravoor Bharathan'), 38),\n",
              " (('Kitsuraku Arashi', 'Kakumatsuro Arashi', 'Suminojo Ichikawa'), 38),\n",
              " (('Rihaku Arashi', 'Kijaku Ôtani', 'Suminojo Ichikawa'), 38),\n",
              " (('Rihaku Arashi', 'Kitsuraku Arashi', 'Kijaku Ôtani'), 37),\n",
              " (('Kakumatsuro Arashi', \"Sen'nosuke Nakamura\", 'Matsunosuke Onoe'), 37),\n",
              " (('Tito Sotto', 'Vic Sotto', 'Joey de Leon'), 37),\n",
              " (('Ichitarô Kataoka', 'Kitsuraku Arashi', 'Kijaku Ôtani'), 37),\n",
              " (('Ichitarô Kataoka', 'Kijaku Ôtani', 'Suminojo Ichikawa'), 37),\n",
              " (('Utae Nakamura', 'Suminojo Ichikawa', 'Matsunosuke Onoe'), 36),\n",
              " (('Kitsuraku Arashi', 'Sentarô Nakamura', 'Matsunosuke Onoe'), 36),\n",
              " (('Teinosuke Kinugasa', 'Kaichi Yamamoto', 'Takeo Azuma'), 36),\n",
              " (('T.S. Muthaiah', 'Bahadur', 'Adoor Bhasi'), 36),\n",
              " (('Sentarô Nakamura', 'Kijaku Ôtani', 'Suminojo Ichikawa'), 35),\n",
              " (('Jayabharati', 'Adoor Bhasi', 'Meena'), 35),\n",
              " (('Hôshô Bandô', 'Ritoku Arashi', 'Okuzan Asao'), 35),\n",
              " (('Ichitarô Kataoka', 'Kitsuraku Arashi', 'Suminojo Ichikawa'), 35),\n",
              " (('Hideo Fujino', 'Masao Ômura', 'Kaichi Yamamoto'), 34),\n",
              " (('Sannosuke Fujikawa', 'Kaichi Yamamoto', 'Takeo Azuma'), 34),\n",
              " (('Kitsuraku Arashi', 'Sentarô Nakamura', 'Kijaku Ôtani'), 34),\n",
              " (('Kaichi Yamamoto', 'Takeo Azuma', 'Misao Satsuki'), 34),\n",
              " (('Rihaku Arashi', 'Kitsuraku Arashi', 'Suminojo Ichikawa'), 34),\n",
              " (('Utae Nakamura', 'Kijaku Ôtani', 'Suminojo Ichikawa'), 33),\n",
              " (('Kakumatsuro Arashi', \"Sen'nosuke Nakamura\", 'Kijaku Ôtani'), 33),\n",
              " (('Kitsuraku Arashi', 'Utae Nakamura', 'Suminojo Ichikawa'), 32),\n",
              " (('Hideo Fujino', 'Sannosuke Fujikawa', 'Kaichi Yamamoto'), 32),\n",
              " (('Unpei Yokoyama', 'Masao Ômura', 'Kaichi Yamamoto'), 32),\n",
              " (('Ritoku Arashi', 'Okuzan Asao', 'Enshô Jitsukawa'), 32),\n",
              " (('Hideo Fujino', 'Masao Ômura', 'Takeo Azuma'), 31),\n",
              " (('Kitsuraku Arashi', 'Sentarô Nakamura', 'Suminojo Ichikawa'), 31),\n",
              " (('Sheela', 'Adoor Bhasi', 'Prem Nazir'), 31),\n",
              " (('Ritoku Arashi', 'Okuzan Asao', 'Shôzô Arashi'), 31),\n",
              " (('Allan Lane', 'Black Jack', 'Eddy Waller'), 30),\n",
              " (('Hideo Fujino', 'Sannosuke Fujikawa', 'Takeo Azuma'), 30),\n",
              " (('Unpei Yokoyama', 'Masao Ômura', 'Takeo Azuma'), 30),\n",
              " (('Kitsuraku Arashi', 'Kakumatsuro Arashi', \"Sen'nosuke Nakamura\"), 30),\n",
              " (('Hideo Fujino', 'Unpei Yokoyama', 'Teinosuke Kinugasa'), 30),\n",
              " (('Jayabharati', 'Adoor Bhasi', 'Thikkurisi Sukumaran Nair'), 30),\n",
              " (('Hôshô Bandô', 'Okuzan Asao', 'Enshô Jitsukawa'), 30),\n",
              " (('Bahadur', 'Prem Nazir', 'Thikkurisi Sukumaran Nair'), 30),\n",
              " (('Adoor Bhasi', 'Prem Nazir', 'Jose Prakash'), 29),\n",
              " (('Adoor Bhasi', 'Prem Nazir', 'Kaviyoor Ponnamma'), 29),\n",
              " (('Unpei Yokoyama', 'Sannosuke Fujikawa', 'Masao Ômura'), 29),\n",
              " ((\"Sen'nosuke Nakamura\", 'Utae Nakamura', 'Matsunosuke Onoe'), 29),\n",
              " (('Jayabharati', 'Bahadur', 'Prem Nazir'), 29),\n",
              " (('Hideo Fujino', 'Kaichi Yamamoto', 'Misao Satsuki'), 29),\n",
              " (('Jayabharati', 'Adoor Bhasi', 'Paravoor Bharathan'), 29),\n",
              " (('Hôshô Bandô', 'Okuzan Asao', 'Shôzô Arashi'), 29),\n",
              " (('Kakumatsuro Arashi', \"Sen'nosuke Nakamura\", 'Suminojo Ichikawa'), 29)]"
            ]
          },
          "metadata": {},
          "execution_count": 60
        }
      ]
    },
    {
      "cell_type": "code",
      "metadata": {
        "colab": {
          "base_uri": "https://localhost:8080/"
        },
        "id": "SemLk9wLHHUz",
        "outputId": "c0e5874f-1b93-4642-f0a6-49a328ccf1d2"
      },
      "source": [
        "# Count the occurrence of each item over all the baskets - TRIPLE (itemsets of size 3)\n",
        "\n",
        "array_counts = (sc.parallelize(freqbaskets_hash).map(lambda basket: combinations(basket, 3))\n",
        "                                                .flatMap(lambda triples: [(triple, 1) for triple in triples])\n",
        "                                                .reduceByKey(lambda a, b: a + b)\n",
        "                                                .collect())\n",
        "print(len(array_counts))"
      ],
      "execution_count": 61,
      "outputs": [
        {
          "output_type": "stream",
          "name": "stdout",
          "text": [
            "98474\n"
          ]
        }
      ]
    },
    {
      "cell_type": "code",
      "metadata": {
        "colab": {
          "base_uri": "https://localhost:8080/"
        },
        "id": "Vu-nGR-j9kNy",
        "outputId": "a34f5c07-ae41-4b0a-a092-1c3b3eb057b0"
      },
      "source": [
        "array_counts[:50]"
      ],
      "execution_count": 62,
      "outputs": [
        {
          "output_type": "execute_result",
          "data": {
            "text/plain": [
              "[((133, 136, 137), 9),\n",
              " ((252, 253, 255), 1),\n",
              " ((405, 406, 407), 1),\n",
              " ((405, 406, 408), 4),\n",
              " ((405, 407, 408), 1),\n",
              " ((406, 407, 408), 1),\n",
              " ((459, 461, 462), 14),\n",
              " ((569, 570, 572), 8),\n",
              " ((426, 583, 584), 7),\n",
              " ((662, 664, 665), 21),\n",
              " ((662, 664, 666), 19),\n",
              " ((662, 664, 584), 1),\n",
              " ((662, 665, 666), 18),\n",
              " ((662, 665, 584), 1),\n",
              " ((662, 666, 584), 1),\n",
              " ((664, 665, 666), 30),\n",
              " ((664, 665, 584), 2),\n",
              " ((664, 666, 584), 2),\n",
              " ((665, 666, 584), 2),\n",
              " ((962, 963, 965), 1),\n",
              " ((1022, 1023, 1024), 2),\n",
              " ((1077, 1078, 1081), 1),\n",
              " ((1077, 1078, 1082), 1),\n",
              " ((1077, 1081, 1082), 1),\n",
              " ((1078, 1081, 1082), 1),\n",
              " ((1022, 1111, 1112), 1),\n",
              " ((927, 1185, 1186), 3),\n",
              " ((1818, 1821, 1823), 1),\n",
              " ((1818, 1821, 1825), 1),\n",
              " ((1818, 1823, 1825), 1),\n",
              " ((1821, 1823, 1825), 2),\n",
              " ((1915, 1918, 1920), 2),\n",
              " ((1915, 1918, 1922), 1),\n",
              " ((1915, 1920, 1922), 2),\n",
              " ((1918, 1920, 1922), 1),\n",
              " ((2018, 2019, 2020), 2),\n",
              " ((2021, 2022, 2023), 2),\n",
              " ((2021, 2022, 2024), 10),\n",
              " ((2021, 2022, 2025), 3),\n",
              " ((2021, 2022, 2026), 1),\n",
              " ((2021, 2022, 2027), 1),\n",
              " ((2021, 2023, 2024), 7),\n",
              " ((2021, 2023, 2025), 4),\n",
              " ((2021, 2023, 2026), 1),\n",
              " ((2021, 2023, 2027), 1),\n",
              " ((2021, 2024, 2025), 62),\n",
              " ((2021, 2024, 2026), 11),\n",
              " ((2021, 2024, 2027), 11),\n",
              " ((2021, 2025, 2026), 12),\n",
              " ((2021, 2025, 2027), 10)]"
            ]
          },
          "metadata": {},
          "execution_count": 62
        }
      ]
    },
    {
      "cell_type": "code",
      "metadata": {
        "colab": {
          "base_uri": "https://localhost:8080/"
        },
        "id": "WpNwyhKsyOIM",
        "outputId": "e53a64ee-c8e4-4ee1-f2f3-d1573d9fb742"
      },
      "source": [
        "# Format the frequent triples to actors names\n",
        "\n",
        "actors_counts = sorted((sc.parallelize(array_counts)\n",
        "                          .map(lambda basket: ((items_to_hash[basket[0][0]], items_to_hash[basket[0][1]], items_to_hash[basket[0][2]]), basket[1]))\n",
        "                          .collect()), key = lambda a: a[1], reverse = True)\n",
        "\n",
        "print(len(actors_counts))"
      ],
      "execution_count": 63,
      "outputs": [
        {
          "output_type": "stream",
          "name": "stdout",
          "text": [
            "98474\n"
          ]
        }
      ]
    },
    {
      "cell_type": "code",
      "metadata": {
        "colab": {
          "base_uri": "https://localhost:8080/"
        },
        "id": "SllaPmYR9oiJ",
        "outputId": "60bc6bfc-7044-45be-bb68-3e523f55df3e"
      },
      "source": [
        "actors_counts[:100]"
      ],
      "execution_count": 64,
      "outputs": [
        {
          "output_type": "execute_result",
          "data": {
            "text/plain": [
              "[(('Kitsuraku Arashi', 'Kijaku Ôtani', 'Matsunosuke Onoe'), 112),\n",
              " (('Kijaku Ôtani', 'Suminojo Ichikawa', 'Matsunosuke Onoe'), 100),\n",
              " (('Kitsuraku Arashi', 'Suminojo Ichikawa', 'Matsunosuke Onoe'), 95),\n",
              " (('Kitsuraku Arashi', 'Kijaku Ôtani', 'Suminojo Ichikawa'), 87),\n",
              " ((\"Sen'nosuke Nakamura\", 'Kijaku Ôtani', 'Matsunosuke Onoe'), 80),\n",
              " (('Jayabharati', 'Bahadur', 'Adoor Bhasi'), 75),\n",
              " (('Adoor Bhasi', 'Prem Nazir', 'Thikkurisi Sukumaran Nair'), 74),\n",
              " (('Kitsuraku Arashi', \"Sen'nosuke Nakamura\", 'Matsunosuke Onoe'), 70),\n",
              " (('Hôshô Bandô', 'Ritoku Arashi', 'Enshô Jitsukawa'), 69),\n",
              " ((\"Sen'nosuke Nakamura\", 'Suminojo Ichikawa', 'Matsunosuke Onoe'), 64),\n",
              " (('Kitsuraku Arashi', \"Sen'nosuke Nakamura\", 'Kijaku Ôtani'), 63),\n",
              " (('Jayabharati', 'Adoor Bhasi', 'Prem Nazir'), 62),\n",
              " (('Hôshô Bandô', 'Ritoku Arashi', 'Shôzô Arashi'), 60),\n",
              " (('Bahadur', 'Adoor Bhasi', 'Prem Nazir'), 60),\n",
              " (('Hideo Fujino', 'Kaichi Yamamoto', 'Takeo Azuma'), 58),\n",
              " (('Ritoku Arashi', 'Shôzô Arashi', 'Enshô Jitsukawa'), 58),\n",
              " (('Kakumatsuro Arashi', 'Kijaku Ôtani', 'Matsunosuke Onoe'), 56),\n",
              " (('Chosei Kataoka', 'Kijaku Ôtani', 'Matsunosuke Onoe'), 55),\n",
              " ((\"Sen'nosuke Nakamura\", 'Kijaku Ôtani', 'Suminojo Ichikawa'), 55),\n",
              " (('T.S. Muthaiah', 'Adoor Bhasi', 'Prem Nazir'), 54),\n",
              " (('Kitsuraku Arashi', \"Sen'nosuke Nakamura\", 'Suminojo Ichikawa'), 52),\n",
              " (('Utae Nakamura', 'Kijaku Ôtani', 'Matsunosuke Onoe'), 51),\n",
              " (('Hôshô Bandô', 'Shôzô Arashi', 'Enshô Jitsukawa'), 51),\n",
              " (('Kitsuraku Arashi', 'Kakumatsuro Arashi', 'Matsunosuke Onoe'), 50),\n",
              " (('Chosei Kataoka', 'Kitsuraku Arashi', 'Matsunosuke Onoe'), 50),\n",
              " (('Kitsuraku Arashi', 'Utae Nakamura', 'Matsunosuke Onoe'), 49),\n",
              " (('Chosei Kataoka', 'Kitsuraku Arashi', 'Kijaku Ôtani'), 48),\n",
              " (('Chosei Kataoka', 'Suminojo Ichikawa', 'Matsunosuke Onoe'), 48),\n",
              " (('Rihaku Arashi', 'Kijaku Ôtani', 'Matsunosuke Onoe'), 47),\n",
              " (('Ichitarô Kataoka', 'Kijaku Ôtani', 'Matsunosuke Onoe'), 47),\n",
              " (('Kitsuraku Arashi', 'Utae Nakamura', 'Kijaku Ôtani'), 46),\n",
              " (('Chosei Kataoka', 'Kijaku Ôtani', 'Suminojo Ichikawa'), 45),\n",
              " (('Kakumatsuro Arashi', 'Suminojo Ichikawa', 'Matsunosuke Onoe'), 45),\n",
              " (('Adoor Bhasi', 'Prem Nazir', 'Meena'), 44),\n",
              " (('Chosei Kataoka', 'Kitsuraku Arashi', 'Suminojo Ichikawa'), 44),\n",
              " (('Hideo Fujino', 'Teinosuke Kinugasa', 'Takeo Azuma'), 44),\n",
              " (('Kitsuraku Arashi', 'Kakumatsuro Arashi', 'Kijaku Ôtani'), 43),\n",
              " (('Rihaku Arashi', 'Kitsuraku Arashi', 'Matsunosuke Onoe'), 42),\n",
              " (('Rihaku Arashi', 'Suminojo Ichikawa', 'Matsunosuke Onoe'), 42),\n",
              " (('Ichitarô Kataoka', 'Kitsuraku Arashi', 'Matsunosuke Onoe'), 42),\n",
              " (('Bahadur', 'Adoor Bhasi', 'Thikkurisi Sukumaran Nair'), 41),\n",
              " (('Ichitarô Kataoka', 'Suminojo Ichikawa', 'Matsunosuke Onoe'), 41),\n",
              " (('Unpei Yokoyama', 'Kaichi Yamamoto', 'Takeo Azuma'), 40),\n",
              " (('Sentarô Nakamura', 'Kijaku Ôtani', 'Matsunosuke Onoe'), 40),\n",
              " (('Hideo Fujino', 'Teinosuke Kinugasa', 'Kaichi Yamamoto'), 40),\n",
              " (('Bahadur', 'Adoor Bhasi', 'Meena'), 40),\n",
              " (('Hideo Fujino', 'Unpei Yokoyama', 'Kaichi Yamamoto'), 39),\n",
              " (('Masao Ômura', 'Kaichi Yamamoto', 'Takeo Azuma'), 39),\n",
              " (('Adoor Bhasi', 'Prem Nazir', 'T.R. Omana'), 39),\n",
              " (('Kakumatsuro Arashi', 'Kijaku Ôtani', 'Suminojo Ichikawa'), 39),\n",
              " (('Hideo Fujino', 'Unpei Yokoyama', 'Takeo Azuma'), 38),\n",
              " (('Sentarô Nakamura', 'Suminojo Ichikawa', 'Matsunosuke Onoe'), 38),\n",
              " (('Adoor Bhasi', 'Prem Nazir', 'Paravoor Bharathan'), 38),\n",
              " (('Kitsuraku Arashi', 'Kakumatsuro Arashi', 'Suminojo Ichikawa'), 38),\n",
              " (('Rihaku Arashi', 'Kijaku Ôtani', 'Suminojo Ichikawa'), 38),\n",
              " (('Rihaku Arashi', 'Kitsuraku Arashi', 'Kijaku Ôtani'), 37),\n",
              " (('Kakumatsuro Arashi', \"Sen'nosuke Nakamura\", 'Matsunosuke Onoe'), 37),\n",
              " (('Tito Sotto', 'Vic Sotto', 'Joey de Leon'), 37),\n",
              " (('Ichitarô Kataoka', 'Kitsuraku Arashi', 'Kijaku Ôtani'), 37),\n",
              " (('Ichitarô Kataoka', 'Kijaku Ôtani', 'Suminojo Ichikawa'), 37),\n",
              " (('Utae Nakamura', 'Suminojo Ichikawa', 'Matsunosuke Onoe'), 36),\n",
              " (('Kitsuraku Arashi', 'Sentarô Nakamura', 'Matsunosuke Onoe'), 36),\n",
              " (('Teinosuke Kinugasa', 'Kaichi Yamamoto', 'Takeo Azuma'), 36),\n",
              " (('T.S. Muthaiah', 'Bahadur', 'Adoor Bhasi'), 36),\n",
              " (('Sentarô Nakamura', 'Kijaku Ôtani', 'Suminojo Ichikawa'), 35),\n",
              " (('Jayabharati', 'Adoor Bhasi', 'Meena'), 35),\n",
              " (('Hôshô Bandô', 'Ritoku Arashi', 'Okuzan Asao'), 35),\n",
              " (('Ichitarô Kataoka', 'Kitsuraku Arashi', 'Suminojo Ichikawa'), 35),\n",
              " (('Hideo Fujino', 'Masao Ômura', 'Kaichi Yamamoto'), 34),\n",
              " (('Sannosuke Fujikawa', 'Kaichi Yamamoto', 'Takeo Azuma'), 34),\n",
              " (('Kitsuraku Arashi', 'Sentarô Nakamura', 'Kijaku Ôtani'), 34),\n",
              " (('Kaichi Yamamoto', 'Takeo Azuma', 'Misao Satsuki'), 34),\n",
              " (('Rihaku Arashi', 'Kitsuraku Arashi', 'Suminojo Ichikawa'), 34),\n",
              " (('Utae Nakamura', 'Kijaku Ôtani', 'Suminojo Ichikawa'), 33),\n",
              " (('Kakumatsuro Arashi', \"Sen'nosuke Nakamura\", 'Kijaku Ôtani'), 33),\n",
              " (('Kitsuraku Arashi', 'Utae Nakamura', 'Suminojo Ichikawa'), 32),\n",
              " (('Hideo Fujino', 'Sannosuke Fujikawa', 'Kaichi Yamamoto'), 32),\n",
              " (('Unpei Yokoyama', 'Masao Ômura', 'Kaichi Yamamoto'), 32),\n",
              " (('Ritoku Arashi', 'Okuzan Asao', 'Enshô Jitsukawa'), 32),\n",
              " (('Hideo Fujino', 'Masao Ômura', 'Takeo Azuma'), 31),\n",
              " (('Kitsuraku Arashi', 'Sentarô Nakamura', 'Suminojo Ichikawa'), 31),\n",
              " (('Sheela', 'Adoor Bhasi', 'Prem Nazir'), 31),\n",
              " (('Ritoku Arashi', 'Okuzan Asao', 'Shôzô Arashi'), 31),\n",
              " (('Allan Lane', 'Black Jack', 'Eddy Waller'), 30),\n",
              " (('Hideo Fujino', 'Sannosuke Fujikawa', 'Takeo Azuma'), 30),\n",
              " (('Unpei Yokoyama', 'Masao Ômura', 'Takeo Azuma'), 30),\n",
              " (('Kitsuraku Arashi', 'Kakumatsuro Arashi', \"Sen'nosuke Nakamura\"), 30),\n",
              " (('Hideo Fujino', 'Unpei Yokoyama', 'Teinosuke Kinugasa'), 30),\n",
              " (('Jayabharati', 'Adoor Bhasi', 'Thikkurisi Sukumaran Nair'), 30),\n",
              " (('Hôshô Bandô', 'Okuzan Asao', 'Enshô Jitsukawa'), 30),\n",
              " (('Bahadur', 'Prem Nazir', 'Thikkurisi Sukumaran Nair'), 30),\n",
              " (('Adoor Bhasi', 'Prem Nazir', 'Jose Prakash'), 29),\n",
              " (('Adoor Bhasi', 'Prem Nazir', 'Kaviyoor Ponnamma'), 29),\n",
              " (('Unpei Yokoyama', 'Sannosuke Fujikawa', 'Masao Ômura'), 29),\n",
              " ((\"Sen'nosuke Nakamura\", 'Utae Nakamura', 'Matsunosuke Onoe'), 29),\n",
              " (('Jayabharati', 'Bahadur', 'Prem Nazir'), 29),\n",
              " (('Hideo Fujino', 'Kaichi Yamamoto', 'Misao Satsuki'), 29),\n",
              " (('Jayabharati', 'Adoor Bhasi', 'Paravoor Bharathan'), 29),\n",
              " (('Hôshô Bandô', 'Okuzan Asao', 'Shôzô Arashi'), 29),\n",
              " (('Kakumatsuro Arashi', \"Sen'nosuke Nakamura\", 'Suminojo Ichikawa'), 29)]"
            ]
          },
          "metadata": {},
          "execution_count": 64
        }
      ]
    },
    {
      "cell_type": "code",
      "metadata": {
        "colab": {
          "base_uri": "https://localhost:8080/"
        },
        "id": "5xil4-ybAOYN",
        "outputId": "823397b8-50f4-4df3-c35b-26687e84b512"
      },
      "source": [
        "# Frequent-items table - TRIPLES\n",
        "\n",
        "freqitem_table = (sc.parallelize(array_counts)\n",
        "                    .map(lambda basket: -1 if basket[1] <= 10 else basket[0])\n",
        "                    .collect())\n",
        "\n",
        "len(freqitem_table)"
      ],
      "execution_count": 65,
      "outputs": [
        {
          "output_type": "execute_result",
          "data": {
            "text/plain": [
              "98474"
            ]
          },
          "metadata": {},
          "execution_count": 65
        }
      ]
    },
    {
      "cell_type": "code",
      "metadata": {
        "id": "w5E3O6PgAa84"
      },
      "source": [
        "# Remove unfrequent triples and retrieve frequent singletons\n",
        "\n",
        "freqitem_table = sorted((sc.parallelize(filter(lambda itemset: itemset != -1, freqitem_table))\n",
        "                           .flatMap(lambda itemset: itemset)\n",
        "                           .distinct()\n",
        "                           .collect()))"
      ],
      "execution_count": 66,
      "outputs": []
    },
    {
      "cell_type": "code",
      "metadata": {
        "colab": {
          "base_uri": "https://localhost:8080/"
        },
        "id": "hJ9KrxvJ5VC2",
        "outputId": "16023f98-521a-404f-e3a4-f1f831fc6362"
      },
      "source": [
        "freqitem_table[:50]"
      ],
      "execution_count": 67,
      "outputs": [
        {
          "output_type": "execute_result",
          "data": {
            "text/plain": [
              "[40,\n",
              " 214,\n",
              " 216,\n",
              " 454,\n",
              " 459,\n",
              " 461,\n",
              " 462,\n",
              " 662,\n",
              " 664,\n",
              " 665,\n",
              " 666,\n",
              " 713,\n",
              " 748,\n",
              " 766,\n",
              " 807,\n",
              " 963,\n",
              " 1920,\n",
              " 2009,\n",
              " 2019,\n",
              " 2021,\n",
              " 2022,\n",
              " 2024,\n",
              " 2025,\n",
              " 2026,\n",
              " 2027,\n",
              " 2028,\n",
              " 2029,\n",
              " 2035,\n",
              " 2264,\n",
              " 2265,\n",
              " 2298,\n",
              " 2560,\n",
              " 2561,\n",
              " 2562,\n",
              " 2600,\n",
              " 2601,\n",
              " 2603,\n",
              " 2604,\n",
              " 2606,\n",
              " 2659,\n",
              " 2723,\n",
              " 2724,\n",
              " 2725,\n",
              " 2734,\n",
              " 2735,\n",
              " 2739,\n",
              " 2774,\n",
              " 2788,\n",
              " 2803,\n",
              " 2835]"
            ]
          },
          "metadata": {},
          "execution_count": 67
        }
      ]
    },
    {
      "cell_type": "code",
      "metadata": {
        "colab": {
          "base_uri": "https://localhost:8080/"
        },
        "id": "xYUnMOZvAupR",
        "outputId": "a6254118-b4f0-4b0a-cbbf-9e6fca075457"
      },
      "source": [
        "# Format the basket lists to frequent items\n",
        "\n",
        "freqbaskets_hash = (sc.parallelize(freqbaskets_hash)\n",
        "                      .map(lambda basket: [item if item in freqitem_table else -1 for item in basket])\n",
        "                      .collect())\n",
        "\n",
        "\n",
        "# Remove non frequent items and empty baskets from the original baskets\n",
        "\n",
        "freqbaskets_hash = (sc.parallelize(freqbaskets_hash)\n",
        "                      .map(lambda basket: [item for item in basket if item != -1])\n",
        "                      .collect())\n",
        "\n",
        "\n",
        "# Remove the empty lists and the baskets with length lower than 4\n",
        "\n",
        "freqbaskets_hash = list(filter(lambda bsk: bsk != [] and len(bsk) >= 4, freqbaskets_hash))\n",
        "print(len(freqbaskets_hash))"
      ],
      "execution_count": 68,
      "outputs": [
        {
          "output_type": "stream",
          "name": "stdout",
          "text": [
            "2429\n"
          ]
        }
      ]
    },
    {
      "cell_type": "code",
      "metadata": {
        "colab": {
          "base_uri": "https://localhost:8080/"
        },
        "id": "jASLyAv0BniX",
        "outputId": "1d3e7f76-3024-44d8-d24d-caeb7bdf362e"
      },
      "source": [
        "freqbaskets_hash[:50]"
      ],
      "execution_count": 69,
      "outputs": [
        {
          "output_type": "execute_result",
          "data": {
            "text/plain": [
              "[[662, 664, 665, 666],\n",
              " [662, 664, 665, 666],\n",
              " [2021, 2022, 2024, 2025, 2026, 2027],\n",
              " [2024, 2028, 2026, 2029],\n",
              " [2600, 2601, 2603, 2604, 2024, 2606],\n",
              " [2723, 2024, 2025, 2027, 2724, 2725],\n",
              " [2734, 2735, 2027, 2739],\n",
              " [2908, 2909, 2910, 2913],\n",
              " [2021, 3169, 2604, 2024, 2739],\n",
              " [3211, 2908, 2910, 3214, 2913],\n",
              " [3403, 3405, 3406, 2724],\n",
              " [4349, 4351, 4352, 4353, 4354],\n",
              " [3211, 4750, 2908, 2910],\n",
              " [3211, 4780, 2909, 4781, 4777, 4782],\n",
              " [4303, 5921, 5922, 5923, 5924],\n",
              " [4303, 5921, 5922, 5923, 5961, 5924],\n",
              " [3211, 4750, 6940, 2913],\n",
              " [7799, 7800, 6478, 7801],\n",
              " [9667, 2264, 9669, 9670],\n",
              " [3211, 2908, 4777, 6940],\n",
              " [3211, 9889, 2910, 6940],\n",
              " [3211, 9889, 4777, 5914],\n",
              " [10007, 3405, 3406, 10008, 2024, 10009],\n",
              " [3408, 10087, 2842, 3405, 2725],\n",
              " [2734, 2604, 10292, 3405, 10008, 2606],\n",
              " [10506, 10507, 10419, 3823],\n",
              " [2908, 10519, 4780, 2910],\n",
              " [2774, 10691, 3405, 10009],\n",
              " [3211, 10749, 4780, 5914, 4782],\n",
              " [10759, 10761, 10762, 3350, 10764],\n",
              " [6584, 10761, 11170, 10764, 11172],\n",
              " [4085, 11477, 4622, 11478, 11479, 4559, 11481, 4791, 11482],\n",
              " [11552, 11553, 4349, 11554, 4352, 4354],\n",
              " [4349, 11646, 11554, 4351, 11649, 4352, 4354],\n",
              " [11687, 4349, 11554, 11649, 4352, 4353, 4354],\n",
              " [11916, 11919, 10087, 4617],\n",
              " [11940, 11943, 11944, 11919, 11931],\n",
              " [4303, 13251, 5922, 5924],\n",
              " [13869, 13870, 13871, 13872, 13873, 13874, 13875],\n",
              " [17604, 2021, 3403, 3408, 3405, 2028, 2025],\n",
              " [3405, 2028, 2025, 2725],\n",
              " [3211, 14353, 4782, 2913],\n",
              " [18822, 7420, 4352, 4354],\n",
              " [2908, 4780, 2909, 2910, 3214, 6940],\n",
              " [4085, 11478, 20308, 4559, 11481],\n",
              " [4085, 4622, 11478, 20308, 6561, 4559, 11481, 20310],\n",
              " [3658, 22050, 22051, 3660],\n",
              " [3211, 4750, 10519, 2913],\n",
              " [2734, 2842, 10292, 3405, 2024, 2028],\n",
              " [13251, 4305, 963, 4306]]"
            ]
          },
          "metadata": {},
          "execution_count": 69
        }
      ]
    },
    {
      "cell_type": "code",
      "metadata": {
        "colab": {
          "base_uri": "https://localhost:8080/"
        },
        "id": "Wdb-7TCere5Z",
        "outputId": "5002036c-d23e-41cc-ecc2-d94d5de7734d"
      },
      "source": [
        "# Use the APriori function to get frequent quadruplets\n",
        "\n",
        "freq_quadruplets = APriori(hashed_baskets=baskets_hash, k_size=4, s_threshold=10)\n",
        "\n",
        "sorted((sc.parallelize(freq_quadruplets)\n",
        "          .map(lambda basket: ((items_to_hash[basket[0][0]], items_to_hash[basket[0][1]], \n",
        "                                items_to_hash[basket[0][2]], items_to_hash[basket[0][3]]), basket[1]))\n",
        "          .collect()), key = lambda a: a[1], reverse = True)[:10]"
      ],
      "execution_count": 70,
      "outputs": [
        {
          "output_type": "execute_result",
          "data": {
            "text/plain": [
              "[(('Kitsuraku Arashi',\n",
              "   'Kijaku Ôtani',\n",
              "   'Suminojo Ichikawa',\n",
              "   'Matsunosuke Onoe'),\n",
              "  86),\n",
              " (('Kitsuraku Arashi',\n",
              "   \"Sen'nosuke Nakamura\",\n",
              "   'Kijaku Ôtani',\n",
              "   'Matsunosuke Onoe'),\n",
              "  62),\n",
              " ((\"Sen'nosuke Nakamura\",\n",
              "   'Kijaku Ôtani',\n",
              "   'Suminojo Ichikawa',\n",
              "   'Matsunosuke Onoe'),\n",
              "  54),\n",
              " (('Kitsuraku Arashi',\n",
              "   \"Sen'nosuke Nakamura\",\n",
              "   'Suminojo Ichikawa',\n",
              "   'Matsunosuke Onoe'),\n",
              "  51),\n",
              " (('Hôshô Bandô', 'Ritoku Arashi', 'Shôzô Arashi', 'Enshô Jitsukawa'), 51),\n",
              " (('Chosei Kataoka', 'Kitsuraku Arashi', 'Kijaku Ôtani', 'Matsunosuke Onoe'),\n",
              "  48),\n",
              " (('Kitsuraku Arashi', 'Utae Nakamura', 'Kijaku Ôtani', 'Matsunosuke Onoe'),\n",
              "  46),\n",
              " (('Chosei Kataoka', 'Kijaku Ôtani', 'Suminojo Ichikawa', 'Matsunosuke Onoe'),\n",
              "  45),\n",
              " (('Kitsuraku Arashi',\n",
              "   \"Sen'nosuke Nakamura\",\n",
              "   'Kijaku Ôtani',\n",
              "   'Suminojo Ichikawa'),\n",
              "  45),\n",
              " (('Chosei Kataoka',\n",
              "   'Kitsuraku Arashi',\n",
              "   'Suminojo Ichikawa',\n",
              "   'Matsunosuke Onoe'),\n",
              "  44)]"
            ]
          },
          "metadata": {},
          "execution_count": 70
        }
      ]
    },
    {
      "cell_type": "code",
      "metadata": {
        "id": "ovdDZ58dB3O-",
        "colab": {
          "base_uri": "https://localhost:8080/"
        },
        "outputId": "80e47303-3c6b-4254-b944-433a54f7987b"
      },
      "source": [
        "# Count the occurrence of each item over all the baskets - FOURPLEX (itemsets of size 4)\n",
        "\n",
        "array_counts = (sc.parallelize(freqbaskets_hash).map(lambda basket: combinations(basket, 4))\n",
        "                                            .flatMap(lambda fourplex: [(fourple, 1) for fourple in fourplex])\n",
        "                                            .reduceByKey(lambda a, b: a + b)\n",
        "                                            .collect())\n",
        "\n",
        "print(len(array_counts))"
      ],
      "execution_count": 71,
      "outputs": [
        {
          "output_type": "stream",
          "name": "stdout",
          "text": [
            "13641\n"
          ]
        }
      ]
    },
    {
      "cell_type": "code",
      "metadata": {
        "id": "du_ouSvsC5ZZ",
        "colab": {
          "base_uri": "https://localhost:8080/"
        },
        "outputId": "e4badfab-5fdd-4734-a67f-543c0d6a3f97"
      },
      "source": [
        "array_counts[:50]"
      ],
      "execution_count": 72,
      "outputs": [
        {
          "output_type": "execute_result",
          "data": {
            "text/plain": [
              "[((662, 664, 665, 666), 18),\n",
              " ((2021, 2022, 2024, 2025), 2),\n",
              " ((2021, 2022, 2024, 2026), 1),\n",
              " ((2021, 2022, 2024, 2027), 1),\n",
              " ((2021, 2022, 2025, 2026), 1),\n",
              " ((2021, 2022, 2025, 2027), 1),\n",
              " ((2021, 2022, 2026, 2027), 1),\n",
              " ((2021, 2024, 2025, 2026), 8),\n",
              " ((2021, 2024, 2025, 2027), 7),\n",
              " ((2021, 2024, 2026, 2027), 2),\n",
              " ((2021, 2025, 2026, 2027), 1),\n",
              " ((2022, 2024, 2025, 2026), 4),\n",
              " ((2022, 2024, 2025, 2027), 1),\n",
              " ((2022, 2024, 2026, 2027), 1),\n",
              " ((2022, 2025, 2026, 2027), 1),\n",
              " ((2024, 2025, 2026, 2027), 7),\n",
              " ((2024, 2028, 2026, 2029), 1),\n",
              " ((2600, 2601, 2603, 2604), 2),\n",
              " ((2600, 2601, 2603, 2024), 3),\n",
              " ((2600, 2601, 2603, 2606), 1),\n",
              " ((2600, 2601, 2604, 2024), 2),\n",
              " ((2600, 2601, 2604, 2606), 1),\n",
              " ((2600, 2601, 2024, 2606), 2),\n",
              " ((2600, 2603, 2604, 2024), 6),\n",
              " ((2600, 2603, 2604, 2606), 1),\n",
              " ((2600, 2603, 2024, 2606), 3),\n",
              " ((2600, 2604, 2024, 2606), 2),\n",
              " ((2601, 2603, 2604, 2024), 2),\n",
              " ((2601, 2603, 2604, 2606), 1),\n",
              " ((2601, 2603, 2024, 2606), 3),\n",
              " ((2601, 2604, 2024, 2606), 2),\n",
              " ((2603, 2604, 2024, 2606), 1),\n",
              " ((2723, 2024, 2025, 2027), 4),\n",
              " ((2723, 2024, 2025, 2724), 4),\n",
              " ((2723, 2024, 2025, 2725), 4),\n",
              " ((2723, 2024, 2027, 2724), 2),\n",
              " ((2723, 2024, 2027, 2725), 1),\n",
              " ((2723, 2024, 2724, 2725), 1),\n",
              " ((2723, 2025, 2027, 2724), 1),\n",
              " ((2723, 2025, 2027, 2725), 1),\n",
              " ((2723, 2025, 2724, 2725), 1),\n",
              " ((2723, 2027, 2724, 2725), 1),\n",
              " ((2024, 2025, 2027, 2724), 6),\n",
              " ((2024, 2025, 2027, 2725), 6),\n",
              " ((2024, 2025, 2724, 2725), 12),\n",
              " ((2024, 2027, 2724, 2725), 2),\n",
              " ((2025, 2027, 2724, 2725), 1),\n",
              " ((2734, 2735, 2027, 2739), 1),\n",
              " ((2908, 2909, 2910, 2913), 3),\n",
              " ((2021, 3169, 2604, 2024), 4)]"
            ]
          },
          "metadata": {},
          "execution_count": 72
        }
      ]
    },
    {
      "cell_type": "code",
      "metadata": {
        "id": "72v6mF8qCheM",
        "colab": {
          "base_uri": "https://localhost:8080/"
        },
        "outputId": "0dcf636c-fad2-4284-dc3d-1567d3f8aaf4"
      },
      "source": [
        "# Format the frequent fourplex to actors names\n",
        "\n",
        "actors_counts = sorted((sc.parallelize(array_counts)\n",
        "                          .map(lambda basket: ((items_to_hash[basket[0][0]], items_to_hash[basket[0][1]], items_to_hash[basket[0][2]], \n",
        "                                                items_to_hash[basket[0][3]]), basket[1]))\n",
        "                          .collect()), key = lambda a: a[1], reverse = True)\n",
        "\n",
        "print(len(actors_counts))"
      ],
      "execution_count": 73,
      "outputs": [
        {
          "output_type": "stream",
          "name": "stdout",
          "text": [
            "13641\n"
          ]
        }
      ]
    },
    {
      "cell_type": "code",
      "metadata": {
        "id": "7D5YcvmsE0zm",
        "colab": {
          "base_uri": "https://localhost:8080/"
        },
        "outputId": "a7eb64d6-432b-44c5-c417-b98d68fdd3b3"
      },
      "source": [
        "actors_counts[:100]"
      ],
      "execution_count": 74,
      "outputs": [
        {
          "output_type": "execute_result",
          "data": {
            "text/plain": [
              "[(('Kitsuraku Arashi',\n",
              "   'Kijaku Ôtani',\n",
              "   'Suminojo Ichikawa',\n",
              "   'Matsunosuke Onoe'),\n",
              "  86),\n",
              " (('Kitsuraku Arashi',\n",
              "   \"Sen'nosuke Nakamura\",\n",
              "   'Kijaku Ôtani',\n",
              "   'Matsunosuke Onoe'),\n",
              "  62),\n",
              " ((\"Sen'nosuke Nakamura\",\n",
              "   'Kijaku Ôtani',\n",
              "   'Suminojo Ichikawa',\n",
              "   'Matsunosuke Onoe'),\n",
              "  54),\n",
              " (('Kitsuraku Arashi',\n",
              "   \"Sen'nosuke Nakamura\",\n",
              "   'Suminojo Ichikawa',\n",
              "   'Matsunosuke Onoe'),\n",
              "  51),\n",
              " (('Hôshô Bandô', 'Ritoku Arashi', 'Shôzô Arashi', 'Enshô Jitsukawa'), 51),\n",
              " (('Chosei Kataoka', 'Kitsuraku Arashi', 'Kijaku Ôtani', 'Matsunosuke Onoe'),\n",
              "  48),\n",
              " (('Kitsuraku Arashi', 'Utae Nakamura', 'Kijaku Ôtani', 'Matsunosuke Onoe'),\n",
              "  46),\n",
              " (('Chosei Kataoka', 'Kijaku Ôtani', 'Suminojo Ichikawa', 'Matsunosuke Onoe'),\n",
              "  45),\n",
              " (('Kitsuraku Arashi',\n",
              "   \"Sen'nosuke Nakamura\",\n",
              "   'Kijaku Ôtani',\n",
              "   'Suminojo Ichikawa'),\n",
              "  45),\n",
              " (('Chosei Kataoka',\n",
              "   'Kitsuraku Arashi',\n",
              "   'Suminojo Ichikawa',\n",
              "   'Matsunosuke Onoe'),\n",
              "  44),\n",
              " (('Kitsuraku Arashi',\n",
              "   'Kakumatsuro Arashi',\n",
              "   'Kijaku Ôtani',\n",
              "   'Matsunosuke Onoe'),\n",
              "  42),\n",
              " (('Chosei Kataoka', 'Kitsuraku Arashi', 'Kijaku Ôtani', 'Suminojo Ichikawa'),\n",
              "  42),\n",
              " (('Rihaku Arashi', 'Kijaku Ôtani', 'Suminojo Ichikawa', 'Matsunosuke Onoe'),\n",
              "  38),\n",
              " (('Kakumatsuro Arashi',\n",
              "   'Kijaku Ôtani',\n",
              "   'Suminojo Ichikawa',\n",
              "   'Matsunosuke Onoe'),\n",
              "  38),\n",
              " (('Rihaku Arashi', 'Kitsuraku Arashi', 'Kijaku Ôtani', 'Matsunosuke Onoe'),\n",
              "  37),\n",
              " (('Kitsuraku Arashi',\n",
              "   'Kakumatsuro Arashi',\n",
              "   'Suminojo Ichikawa',\n",
              "   'Matsunosuke Onoe'),\n",
              "  37),\n",
              " (('Ichitarô Kataoka', 'Kitsuraku Arashi', 'Kijaku Ôtani', 'Matsunosuke Onoe'),\n",
              "  36),\n",
              " (('Ichitarô Kataoka',\n",
              "   'Kijaku Ôtani',\n",
              "   'Suminojo Ichikawa',\n",
              "   'Matsunosuke Onoe'),\n",
              "  36),\n",
              " (('Hideo Fujino', 'Teinosuke Kinugasa', 'Kaichi Yamamoto', 'Takeo Azuma'),\n",
              "  35),\n",
              " (('Hideo Fujino', 'Unpei Yokoyama', 'Kaichi Yamamoto', 'Takeo Azuma'), 34),\n",
              " (('Sentarô Nakamura',\n",
              "   'Kijaku Ôtani',\n",
              "   'Suminojo Ichikawa',\n",
              "   'Matsunosuke Onoe'),\n",
              "  34),\n",
              " (('Rihaku Arashi',\n",
              "   'Kitsuraku Arashi',\n",
              "   'Suminojo Ichikawa',\n",
              "   'Matsunosuke Onoe'),\n",
              "  34),\n",
              " (('Utae Nakamura', 'Kijaku Ôtani', 'Suminojo Ichikawa', 'Matsunosuke Onoe'),\n",
              "  33),\n",
              " (('Kitsuraku Arashi', 'Sentarô Nakamura', 'Kijaku Ôtani', 'Matsunosuke Onoe'),\n",
              "  33),\n",
              " (('Ichitarô Kataoka',\n",
              "   'Kitsuraku Arashi',\n",
              "   'Suminojo Ichikawa',\n",
              "   'Matsunosuke Onoe'),\n",
              "  33),\n",
              " (('Kitsuraku Arashi',\n",
              "   'Utae Nakamura',\n",
              "   'Suminojo Ichikawa',\n",
              "   'Matsunosuke Onoe'),\n",
              "  32),\n",
              " (('Kitsuraku Arashi',\n",
              "   'Kakumatsuro Arashi',\n",
              "   'Kijaku Ôtani',\n",
              "   'Suminojo Ichikawa'),\n",
              "  32),\n",
              " (('Hideo Fujino', 'Masao Ômura', 'Kaichi Yamamoto', 'Takeo Azuma'), 31),\n",
              " (('Kakumatsuro Arashi',\n",
              "   \"Sen'nosuke Nakamura\",\n",
              "   'Kijaku Ôtani',\n",
              "   'Matsunosuke Onoe'),\n",
              "  31),\n",
              " (('Kitsuraku Arashi', 'Utae Nakamura', 'Kijaku Ôtani', 'Suminojo Ichikawa'),\n",
              "  30),\n",
              " (('Kitsuraku Arashi',\n",
              "   'Sentarô Nakamura',\n",
              "   'Suminojo Ichikawa',\n",
              "   'Matsunosuke Onoe'),\n",
              "  30),\n",
              " (('Hôshô Bandô', 'Ritoku Arashi', 'Okuzan Asao', 'Enshô Jitsukawa'), 30),\n",
              " (('Ichitarô Kataoka',\n",
              "   'Kitsuraku Arashi',\n",
              "   'Kijaku Ôtani',\n",
              "   'Suminojo Ichikawa'),\n",
              "  30),\n",
              " (('Rihaku Arashi', 'Kitsuraku Arashi', 'Kijaku Ôtani', 'Suminojo Ichikawa'),\n",
              "  30),\n",
              " (('Hideo Fujino', 'Sannosuke Fujikawa', 'Kaichi Yamamoto', 'Takeo Azuma'),\n",
              "  29),\n",
              " (('Unpei Yokoyama', 'Masao Ômura', 'Kaichi Yamamoto', 'Takeo Azuma'), 29),\n",
              " (('Kitsuraku Arashi',\n",
              "   'Kakumatsuro Arashi',\n",
              "   \"Sen'nosuke Nakamura\",\n",
              "   'Matsunosuke Onoe'),\n",
              "  29),\n",
              " (('Kitsuraku Arashi',\n",
              "   'Sentarô Nakamura',\n",
              "   'Kijaku Ôtani',\n",
              "   'Suminojo Ichikawa'),\n",
              "  29),\n",
              " (('Hôshô Bandô', 'Ritoku Arashi', 'Okuzan Asao', 'Shôzô Arashi'), 29),\n",
              " (('Ritoku Arashi', 'Okuzan Asao', 'Shôzô Arashi', 'Enshô Jitsukawa'), 28),\n",
              " (('Hideo Fujino', 'Unpei Yokoyama', 'Teinosuke Kinugasa', 'Takeo Azuma'), 27),\n",
              " (('Hideo Fujino', 'Unpei Yokoyama', 'Masao Ômura', 'Kaichi Yamamoto'), 26),\n",
              " (('Kitsuraku Arashi',\n",
              "   \"Sen'nosuke Nakamura\",\n",
              "   'Utae Nakamura',\n",
              "   'Matsunosuke Onoe'),\n",
              "  26),\n",
              " ((\"Sen'nosuke Nakamura\", 'Utae Nakamura', 'Kijaku Ôtani', 'Matsunosuke Onoe'),\n",
              "  26),\n",
              " (('Hideo Fujino', 'Kaichi Yamamoto', 'Takeo Azuma', 'Misao Satsuki'), 26),\n",
              " (('Hôshô Bandô', 'Okuzan Asao', 'Shôzô Arashi', 'Enshô Jitsukawa'), 26),\n",
              " (('Kakumatsuro Arashi',\n",
              "   \"Sen'nosuke Nakamura\",\n",
              "   'Suminojo Ichikawa',\n",
              "   'Matsunosuke Onoe'),\n",
              "  26),\n",
              " (('Kitsuraku Arashi',\n",
              "   'Kakumatsuro Arashi',\n",
              "   \"Sen'nosuke Nakamura\",\n",
              "   'Kijaku Ôtani'),\n",
              "  25),\n",
              " ((\"Sen'nosuke Nakamura\",\n",
              "   'Sentarô Nakamura',\n",
              "   'Kijaku Ôtani',\n",
              "   'Matsunosuke Onoe'),\n",
              "  25),\n",
              " (('Hideo Fujino', 'Unpei Yokoyama', 'Teinosuke Kinugasa', 'Kaichi Yamamoto'),\n",
              "  25),\n",
              " (('Bahadur', 'Adoor Bhasi', 'Prem Nazir', 'Thikkurisi Sukumaran Nair'), 25),\n",
              " (('Hideo Fujino', 'Unpei Yokoyama', 'Masao Ômura', 'Takeo Azuma'), 24),\n",
              " (('Kitsuraku Arashi', \"Sen'nosuke Nakamura\", 'Utae Nakamura', 'Kijaku Ôtani'),\n",
              "  24),\n",
              " (('Unpei Yokoyama', 'Teinosuke Kinugasa', 'Kaichi Yamamoto', 'Takeo Azuma'),\n",
              "  24),\n",
              " (('Rihaku Arashi', 'Chosei Kataoka', 'Kijaku Ôtani', 'Matsunosuke Onoe'), 24),\n",
              " (('Unpei Yokoyama', 'Sannosuke Fujikawa', 'Kaichi Yamamoto', 'Takeo Azuma'),\n",
              "  23),\n",
              " ((\"Sen'nosuke Nakamura\",\n",
              "   'Sentarô Nakamura',\n",
              "   'Suminojo Ichikawa',\n",
              "   'Matsunosuke Onoe'),\n",
              "  23),\n",
              " (('Ichitarô Kataoka', 'Chosei Kataoka', 'Kijaku Ôtani', 'Matsunosuke Onoe'),\n",
              "  23),\n",
              " (('Hideo Fujino', 'Unpei Yokoyama', 'Sannosuke Fujikawa', 'Kaichi Yamamoto'),\n",
              "  22),\n",
              " (('Kitsuraku Arashi',\n",
              "   'Kakumatsuro Arashi',\n",
              "   'Utae Nakamura',\n",
              "   'Matsunosuke Onoe'),\n",
              "  22),\n",
              " (('Kakumatsuro Arashi', 'Utae Nakamura', 'Kijaku Ôtani', 'Matsunosuke Onoe'),\n",
              "  22),\n",
              " (('Chosei Kataoka',\n",
              "   \"Sen'nosuke Nakamura\",\n",
              "   'Kijaku Ôtani',\n",
              "   'Matsunosuke Onoe'),\n",
              "  22),\n",
              " ((\"Sen'nosuke Nakamura\",\n",
              "   'Sentarô Nakamura',\n",
              "   'Kijaku Ôtani',\n",
              "   'Suminojo Ichikawa'),\n",
              "  22),\n",
              " (('Hideo Fujino', 'Masao Ômura', 'Teinosuke Kinugasa', 'Kaichi Yamamoto'),\n",
              "  22),\n",
              " (('Jayabharati', 'Bahadur', 'Adoor Bhasi', 'Prem Nazir'), 22),\n",
              " (('Ichitarô Kataoka',\n",
              "   'Kakumatsuro Arashi',\n",
              "   'Kijaku Ôtani',\n",
              "   'Matsunosuke Onoe'),\n",
              "  22),\n",
              " (('Kitsuraku Arashi',\n",
              "   'Kakumatsuro Arashi',\n",
              "   \"Sen'nosuke Nakamura\",\n",
              "   'Suminojo Ichikawa'),\n",
              "  22),\n",
              " (('Kakumatsuro Arashi',\n",
              "   \"Sen'nosuke Nakamura\",\n",
              "   'Kijaku Ôtani',\n",
              "   'Suminojo Ichikawa'),\n",
              "  22),\n",
              " (('Rihaku Arashi', 'Chosei Kataoka', 'Kijaku Ôtani', 'Suminojo Ichikawa'),\n",
              "  22),\n",
              " (('Rihaku Arashi', 'Chosei Kataoka', 'Suminojo Ichikawa', 'Matsunosuke Onoe'),\n",
              "  22),\n",
              " (('Hideo Fujino', 'Unpei Yokoyama', 'Sannosuke Fujikawa', 'Takeo Azuma'), 21),\n",
              " (('Masao Ômura', 'Kaichi Yamamoto', 'Takeo Azuma', 'Ryôtarô Mizushima'), 21),\n",
              " (('Kitsuraku Arashi',\n",
              "   \"Sen'nosuke Nakamura\",\n",
              "   'Sentarô Nakamura',\n",
              "   'Kijaku Ôtani'),\n",
              "  21),\n",
              " (('Kitsuraku Arashi',\n",
              "   \"Sen'nosuke Nakamura\",\n",
              "   'Sentarô Nakamura',\n",
              "   'Matsunosuke Onoe'),\n",
              "  21),\n",
              " (('Masao Ômura', 'Teinosuke Kinugasa', 'Kaichi Yamamoto', 'Takeo Azuma'), 21),\n",
              " (('Nobuyo Ôyama', 'Noriko Ohara', 'Kaneta Kimotsuki', 'Michiko Nomura'), 21),\n",
              " (('Masao Ômura', 'Kaichi Yamamoto', 'Takeo Azuma', 'Misao Satsuki'), 21),\n",
              " (('Rihaku Arashi', 'Chosei Kataoka', 'Kitsuraku Arashi', 'Kijaku Ôtani'), 21),\n",
              " (('Rihaku Arashi', 'Chosei Kataoka', 'Kitsuraku Arashi', 'Matsunosuke Onoe'),\n",
              "  21),\n",
              " (('Sannosuke Fujikawa', 'Masao Ômura', 'Kaichi Yamamoto', 'Takeo Azuma'), 20),\n",
              " (('Kitsuraku Arashi', 'Kakumatsuro Arashi', 'Utae Nakamura', 'Kijaku Ôtani'),\n",
              "  20),\n",
              " (('Chosei Kataoka',\n",
              "   'Kitsuraku Arashi',\n",
              "   \"Sen'nosuke Nakamura\",\n",
              "   'Matsunosuke Onoe'),\n",
              "  20),\n",
              " (('Chosei Kataoka',\n",
              "   \"Sen'nosuke Nakamura\",\n",
              "   'Suminojo Ichikawa',\n",
              "   'Matsunosuke Onoe'),\n",
              "  20),\n",
              " (('Hideo Fujino',\n",
              "   'Sannosuke Fujikawa',\n",
              "   'Teinosuke Kinugasa',\n",
              "   'Kaichi Yamamoto'),\n",
              "  20),\n",
              " (('Hideo Fujino', 'Sannosuke Fujikawa', 'Teinosuke Kinugasa', 'Takeo Azuma'),\n",
              "  20),\n",
              " (('Sannosuke Fujikawa',\n",
              "   'Teinosuke Kinugasa',\n",
              "   'Kaichi Yamamoto',\n",
              "   'Takeo Azuma'),\n",
              "  20),\n",
              " (('Unpei Yokoyama', 'Kaichi Yamamoto', 'Takeo Azuma', 'Misao Satsuki'), 20),\n",
              " (('Jayabharati', 'Adoor Bhasi', 'Prem Nazir', 'Thikkurisi Sukumaran Nair'),\n",
              "  20),\n",
              " (('Hideo Fujino', 'Masao Ômura', 'Teinosuke Kinugasa', 'Takeo Azuma'), 20),\n",
              " (('Chosei Kataoka', 'Utae Nakamura', 'Kijaku Ôtani', 'Matsunosuke Onoe'), 20),\n",
              " (('Ichitarô Kataoka',\n",
              "   'Chosei Kataoka',\n",
              "   'Kitsuraku Arashi',\n",
              "   'Matsunosuke Onoe'),\n",
              "  20),\n",
              " (('Ichitarô Kataoka',\n",
              "   'Chosei Kataoka',\n",
              "   'Suminojo Ichikawa',\n",
              "   'Matsunosuke Onoe'),\n",
              "  20),\n",
              " (('Ichitarô Kataoka',\n",
              "   \"Sen'nosuke Nakamura\",\n",
              "   'Kijaku Ôtani',\n",
              "   'Matsunosuke Onoe'),\n",
              "  20),\n",
              " (('Ichitarô Kataoka',\n",
              "   \"Sen'nosuke Nakamura\",\n",
              "   'Suminojo Ichikawa',\n",
              "   'Matsunosuke Onoe'),\n",
              "  20),\n",
              " (('Rihaku Arashi', 'Chosei Kataoka', 'Kitsuraku Arashi', 'Suminojo Ichikawa'),\n",
              "  20),\n",
              " (('Hideo Fujino', 'Sannosuke Fujikawa', 'Masao Ômura', 'Kaichi Yamamoto'),\n",
              "  19),\n",
              " (('Hideo Fujino', 'Masao Ômura', 'Kaichi Yamamoto', 'Ryôtarô Mizushima'), 19),\n",
              " (('Unpei Yokoyama', 'Sannosuke Fujikawa', 'Masao Ômura', 'Kaichi Yamamoto'),\n",
              "  19),\n",
              " (('Rihaku Arashi', \"Sen'nosuke Nakamura\", 'Kijaku Ôtani', 'Matsunosuke Onoe'),\n",
              "  19),\n",
              " (('Jayabharati', 'Bahadur', 'Adoor Bhasi', 'Meena'), 19)]"
            ]
          },
          "metadata": {},
          "execution_count": 74
        }
      ]
    }
  ]
}