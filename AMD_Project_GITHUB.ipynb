{
  "nbformat": 4,
  "nbformat_minor": 0,
  "metadata": {
    "colab": {
      "name": "AMD - Project GITHUB.ipynb",
      "provenance": [],
      "collapsed_sections": [],
      "mount_file_id": "1SHA2bm9pv_ivuyWg53zT6RIxanHbKt8U",
      "authorship_tag": "ABX9TyP8WvY5ojqlPAlvvGvS7ji5",
      "include_colab_link": true
    },
    "kernelspec": {
      "display_name": "Python 3",
      "name": "python3"
    }
  },
  "cells": [
    {
      "cell_type": "markdown",
      "metadata": {
        "id": "view-in-github",
        "colab_type": "text"
      },
      "source": [
        "<a href=\"https://colab.research.google.com/github/Francescolaz/AlgorithmsMassiveDatasets-project/blob/main/AMD_Project_GITHUB.ipynb\" target=\"_parent\"><img src=\"https://colab.research.google.com/assets/colab-badge.svg\" alt=\"Open In Colab\"/></a>"
      ]
    },
    {
      "cell_type": "markdown",
      "metadata": {
        "id": "EJFp3cdZ-9EZ"
      },
      "source": [
        "# AMD - Project 2020/21\n",
        "\n",
        "## Francesco Lazzara 942830\n",
        "\n",
        "“I declare that this material, which I now submit for assessment, is entirely my own work and has not been taken from the work of others, save and to the extent that such work has been cited and acknowledged within the text of my work. I understand that plagiarism, collusion, and copying are grave and serious offences in the university and accept the penalties that would be imposed should I engage in plagiarism, collusion or copying. This assignment, or any part of it, has not been previously submitted by me or any other person for assessment on this or any other course of study.“"
      ]
    },
    {
      "cell_type": "markdown",
      "metadata": {
        "id": "xNs2gWODE4Qs"
      },
      "source": [
        "# Dowload the dataset from Kaggle API \n",
        "\n",
        "URL-link to the dataset: <https://www.kaggle.com/ashirwadsangwan/imdb-dataset?select=title.basics.tsv.gz​>"
      ]
    },
    {
      "cell_type": "code",
      "metadata": {
        "colab": {
          "resources": {
            "http://localhost:8080/nbextensions/google.colab/files.js": {
              "data": "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",
              "ok": true,
              "headers": [
                [
                  "content-type",
                  "application/javascript"
                ]
              ],
              "status": 200,
              "status_text": ""
            }
          },
          "base_uri": "https://localhost:8080/",
          "height": 82
        },
        "id": "X5eqw_5hcoAN",
        "outputId": "b343eaf3-2bb6-4834-88db-e6d30efe3ef7"
      },
      "source": [
        " # Install the \"kaggle\" library to establish the connection with the Kaggle API\n",
        "\n",
        "!pip install -q kaggle\n",
        "\n",
        "# Upload the \"kaggle.json\" file with the credentials for the Kaggle API\n",
        "\n",
        "from google.colab import files\n",
        "files.upload()"
      ],
      "execution_count": 1,
      "outputs": [
        {
          "output_type": "display_data",
          "data": {
            "text/html": [
              "\n",
              "     <input type=\"file\" id=\"files-939e0d50-69c0-479e-b954-8c540de50e7b\" name=\"files[]\" multiple disabled\n",
              "        style=\"border:none\" />\n",
              "     <output id=\"result-939e0d50-69c0-479e-b954-8c540de50e7b\">\n",
              "      Upload widget is only available when the cell has been executed in the\n",
              "      current browser session. Please rerun this cell to enable.\n",
              "      </output>\n",
              "      <script src=\"/nbextensions/google.colab/files.js\"></script> "
            ],
            "text/plain": [
              "<IPython.core.display.HTML object>"
            ]
          },
          "metadata": {}
        },
        {
          "output_type": "stream",
          "name": "stdout",
          "text": [
            "Saving kaggle.json to kaggle.json\n"
          ]
        },
        {
          "output_type": "execute_result",
          "data": {
            "text/plain": [
              "{'kaggle.json': b'{\"username\":\"francescolaz\",\"key\":\"e4e7aedec77147b9f0dea02fb3216c54\"}'}"
            ]
          },
          "metadata": {},
          "execution_count": 1
        }
      ]
    },
    {
      "cell_type": "code",
      "metadata": {
        "id": "zWaTwq8Jc13s"
      },
      "source": [
        "# Copy the Kaggle API token \"kaggle.json\", downloaded from the Github folder of the project, and paste it in the .kaggle folder (Google Drive)\n",
        "\n",
        "!mkdir ~/.kaggle\n",
        "!cp kaggle.json ~/.kaggle/"
      ],
      "execution_count": 2,
      "outputs": []
    },
    {
      "cell_type": "code",
      "metadata": {
        "id": "yFYFnjLtX7Dz",
        "colab": {
          "base_uri": "https://localhost:8080/"
        },
        "outputId": "0c6b532f-9052-49ed-f556-a4cfe3a91bac"
      },
      "source": [
        "# Mount Google Drive to use the storage space for downloading the dataset\n",
        "\n",
        "from google.colab import drive\n",
        "\n",
        "\n",
        "# Follow the URL-link to get the authorization code to connect Google Drive with Colab and use it as storage \n",
        "# (it might be asked the first time the code is executed with a different Google Drive storage)\n",
        "\n",
        "drive.mount('/content/drive')"
      ],
      "execution_count": 3,
      "outputs": [
        {
          "output_type": "stream",
          "name": "stdout",
          "text": [
            "Drive already mounted at /content/drive; to attempt to forcibly remount, call drive.mount(\"/content/drive\", force_remount=True).\n"
          ]
        }
      ]
    },
    {
      "cell_type": "code",
      "metadata": {
        "id": "OYR0359DdCuv"
      },
      "source": [
        " # Change the permissions of the file\n",
        " \n",
        " !chmod 600 ~/.kaggle/kaggle.json"
      ],
      "execution_count": 4,
      "outputs": []
    },
    {
      "cell_type": "code",
      "metadata": {
        "id": "AJBLWJrSdJ6u",
        "colab": {
          "base_uri": "https://localhost:8080/"
        },
        "outputId": "6aa43ab8-7721-42a4-e6a8-75fbdf152dad"
      },
      "source": [
        "# Paste the Kaggle API command to download the IMDb dataset\n",
        "\n",
        "!kaggle datasets download -d ashirwadsangwan/imdb-dataset"
      ],
      "execution_count": 5,
      "outputs": [
        {
          "output_type": "stream",
          "name": "stdout",
          "text": [
            "Downloading imdb-dataset.zip to /content\n",
            " 99% 1.43G/1.44G [00:16<00:00, 74.5MB/s]\n",
            "100% 1.44G/1.44G [00:16<00:00, 91.6MB/s]\n"
          ]
        }
      ]
    },
    {
      "cell_type": "code",
      "metadata": {
        "id": "J7fJFvlDe1RG",
        "colab": {
          "base_uri": "https://localhost:8080/"
        },
        "outputId": "15a9b332-09cf-4d08-b2b4-b129ef17aec7"
      },
      "source": [
        "# Check the files contained in the workind directory\n",
        "\n",
        "!ls"
      ],
      "execution_count": 6,
      "outputs": [
        {
          "output_type": "stream",
          "name": "stdout",
          "text": [
            "drive  imdb-dataset.zip  kaggle.json  sample_data\n"
          ]
        }
      ]
    },
    {
      "cell_type": "code",
      "metadata": {
        "id": "UyHoM7jdKMRv",
        "colab": {
          "base_uri": "https://localhost:8080/"
        },
        "outputId": "387773f9-9304-4ff9-fa5a-b892f7d03d10"
      },
      "source": [
        "# Unzip the \"imdb-dataset\" and delete the zip file\n",
        "\n",
        "!unzip \\*.zip  && rm *.zip"
      ],
      "execution_count": 7,
      "outputs": [
        {
          "output_type": "stream",
          "name": "stdout",
          "text": [
            "Archive:  imdb-dataset.zip\n",
            "  inflating: name.basics.tsv.gz      \n",
            "  inflating: name.basics.tsv/name.basics.tsv  \n",
            "  inflating: title.akas.tsv.gz       \n",
            "  inflating: title.akas.tsv/title.akas.tsv  \n",
            "  inflating: title.basics.tsv.gz     \n",
            "  inflating: title.basics.tsv/title.basics.tsv  \n",
            "  inflating: title.principals.tsv.gz  \n",
            "  inflating: title.principals.tsv/title.principals.tsv  \n",
            "  inflating: title.ratings.tsv.gz    \n",
            "  inflating: title.ratings.tsv/title.ratings.tsv  \n"
          ]
        }
      ]
    },
    {
      "cell_type": "markdown",
      "metadata": {
        "id": "cqaq87-tV-BG"
      },
      "source": [
        "## Install Spark\n",
        "\n",
        "We would try to extract only the actor/actress observations from the \"title.principals.ts\" table, along with the \"*tconst* and \"*nconst*\" columns to link the actors to their name (\"nconst\") and movies (\"tconst\")."
      ]
    },
    {
      "cell_type": "code",
      "metadata": {
        "id": "NNNp2KVJRiXl"
      },
      "source": [
        "# Install Java\n",
        "# Install Spark (change the version number according to: https://downloads.apache.org/spark/)\n",
        "# Unzip the Spark file to the current folder\n",
        "# Install Findspark using pip\n",
        "\n",
        "!apt-get install openjdk-8-jdk-headless -qq > /dev/null\n",
        "!wget -q https://downloads.apache.org/spark/spark-3.0.3/spark-3.0.3-bin-hadoop2.7.tgz\n",
        "!tar xf spark-3.0.3-bin-hadoop2.7.tgz\n",
        "!pip install -q findspark"
      ],
      "execution_count": 8,
      "outputs": []
    },
    {
      "cell_type": "code",
      "metadata": {
        "id": "b-VPaO4xkg6x",
        "colab": {
          "base_uri": "https://localhost:8080/",
          "height": 34
        },
        "outputId": "103d2f4b-b7f2-4d4f-f882-fcc44e021d0f"
      },
      "source": [
        "# Set the Spark folder to the system path environment\n",
        "\n",
        "import os\n",
        "os.environ[\"JAVA_HOME\"] = \"/usr/lib/jvm/java-8-openjdk-amd64\"\n",
        "os.environ[\"SPARK_HOME\"] = \"/content/spark-3.0.3-bin-hadoop2.7\"\n",
        "import findspark\n",
        "\n",
        "# Locate Spark in the system\n",
        "\n",
        "findspark.init()\n",
        "findspark.find()"
      ],
      "execution_count": 9,
      "outputs": [
        {
          "output_type": "execute_result",
          "data": {
            "application/vnd.google.colaboratory.intrinsic+json": {
              "type": "string"
            },
            "text/plain": [
              "'/content/spark-3.0.3-bin-hadoop2.7'"
            ]
          },
          "metadata": {},
          "execution_count": 9
        }
      ]
    },
    {
      "cell_type": "code",
      "metadata": {
        "id": "6K47Q24BkiJt"
      },
      "source": [
        "# Start a Spark session\n",
        "\n",
        "from pyspark.sql import SparkSession\n",
        "\n",
        "spark = SparkSession.builder\\\n",
        "        .master(\"local\")\\\n",
        "        .appName(\"Colab\")\\\n",
        "        .config('spark.ui.port', '4050')\\\n",
        "        .config(\"spark.driver.memory\", \"15g\")\\\n",
        "        .getOrCreate()"
      ],
      "execution_count": 10,
      "outputs": []
    },
    {
      "cell_type": "code",
      "metadata": {
        "id": "XAzbw0VRklAu",
        "colab": {
          "base_uri": "https://localhost:8080/"
        },
        "outputId": "57db3bbf-02cf-4600-8939-e517f8718b0c"
      },
      "source": [
        "print(spark, type(spark))"
      ],
      "execution_count": 11,
      "outputs": [
        {
          "output_type": "stream",
          "name": "stdout",
          "text": [
            "<pyspark.sql.session.SparkSession object at 0x7f08323da610> <class 'pyspark.sql.session.SparkSession'>\n"
          ]
        }
      ]
    },
    {
      "cell_type": "code",
      "metadata": {
        "id": "5O1ErFun_XOs"
      },
      "source": [
        "# The SparkContext represents the connection to a Spark cluster and can be used to create RDD and broadcast variables\n",
        "\n",
        "from pyspark import SparkContext\n",
        "\n",
        "sc = spark.sparkContext"
      ],
      "execution_count": 12,
      "outputs": []
    },
    {
      "cell_type": "markdown",
      "metadata": {
        "id": "sg_A-wEEEV9E"
      },
      "source": [
        "## Data Pre-processing\n",
        "\n",
        "---\n",
        "\n"
      ]
    },
    {
      "cell_type": "code",
      "metadata": {
        "id": "wG0p9nihzTfI",
        "colab": {
          "base_uri": "https://localhost:8080/"
        },
        "outputId": "a6806755-1713-4790-bfa8-5dd6da93510f"
      },
      "source": [
        "# Read the \"tsv\" file with the Movie titles\n",
        "\n",
        "titles = spark.read.csv(\"/content/title.basics.tsv/title.basics.tsv\", \n",
        "               sep=r'\\t', header=True).select(\"tconst\", \"titleType\", \"PrimaryTitle\", \"originalTitle\", \"genres\")\n",
        "\n",
        "print(titles.count())"
      ],
      "execution_count": 13,
      "outputs": [
        {
          "output_type": "stream",
          "name": "stdout",
          "text": [
            "6321302\n"
          ]
        }
      ]
    },
    {
      "cell_type": "code",
      "metadata": {
        "id": "dGyNJSv4dcPZ",
        "colab": {
          "base_uri": "https://localhost:8080/"
        },
        "outputId": "bce0dd6a-339b-4251-8919-2ddb7595033e"
      },
      "source": [
        "# Inspect if there are nan values - TITLES\n",
        "\n",
        "from pyspark.sql.functions import isnan\n",
        "\n",
        "for clm in titles.columns:\n",
        "    print(\"Count of Nan for '{}': \".format(clm) + str(titles.filter(isnan(titles[clm])).count()))"
      ],
      "execution_count": 14,
      "outputs": [
        {
          "output_type": "stream",
          "name": "stdout",
          "text": [
            "Count of Nan for 'tconst': 0\n",
            "Count of Nan for 'titleType': 0\n",
            "Count of Nan for 'PrimaryTitle': 7\n",
            "Count of Nan for 'originalTitle': 7\n",
            "Count of Nan for 'genres': 0\n"
          ]
        }
      ]
    },
    {
      "cell_type": "code",
      "metadata": {
        "id": "csBAnvM_hKpR",
        "colab": {
          "base_uri": "https://localhost:8080/"
        },
        "outputId": "5e4904e0-2c1a-486e-90da-2d3e6853e16c"
      },
      "source": [
        "# Remove the null values from the dataset\n",
        "\n",
        "titles = titles.filter(\"PrimaryTitle != 'Nan'\")\n",
        "\n",
        "titles.head(10)"
      ],
      "execution_count": 15,
      "outputs": [
        {
          "output_type": "execute_result",
          "data": {
            "text/plain": [
              "[Row(tconst='tt0000001', titleType='short', PrimaryTitle='Carmencita', originalTitle='Carmencita', genres='Documentary,Short'),\n",
              " Row(tconst='tt0000002', titleType='short', PrimaryTitle='Le clown et ses chiens', originalTitle='Le clown et ses chiens', genres='Animation,Short'),\n",
              " Row(tconst='tt0000003', titleType='short', PrimaryTitle='Pauvre Pierrot', originalTitle='Pauvre Pierrot', genres='Animation,Comedy,Romance'),\n",
              " Row(tconst='tt0000004', titleType='short', PrimaryTitle='Un bon bock', originalTitle='Un bon bock', genres='Animation,Short'),\n",
              " Row(tconst='tt0000005', titleType='short', PrimaryTitle='Blacksmith Scene', originalTitle='Blacksmith Scene', genres='Comedy,Short'),\n",
              " Row(tconst='tt0000006', titleType='short', PrimaryTitle='Chinese Opium Den', originalTitle='Chinese Opium Den', genres='Short'),\n",
              " Row(tconst='tt0000007', titleType='short', PrimaryTitle='Corbett and Courtney Before the Kinetograph', originalTitle='Corbett and Courtney Before the Kinetograph', genres='Short,Sport'),\n",
              " Row(tconst='tt0000008', titleType='short', PrimaryTitle='Edison Kinetoscopic Record of a Sneeze', originalTitle='Edison Kinetoscopic Record of a Sneeze', genres='Documentary,Short'),\n",
              " Row(tconst='tt0000009', titleType='movie', PrimaryTitle='Miss Jerry', originalTitle='Miss Jerry', genres='Romance'),\n",
              " Row(tconst='tt0000010', titleType='short', PrimaryTitle='Exiting the Factory', originalTitle=\"La sortie de l'usine Lumière à Lyon\", genres='Documentary,Short')]"
            ]
          },
          "metadata": {},
          "execution_count": 15
        }
      ]
    },
    {
      "cell_type": "code",
      "metadata": {
        "id": "dOQFOQGvwB4G",
        "colab": {
          "base_uri": "https://localhost:8080/"
        },
        "outputId": "5c26cef9-c154-4481-da2e-73607eed48b1"
      },
      "source": [
        "# Read the \"tsv\" file with the Individual job's for each movie\n",
        "\n",
        "job = spark.read.csv(\"/content/title.principals.tsv/title.principals.tsv\", \n",
        "                    sep=r'\\t', header=True).select(\"tconst\", \"ordering\", \"nconst\", \"category\")\n",
        "\n",
        "print(job.count())"
      ],
      "execution_count": 16,
      "outputs": [
        {
          "output_type": "stream",
          "name": "stdout",
          "text": [
            "36468817\n"
          ]
        }
      ]
    },
    {
      "cell_type": "code",
      "metadata": {
        "id": "D3jZAui2CTB6",
        "colab": {
          "base_uri": "https://localhost:8080/"
        },
        "outputId": "5272b489-58d9-4563-fd91-ba83588e716f"
      },
      "source": [
        "# Inspect if there are null values - JOB\n",
        "\n",
        "for clm in job.columns:\n",
        "    print(\"Count of Nan for '{}': \".format(clm) + str(job.filter(isnan(job[clm])).count()))"
      ],
      "execution_count": 17,
      "outputs": [
        {
          "output_type": "stream",
          "name": "stdout",
          "text": [
            "Count of Nan for 'tconst': 0\n",
            "Count of Nan for 'ordering': 0\n",
            "Count of Nan for 'nconst': 0\n",
            "Count of Nan for 'category': 0\n"
          ]
        }
      ]
    },
    {
      "cell_type": "code",
      "metadata": {
        "id": "XB6eW92p1yeJ",
        "colab": {
          "base_uri": "https://localhost:8080/"
        },
        "outputId": "fef436f0-e243-478d-b137-82928716c5af"
      },
      "source": [
        "job.head(10)"
      ],
      "execution_count": 18,
      "outputs": [
        {
          "output_type": "execute_result",
          "data": {
            "text/plain": [
              "[Row(tconst='tt0000001', ordering='1', nconst='nm1588970', category='self'),\n",
              " Row(tconst='tt0000001', ordering='2', nconst='nm0005690', category='director'),\n",
              " Row(tconst='tt0000001', ordering='3', nconst='nm0374658', category='cinematographer'),\n",
              " Row(tconst='tt0000002', ordering='1', nconst='nm0721526', category='director'),\n",
              " Row(tconst='tt0000002', ordering='2', nconst='nm1335271', category='composer'),\n",
              " Row(tconst='tt0000003', ordering='1', nconst='nm0721526', category='director'),\n",
              " Row(tconst='tt0000003', ordering='2', nconst='nm5442194', category='producer'),\n",
              " Row(tconst='tt0000003', ordering='3', nconst='nm1335271', category='composer'),\n",
              " Row(tconst='tt0000003', ordering='4', nconst='nm5442200', category='editor'),\n",
              " Row(tconst='tt0000004', ordering='1', nconst='nm0721526', category='director')]"
            ]
          },
          "metadata": {},
          "execution_count": 18
        }
      ]
    },
    {
      "cell_type": "code",
      "metadata": {
        "id": "6J47KoQ8wkrA",
        "colab": {
          "base_uri": "https://localhost:8080/"
        },
        "outputId": "9287f113-c384-4de6-f891-269ba577f547"
      },
      "source": [
        "# Read the \"tsv\" file with the Actor name's for each job\n",
        "\n",
        "actors = spark.read.csv(\"/content/name.basics.tsv/name.basics.tsv\", \n",
        "               sep=r'\\t', header=True).select(\"nconst\", \"primaryName\", \"birthYear\", \"deathYear\", \"knownForTitles\")\n",
        "\n",
        "print(actors.count())"
      ],
      "execution_count": 19,
      "outputs": [
        {
          "output_type": "stream",
          "name": "stdout",
          "text": [
            "9706922\n"
          ]
        }
      ]
    },
    {
      "cell_type": "code",
      "metadata": {
        "id": "_tYpAP-ECWen",
        "colab": {
          "base_uri": "https://localhost:8080/"
        },
        "outputId": "9628e14e-2919-421c-969a-4be10ba8faec"
      },
      "source": [
        "# Inspect if there are null values - ACTORS\n",
        "\n",
        "for clm in actors.columns:\n",
        "    print(\"Count of Nan for '{}': \".format(clm) + str(actors.filter(isnan(actors[clm])).count()))"
      ],
      "execution_count": 20,
      "outputs": [
        {
          "output_type": "stream",
          "name": "stdout",
          "text": [
            "Count of Nan for 'nconst': 0\n",
            "Count of Nan for 'primaryName': 7\n",
            "Count of Nan for 'birthYear': 0\n",
            "Count of Nan for 'deathYear': 0\n",
            "Count of Nan for 'knownForTitles': 0\n"
          ]
        }
      ]
    },
    {
      "cell_type": "code",
      "metadata": {
        "id": "BwD07ONEnN6s",
        "colab": {
          "base_uri": "https://localhost:8080/"
        },
        "outputId": "f37080ab-427b-49a2-c15d-863b2d8971c9"
      },
      "source": [
        "# Remove the null values from the dataset\n",
        "\n",
        "actors = actors.filter(\"primaryName != 'Nan'\")\n",
        "\n",
        "actors.head(10)"
      ],
      "execution_count": 21,
      "outputs": [
        {
          "output_type": "execute_result",
          "data": {
            "text/plain": [
              "[Row(nconst='nm0000001', primaryName='Fred Astaire', birthYear='1899', deathYear='1987', knownForTitles='tt0050419,tt0053137,tt0072308,tt0043044'),\n",
              " Row(nconst='nm0000002', primaryName='Lauren Bacall', birthYear='1924', deathYear='2014', knownForTitles='tt0071877,tt0117057,tt0038355,tt0037382'),\n",
              " Row(nconst='nm0000003', primaryName='Brigitte Bardot', birthYear='1934', deathYear='\\\\N', knownForTitles='tt0054452,tt0049189,tt0059956,tt0057345'),\n",
              " Row(nconst='nm0000004', primaryName='John Belushi', birthYear='1949', deathYear='1982', knownForTitles='tt0077975,tt0072562,tt0080455,tt0078723'),\n",
              " Row(nconst='nm0000005', primaryName='Ingmar Bergman', birthYear='1918', deathYear='2007', knownForTitles='tt0069467,tt0050976,tt0083922,tt0050986'),\n",
              " Row(nconst='nm0000006', primaryName='Ingrid Bergman', birthYear='1915', deathYear='1982', knownForTitles='tt0038109,tt0036855,tt0077711,tt0038787'),\n",
              " Row(nconst='nm0000007', primaryName='Humphrey Bogart', birthYear='1899', deathYear='1957', knownForTitles='tt0043265,tt0033870,tt0034583,tt0037382'),\n",
              " Row(nconst='nm0000008', primaryName='Marlon Brando', birthYear='1924', deathYear='2004', knownForTitles='tt0070849,tt0078788,tt0044081,tt0068646'),\n",
              " Row(nconst='nm0000009', primaryName='Richard Burton', birthYear='1925', deathYear='1984', knownForTitles='tt0057877,tt0087803,tt0061184,tt0059749'),\n",
              " Row(nconst='nm0000010', primaryName='James Cagney', birthYear='1899', deathYear='1986', knownForTitles='tt0035575,tt0031867,tt0042041,tt0029870')]"
            ]
          },
          "metadata": {},
          "execution_count": 21
        }
      ]
    },
    {
      "cell_type": "code",
      "metadata": {
        "id": "Vlsv-0929DU4",
        "colab": {
          "base_uri": "https://localhost:8080/"
        },
        "outputId": "6676069f-18e3-41b3-d96c-c6824b275acd"
      },
      "source": [
        "# Extract the list of movies from the titles DataFrame\n",
        "\n",
        "print('Number of movies in the Dataset: {}\\n'.format(titles.filter(titles.titleType == \"movie\").select(\"tconst\", \"titleType\", \"primaryTitle\") \\\n",
        "            .rdd.map(lambda row : row[:3]).count()))\n",
        "\n",
        "(titles.filter(titles.titleType == \"movie\").select(\"tconst\", \"titleType\", \"primaryTitle\") \\\n",
        "            .rdd.map(lambda row : row[:3]).take(100))"
      ],
      "execution_count": 22,
      "outputs": [
        {
          "output_type": "stream",
          "name": "stdout",
          "text": [
            "Number of movies in the Dataset: 536032\n",
            "\n"
          ]
        },
        {
          "output_type": "execute_result",
          "data": {
            "text/plain": [
              "[('tt0000009', 'movie', 'Miss Jerry'),\n",
              " ('tt0000147', 'movie', 'The Corbett-Fitzsimmons Fight'),\n",
              " ('tt0000335', 'movie', 'Soldiers of the Cross'),\n",
              " ('tt0000502', 'movie', 'Bohemios'),\n",
              " ('tt0000574', 'movie', 'The Story of the Kelly Gang'),\n",
              " ('tt0000615', 'movie', 'Robbery Under Arms'),\n",
              " ('tt0000630', 'movie', 'Hamlet'),\n",
              " ('tt0000675', 'movie', 'Don Quijote'),\n",
              " ('tt0000676', 'movie', 'Don Álvaro o la fuerza del sino'),\n",
              " ('tt0000679', 'movie', 'The Fairylogue and Radio-Plays'),\n",
              " ('tt0000739', 'movie', 'El pastorcito de Torrente'),\n",
              " ('tt0000793', 'movie', 'Andreas Hofer'),\n",
              " ('tt0000812', 'movie', 'El blocao Velarde'),\n",
              " ('tt0000814', 'movie', 'La bocana de Mar Chica'),\n",
              " ('tt0000838', 'movie', 'A Cultura do Cacau'),\n",
              " ('tt0000842', 'movie', 'De Garraf a Barcelona'),\n",
              " ('tt0000846', 'movie', 'Un día en Xochimilco'),\n",
              " ('tt0000850', 'movie', 'Los dos hermanos'),\n",
              " ('tt0000859', 'movie', 'Fabricación del corcho en Sant Feliu de Guixols'),\n",
              " ('tt0000862', 'movie', 'Faldgruben'),\n",
              " ('tt0000867', 'movie', 'Fiesta de toros'),\n",
              " ('tt0000868', 'movie', 'Fiestas de Santa Lucía - Belenes'),\n",
              " ('tt0000869', 'movie', 'Fiestas en La Garriga'),\n",
              " ('tt0000879', 'movie', 'Gira política de Madero y Pino Suárez'),\n",
              " ('tt0000886', 'movie', 'Hamlet, Prince of Denmark'),\n",
              " ('tt0000891', 'movie', 'Cycle Rider and the Witch'),\n",
              " ('tt0000941', 'movie', 'Locura de amor'),\n",
              " ('tt0000947', 'movie', 'Lægens offer'),\n",
              " ('tt0000959', 'movie', 'Melilla y el Gurugu'),\n",
              " ('tt0000984', 'movie', 'Niños en la alameda'),\n",
              " ('tt0000992', 'movie', 'De onde Veje'),\n",
              " ('tt0001007', 'movie', 'La primera y segunda casetas'),\n",
              " ('tt0001010',\n",
              "  'movie',\n",
              "  'Protección de un convoy de víveres en el puente de camellos'),\n",
              " ('tt0001028', 'movie', 'Salome Mad'),\n",
              " ('tt0001038', 'movie', 'Sherlock Holmes VI'),\n",
              " ('tt0001043', 'movie', \"Smith's Knockabout Theatre\"),\n",
              " ('tt0001049', 'movie', 'Gøngehøvdingen'),\n",
              " ('tt0001051', 'movie', 'El sueño milagroso'),\n",
              " ('tt0001059', 'movie', 'O Terremoto de Benavente'),\n",
              " ('tt0001068', 'movie', 'Toma caseta Z'),\n",
              " ('tt0001069', 'movie', 'Toma del Gurugu'),\n",
              " ('tt0001080', 'movie', 'Two of the Boys'),\n",
              " ('tt0001081', 'movie', 'La vida en el campamento'),\n",
              " ('tt0001082', 'movie', 'Viernes de dolores'),\n",
              " ('tt0001101', 'movie', \"Abraham Lincoln's Clemency\"),\n",
              " ('tt0001109', 'movie', \"L'aluminite\"),\n",
              " ('tt0001112', 'movie', 'Amleto'),\n",
              " ('tt0001113', 'movie', 'Amor gitano'),\n",
              " ('tt0001115', 'movie', 'Ansigttyven I'),\n",
              " ('tt0001116', 'movie', 'Ansigttyven II'),\n",
              " ('tt0001122', 'movie', 'The Red Inn'),\n",
              " ('tt0001141', 'movie', 'The Butterfly'),\n",
              " ('tt0001142', 'movie', 'By Order of Napoleon'),\n",
              " ('tt0001147', 'movie', 'O Centenário da Guerra Peninsular'),\n",
              " ('tt0001159', 'movie', 'The Connecticut Yankee'),\n",
              " ('tt0001163', 'movie', 'Corrida da Rampa'),\n",
              " ('tt0001175', 'movie', 'Camille'),\n",
              " ('tt0001179', 'movie', 'Desfile histórico del centenario'),\n",
              " ('tt0001184', 'movie', 'Don Juan de Serrallonga'),\n",
              " ('tt0001186', 'movie', 'Dorothy and the Scarecrow in Oz'),\n",
              " ('tt0001203', 'movie', 'Excursión al Gombreny'),\n",
              " ('tt0001230', 'movie', 'Gentleman Joe'),\n",
              " ('tt0001240', 'movie', 'Hamlet'),\n",
              " ('tt0001247', 'movie', \"His Brother's Wife\"),\n",
              " ('tt0001258', 'movie', 'The White Slave Trade'),\n",
              " ('tt0001277', 'movie', 'Kapergasten'),\n",
              " ('tt0001285', 'movie', 'The Life of Moses'),\n",
              " ('tt0001338', 'movie', 'A Night in May'),\n",
              " ('tt0001341', 'movie', 'Jarní sen starého mládence'),\n",
              " ('tt0001348', 'movie', 'Orientalsk dans'),\n",
              " ('tt0001353', 'movie', 'Paganini'),\n",
              " ('tt0001358', 'movie', 'Peder Tordenskjold'),\n",
              " ('tt0001359', 'movie', 'A Pesca do Bacalhau'),\n",
              " ('tt0001364', 'movie', 'El pobre Valbuena'),\n",
              " ('tt0001366', 'movie', 'Un portero modelo'),\n",
              " ('tt0001370', 'movie', 'Rainha Depois de Morta Inês de Castro'),\n",
              " ('tt0001379', 'movie', 'A Record Hustle Through Foggy London'),\n",
              " ('tt0001381', 'movie', 'En rekrut fra 64'),\n",
              " ('tt0001382', 'movie', 'Revolução de 5 de Outubro'),\n",
              " ('tt0001386', 'movie', 'Le roi des parfums'),\n",
              " ('tt0001422', 'movie', 'Trail to the West'),\n",
              " ('tt0001440', 'movie', 'Valdemar Sejr'),\n",
              " ('tt0001465', 'movie', 'As Últimas Inundações do Tejo em Santarém'),\n",
              " ('tt0001475', 'movie', 'Amor fatal'),\n",
              " ('tt0001482', 'movie', 'As in a Looking Glass'),\n",
              " ('tt0001495', 'movie', 'A Balkan Episode'),\n",
              " ('tt0001498', 'movie', 'The Battle of Trafalgar'),\n",
              " ('tt0001515', 'movie', 'The Brand'),\n",
              " ('tt0001521', 'movie', 'En bryllupsaften'),\n",
              " ('tt0001530', 'movie', \"The Bushranger's Bride\"),\n",
              " ('tt0001531', 'movie', 'Captain Starlight, or Gentleman of the Road'),\n",
              " ('tt0001555', 'movie', 'Cortejo Cívico'),\n",
              " ('tt0001569', 'movie', \"The Daddy's Dream\"),\n",
              " ('tt0001586', 'movie', \"A Dog's Tale\"),\n",
              " ('tt0001587', 'movie', 'Don Pedro el Cruel'),\n",
              " ('tt0001592', 'movie', 'Ekspeditricen'),\n",
              " ('tt0001602', 'movie', 'El fantasma del castillo'),\n",
              " ('tt0001603', 'movie', 'Den farlige leg'),\n",
              " ('tt0001604', 'movie', 'The Fatal Wedding'),\n",
              " ('tt0001628', 'movie', 'The Four Poster Pest')]"
            ]
          },
          "metadata": {},
          "execution_count": 22
        }
      ]
    },
    {
      "cell_type": "code",
      "metadata": {
        "id": "-xSN7uAlr3Vq",
        "colab": {
          "base_uri": "https://localhost:8080/"
        },
        "outputId": "77c0e8ee-8ade-48c4-f4ca-2b714d92e0ff"
      },
      "source": [
        "# Create a DataFrame containing the actors and the movies they played in\n",
        "\n",
        "df_actors = job.filter((job.category == \"actor\") | (job.category == \"actress\")).select(\"tconst\", \"nconst\", \"category\")\n",
        "\n",
        "\n",
        "# Get the name of the actors for each movie played (with repetitions)\n",
        "\n",
        "df_actors = df_actors.join(actors, df_actors.nconst == actors.nconst) \\\n",
        "                     .select(df_actors.tconst, df_actors.nconst, \"primaryName\", \"category\")\n",
        "\n",
        "\n",
        "# Retrieve from the \"titles\" table only the movies (\"tytleType\"), by not including for example tvseries (Episode #1.x)\n",
        "\n",
        "only_movies = titles.filter(titles.titleType == \"movie\").select(\"tconst\", \"titleType\", \"primaryTitle\")\n",
        "\n",
        "\n",
        "# Connect each actor with the movies he/she played in\n",
        "\n",
        "df_actors = df_actors.join(only_movies, df_actors.tconst == only_movies.tconst) \\\n",
        "                     .select(df_actors.tconst, df_actors.nconst, \"primaryName\", \"category\", \"titleType\", \"primaryTitle\")\n",
        "\n",
        "print(df_actors.count())"
      ],
      "execution_count": 23,
      "outputs": [
        {
          "output_type": "stream",
          "name": "stdout",
          "text": [
            "1692933\n"
          ]
        }
      ]
    },
    {
      "cell_type": "code",
      "metadata": {
        "id": "O-rYkn-S5ouB",
        "colab": {
          "base_uri": "https://localhost:8080/"
        },
        "outputId": "7d800952-66de-4165-d04f-a130924946e4"
      },
      "source": [
        "df_actors.show(100)"
      ],
      "execution_count": 24,
      "outputs": [
        {
          "output_type": "stream",
          "name": "stdout",
          "text": [
            "+---------+---------+--------------------+--------+---------+--------------------+\n",
            "|   tconst|   nconst|         primaryName|category|titleType|        primaryTitle|\n",
            "+---------+---------+--------------------+--------+---------+--------------------+\n",
            "|tt0002591|nm0509573|       Harry Liedtke|   actor|    movie|             Zu spät|\n",
            "|tt0002591|nm0029806|Martha Angerstein...| actress|    movie|             Zu spät|\n",
            "|tt0003689|nm0585503| George W. Middleton|   actor|    movie|          Born Again|\n",
            "|tt0003689|nm0694718|      Beulah Poynter| actress|    movie|          Born Again|\n",
            "|tt0003689|nm0101071|         John Bowers|   actor|    movie|          Born Again|\n",
            "|tt0003689|nm0910564|      Mrs. E. Walton| actress|    movie|          Born Again|\n",
            "|tt0003689|nm0527801|        Octave Luzon|   actor|    movie|          Born Again|\n",
            "|tt0003689|nm0399988|       Wilbur Hudson|   actor|    movie|          Born Again|\n",
            "|tt0003689|nm0728289|   William S. Rising|   actor|    movie|          Born Again|\n",
            "|tt0004272|nm0776747|        Harry Schumm|   actor|    movie|Lucille Love: The...|\n",
            "|tt0004272|nm0383278|        Wilbur Higby|   actor|    movie|Lucille Love: The...|\n",
            "|tt0004272|nm0285643|        Francis Ford|   actor|    movie|Lucille Love: The...|\n",
            "|tt0004272|nm0445507|        Edgar Keller|   actor|    movie|Lucille Love: The...|\n",
            "|tt0004272|nm0492302|          Burton Law|   actor|    movie|Lucille Love: The...|\n",
            "|tt0004272|nm0092665|        Eddie Boland|   actor|    movie|Lucille Love: The...|\n",
            "|tt0004272|nm0368875|       Jean Hathaway| actress|    movie|Lucille Love: The...|\n",
            "|tt0004272|nm0192062|        Grace Cunard| actress|    movie|Lucille Love: The...|\n",
            "|tt0004272|nm0793189|      Ernest Shields|   actor|    movie|Lucille Love: The...|\n",
            "|tt0004336|nm0478359|   Florence La Badie| actress|    movie|The Million Dolla...|\n",
            "|tt0004336|nm0102718|       Sidney Bracey|   actor|    movie|The Million Dolla...|\n",
            "|tt0004336|nm0268437|    Frank Farrington|   actor|    movie|The Million Dolla...|\n",
            "|tt0004336|nm0811293|     Marguerite Snow| actress|    movie|The Million Dolla...|\n",
            "|tt0004336|nm0190516|         James Cruze|   actor|    movie|The Million Dolla...|\n",
            "|tt0005209|nm0394389|   DeWolf Hopper Sr.|   actor|    movie|         Don Quixote|\n",
            "|tt0005209|nm0269671|          Julia Faye| actress|    movie|         Don Quixote|\n",
            "|tt0005209|nm0863863|         Fay Tincher| actress|    movie|         Don Quixote|\n",
            "|tt0005209|nm0203439|        Max Davidson|   actor|    movie|         Don Quixote|\n",
            "|tt0005209|nm0909648|        George Walsh|   actor|    movie|         Don Quixote|\n",
            "|tt0005209|nm0593671|       Rhea Mitchell| actress|    movie|         Don Quixote|\n",
            "|tt0005605|nm0322794|   Ellis F. Glickman|   actor|    movie|    The Last Concert|\n",
            "|tt0005605|nm0668525|         Lucy Payton| actress|    movie|    The Last Concert|\n",
            "|tt0005605|nm0364218|       W.H. Harriman|   actor|    movie|    The Last Concert|\n",
            "|tt0005605|nm0061746|        Arthur Bauer|   actor|    movie|    The Last Concert|\n",
            "|tt0005605|nm0075601|       Minnie Berlin| actress|    movie|    The Last Concert|\n",
            "|tt0005605|nm0304236|          Nolan Gane|   actor|    movie|    The Last Concert|\n",
            "|tt0005793|nm0493083|    Wingold Lawrence|   actor|    movie| Mysteries of London|\n",
            "|tt0005793|nm0606530|        Flora Morris| actress|    movie| Mysteries of London|\n",
            "|tt0006204|nm0000909|   Constance Bennett| actress|    movie|The Valley of Dec...|\n",
            "|tt0006204|nm0000910|        Joan Bennett| actress|    movie|The Valley of Dec...|\n",
            "|tt0006204|nm0071618|     Blanche Bennett| actress|    movie|The Valley of Dec...|\n",
            "|tt0006204|nm0673814|     George Periolat|   actor|    movie|The Valley of Dec...|\n",
            "|tt0006204|nm0071601|     Barbara Bennett| actress|    movie|The Valley of Dec...|\n",
            "|tt0006204|nm0071992|     Richard Bennett|   actor|    movie|The Valley of Dec...|\n",
            "|tt0006204|nm0507655|         Rhoda Lewis| actress|    movie|The Valley of Dec...|\n",
            "|tt0006204|nm0607056|   Adrienne Morrison| actress|    movie|The Valley of Dec...|\n",
            "|tt0006207|nm0356267|        Henry Hallam|   actor|    movie|The Vanderhoff Af...|\n",
            "|tt0006207|nm0135474| Francesca Cappelano| actress|    movie|The Vanderhoff Af...|\n",
            "|tt0006207|nm0285950|           Hal Forde|   actor|    movie|The Vanderhoff Af...|\n",
            "|tt0006207|nm0183994|  Marguerite Courtot| actress|    movie|The Vanderhoff Af...|\n",
            "|tt0006207|nm0235634|       T. Justin Dow|   actor|    movie|The Vanderhoff Af...|\n",
            "|tt0006207|nm0512164|      Helen Lindroth| actress|    movie|The Vanderhoff Af...|\n",
            "|tt0006441|nm0455748|       Martin Kinney|   actor|    movie|  Blue Blood and Red|\n",
            "|tt0006441|nm0546121|     James A. Marcus|   actor|    movie|  Blue Blood and Red|\n",
            "|tt0006441|nm0909648|        George Walsh|   actor|    movie|  Blue Blood and Red|\n",
            "|tt0006441|nm0668084|          Doris Pawn| actress|    movie|  Blue Blood and Red|\n",
            "|tt0006489|nm0846003|   P. Dempsey Tabler|   actor|    movie|     The Captive God|\n",
            "|tt0006489|nm0198272|      Dorothy Dalton| actress|    movie|     The Captive God|\n",
            "|tt0006489|nm0366586|     William S. Hart|   actor|    movie|     The Captive God|\n",
            "|tt0006489|nm0548402|         Enid Markey| actress|    movie|     The Captive God|\n",
            "|tt0006587|nm0268422|    Adele Farrington| actress|    movie|The Devil's Bondw...|\n",
            "|tt0006587|nm0425049|       Emory Johnson|   actor|    movie|The Devil's Bondw...|\n",
            "|tt0006587|nm0133944|    William Canfield|   actor|    movie|The Devil's Bondw...|\n",
            "|tt0006587|nm0202590|   Dorothy Davenport| actress|    movie|The Devil's Bondw...|\n",
            "|tt0006587|nm0790977|       Miriam Shelby| actress|    movie|The Devil's Bondw...|\n",
            "|tt0006587|nm0606887|      Richard Morris|   actor|    movie|The Devil's Bondw...|\n",
            "|tt0006819|nm0938668|       Kurt Wolowsky|   actor|    movie|Hoffmanns Erzählu...|\n",
            "|tt0006819|nm0739917|         Paula Ronay| actress|    movie|Hoffmanns Erzählu...|\n",
            "|tt0006819|nm0435229|   Erich Kaiser-Titz|   actor|    movie|Hoffmanns Erzählu...|\n",
            "|tt0006819|nm0749505|         Max Ruhbeck|   actor|    movie|Hoffmanns Erzählu...|\n",
            "|tt0007011|nm0203750|       Howard Davies|   actor|    movie|The Making of Mad...|\n",
            "|tt0007011|nm0581484|         Mary Mersch| actress|    movie|The Making of Mad...|\n",
            "|tt0007011|nm0329303|       Edna Goodrich| actress|    movie|The Making of Mad...|\n",
            "|tt0007011|nm0822477|     Forrest Stanley|   actor|    movie|The Making of Mad...|\n",
            "|tt0007011|nm0123623|         John Burton|   actor|    movie|The Making of Mad...|\n",
            "|tt0007565|nm0743099|       Milton Rosmer|   actor|    movie|Whoso Is Without Sin|\n",
            "|tt0007565|nm0508107|     Laurence Leyton|   actor|    movie|Whoso Is Without Sin|\n",
            "|tt0007565|nm0820105|       Ronald Squire|   actor|    movie|Whoso Is Without Sin|\n",
            "|tt0007565|nm0606530|        Flora Morris| actress|    movie|Whoso Is Without Sin|\n",
            "|tt0007565|nm0601280|         Hilda Moore| actress|    movie|Whoso Is Without Sin|\n",
            "|tt0007565|nm0191569|    Arthur M. Cullin|   actor|    movie|Whoso Is Without Sin|\n",
            "|tt0007694|nm0238532|        Jack Drumier|   actor|    movie| Beloved Adventuress|\n",
            "|tt0007694|nm0263004|         Madge Evans| actress|    movie| Beloved Adventuress|\n",
            "|tt0007694|nm0788290|        Inez Shannon| actress|    movie| Beloved Adventuress|\n",
            "|tt0007694|nm0330373|        Kitty Gordon| actress|    movie| Beloved Adventuress|\n",
            "|tt0008160|nm0543309|      Joseph Manning|   actor|    movie| The Kingdom of Love|\n",
            "|tt0008160|nm0795884|         Lee Shumway|   actor|    movie| The Kingdom of Love|\n",
            "|tt0008160|nm0138386|        Jewel Carmen| actress|    movie| The Kingdom of Love|\n",
            "|tt0008160|nm1211330|         Fred Milton|   actor|    movie| The Kingdom of Love|\n",
            "|tt0008160|nm0088475|     Genevieve Blinn| actress|    movie| The Kingdom of Love|\n",
            "|tt0008160|nm0534259|  Murdock MacQuarrie|   actor|    movie| The Kingdom of Love|\n",
            "|tt0008160|nm0638566|      G. Raymond Nye|   actor|    movie| The Kingdom of Love|\n",
            "|tt0008160|nm0145776|       Nancy Caswell| actress|    movie| The Kingdom of Love|\n",
            "|tt0008407|nm0803103|         Vera Sisson| actress|    movie|     Paradise Garden|\n",
            "|tt0008407|nm0192110|        Lester Cuneo|   actor|    movie|     Paradise Garden|\n",
            "|tt0008407|nm0710915|      Virginia Rappe| actress|    movie|     Paradise Garden|\n",
            "|tt0008407|nm0516974|     Harold Lockwood|   actor|    movie|     Paradise Garden|\n",
            "|tt0008407|nm0819834|          G. Sprotte|   actor|    movie|     Paradise Garden|\n",
            "|tt0008407|nm0166692|    William Clifford|   actor|    movie|     Paradise Garden|\n",
            "|tt0008522|nm0199087|          Viola Dana| actress|    movie|       Rosie O'Grady|\n",
            "|tt0008522|nm0086748|           Tom Blake|   actor|    movie|       Rosie O'Grady|\n",
            "+---------+---------+--------------------+--------+---------+--------------------+\n",
            "only showing top 100 rows\n",
            "\n"
          ]
        }
      ]
    },
    {
      "cell_type": "code",
      "metadata": {
        "id": "2E2XEqiAEOWS",
        "colab": {
          "base_uri": "https://localhost:8080/"
        },
        "outputId": "c01ba929-1b77-490e-c413-4953295004af"
      },
      "source": [
        "# Look a the first ten movies with the most number of actors\n",
        "\n",
        "from pyspark.sql.functions import desc\n",
        "\n",
        "df_actors.groupBy(\"primaryTitle\").count().sort(desc(\"count\")).head(10)"
      ],
      "execution_count": 25,
      "outputs": [
        {
          "output_type": "execute_result",
          "data": {
            "text/plain": [
              "[Row(primaryTitle='Hamlet', count=145),\n",
              " Row(primaryTitle='Macbeth', count=140),\n",
              " Row(primaryTitle='Honeymoon', count=139),\n",
              " Row(primaryTitle='Broken', count=131),\n",
              " Row(primaryTitle='Alone', count=128),\n",
              " Row(primaryTitle='Love', count=127),\n",
              " Row(primaryTitle='Desire', count=125),\n",
              " Row(primaryTitle='Mother', count=123),\n",
              " Row(primaryTitle='Homecoming', count=117),\n",
              " Row(primaryTitle='Revenge', count=115)]"
            ]
          },
          "metadata": {},
          "execution_count": 25
        }
      ]
    },
    {
      "cell_type": "markdown",
      "metadata": {
        "id": "uBcTX4F7a45Z"
      },
      "source": [
        "---"
      ]
    },
    {
      "cell_type": "markdown",
      "metadata": {
        "id": "myMzhs21a7BJ"
      },
      "source": [
        "## Project 2: Market-basket analysis\n",
        "\n",
        "The task is to implement a system finding frequent itemsets (aka market-basket analysis), analyzing one of the two datasets described below.\n",
        "IMDB\n",
        "The «​IMDB​» dataset is published on Kaggle, under I​MDB non-commercial licensing​. The analysis must be done considering movies as baskets and actors as items.\n",
        "\n",
        "In general, we only need small frequent itemsets with *k* that nevers grows beyond 2 or 3 (subset size)."
      ]
    },
    {
      "cell_type": "code",
      "metadata": {
        "id": "TcxcGG2PCEFL",
        "colab": {
          "base_uri": "https://localhost:8080/"
        },
        "outputId": "5a67bfe7-26ab-49a5-9a0d-410a9b3b8797"
      },
      "source": [
        "# Create the set of baskets (movies) with items (actors) as a list of items for each each basket [[item1, item2, ...], ..., []]\n",
        "\n",
        "from pyspark.sql import functions as F\n",
        "\n",
        "baskets_list = (df_actors.groupby(\"primaryTitle\").agg(F.collect_list(\"primaryName\")).rdd.map(lambda row: row[1]).collect())\n",
        "\n",
        "print(len(baskets_list))"
      ],
      "execution_count": 26,
      "outputs": [
        {
          "output_type": "stream",
          "name": "stdout",
          "text": [
            "346874\n"
          ]
        }
      ]
    },
    {
      "cell_type": "code",
      "metadata": {
        "id": "KAirWPZoFdQe",
        "colab": {
          "base_uri": "https://localhost:8080/"
        },
        "outputId": "58d9c132-9b15-4da1-9a1a-330629bd735a"
      },
      "source": [
        "baskets_list[:10]"
      ],
      "execution_count": 27,
      "outputs": [
        {
          "output_type": "execute_result",
          "data": {
            "text/plain": [
              "[['Tôru Mito',\n",
              "  'Naomi Oka',\n",
              "  'Haruo Aozora',\n",
              "  'Reiko Maki',\n",
              "  'Chizuyu Azami',\n",
              "  'Kyôko Kanô'],\n",
              " ['Robin Nedwell', 'Trevor Howard', 'Diane Keen', 'Jack Douglas'],\n",
              " ['Frank Wuttig', 'Angelika Herrmann', 'Lilo Josefowitz', 'Ralf Schlösser'],\n",
              " ['Monique Cooper', 'Gene Minero', 'Kelsey Bohlen', 'Alisha Seaton'],\n",
              " ['Bhama', 'Meghana Raj', 'Arun', 'Shweta Menon', 'Mithun Ramesh'],\n",
              " ['Irina Byakova',\n",
              "  'Natalya Gundareva',\n",
              "  'Sergey Gazarov',\n",
              "  'Oksana Mysina',\n",
              "  'Sergey Gabrielyan'],\n",
              " ['Pug', 'Coco', 'Steven', 'Funmi Sodipo'],\n",
              " ['George J. Lewis', 'Alice Joyce', 'Jean Hersholt', 'Zasu Pitts'],\n",
              " ['Mahamadou Alzouma', 'Rachid Abeghraz', 'Aminata Kanta', 'Adoum Moussa'],\n",
              " ['Alejandro Hirschfeld', 'Fera Szmuc', 'Natalia Herrero', 'Hernán Melgarejo']]"
            ]
          },
          "metadata": {},
          "execution_count": 27
        }
      ]
    },
    {
      "cell_type": "markdown",
      "metadata": {
        "id": "C4cQdobk6ixt"
      },
      "source": [
        "## A-Priori algorithm\n",
        "\n",
        "It is designed to reduce the number of pairs that must be counted, at the expense of performing two passes over the data."
      ]
    },
    {
      "cell_type": "code",
      "metadata": {
        "id": "d-r2c6_jCLI1",
        "colab": {
          "base_uri": "https://localhost:8080/"
        },
        "outputId": "5e636ee5-800f-48b3-c82f-f5e9a942746e"
      },
      "source": [
        "# Get the unique name of actors in the list of baskets and hash each of them to a unique integer (from 0 to n)\n",
        "\n",
        "items_to_hash = dict(enumerate(sc.parallelize(baskets_list).flatMap(lambda bask: bask).distinct().collect(), 0))\n",
        "\n",
        "print(len(items_to_hash))"
      ],
      "execution_count": 28,
      "outputs": [
        {
          "output_type": "stream",
          "name": "stdout",
          "text": [
            "560653\n"
          ]
        }
      ]
    },
    {
      "cell_type": "code",
      "metadata": {
        "id": "8cb3pLbAIr3D",
        "colab": {
          "base_uri": "https://localhost:8080/"
        },
        "outputId": "123f2b73-c9c9-42c1-bc93-b02ec5649003"
      },
      "source": [
        "# Alternative dictionary with items as keys and hash as values (used to remap integers to actors name)\n",
        "\n",
        "key_actors = dict(zip(items_to_hash.values(), items_to_hash.keys()))\n",
        "\n",
        "print(len(key_actors))"
      ],
      "execution_count": 29,
      "outputs": [
        {
          "output_type": "stream",
          "name": "stdout",
          "text": [
            "560653\n"
          ]
        }
      ]
    },
    {
      "cell_type": "code",
      "metadata": {
        "id": "F9giknXibc0o",
        "colab": {
          "base_uri": "https://localhost:8080/"
        },
        "outputId": "0b6bebb6-b826-4b37-901f-1cfa7c6786a2"
      },
      "source": [
        "# Hash table\n",
        "\n",
        "spark.createDataFrame(items_to_hash.items(), schema = [\"Hash\", \"Item\"]).show(100)"
      ],
      "execution_count": 30,
      "outputs": [
        {
          "output_type": "stream",
          "name": "stdout",
          "text": [
            "+----+--------------------+\n",
            "|Hash|                Item|\n",
            "+----+--------------------+\n",
            "|   0|           Tôru Mito|\n",
            "|   1|           Naomi Oka|\n",
            "|   2|        Haruo Aozora|\n",
            "|   3|          Reiko Maki|\n",
            "|   4|       Chizuyu Azami|\n",
            "|   5|          Kyôko Kanô|\n",
            "|   6|       Robin Nedwell|\n",
            "|   7|       Trevor Howard|\n",
            "|   8|          Diane Keen|\n",
            "|   9|        Jack Douglas|\n",
            "|  10|        Frank Wuttig|\n",
            "|  11|   Angelika Herrmann|\n",
            "|  12|     Lilo Josefowitz|\n",
            "|  13|      Ralf Schlösser|\n",
            "|  14|      Monique Cooper|\n",
            "|  15|         Gene Minero|\n",
            "|  16|       Kelsey Bohlen|\n",
            "|  17|       Alisha Seaton|\n",
            "|  18|               Bhama|\n",
            "|  19|         Meghana Raj|\n",
            "|  20|                Arun|\n",
            "|  21|        Shweta Menon|\n",
            "|  22|       Mithun Ramesh|\n",
            "|  23|       Irina Byakova|\n",
            "|  24|   Natalya Gundareva|\n",
            "|  25|      Sergey Gazarov|\n",
            "|  26|       Oksana Mysina|\n",
            "|  27|   Sergey Gabrielyan|\n",
            "|  28|                 Pug|\n",
            "|  29|                Coco|\n",
            "|  30|              Steven|\n",
            "|  31|        Funmi Sodipo|\n",
            "|  32|     George J. Lewis|\n",
            "|  33|         Alice Joyce|\n",
            "|  34|       Jean Hersholt|\n",
            "|  35|          Zasu Pitts|\n",
            "|  36|   Mahamadou Alzouma|\n",
            "|  37|     Rachid Abeghraz|\n",
            "|  38|       Aminata Kanta|\n",
            "|  39|        Adoum Moussa|\n",
            "|  40|Alejandro Hirschfeld|\n",
            "|  41|          Fera Szmuc|\n",
            "|  42|     Natalia Herrero|\n",
            "|  43|    Hernán Melgarejo|\n",
            "|  44|      Giancarlo Ruiz|\n",
            "|  45|         Rocky Verma|\n",
            "|  46|        Anil Nagrath|\n",
            "|  47|       Achyut Potdar|\n",
            "|  48|          Avtar Gill|\n",
            "|  49|       Ashutosh Rana|\n",
            "|  50|            Saadhika|\n",
            "|  51|       Sharat Saxena|\n",
            "|  52|  Meletis Georgiadis|\n",
            "|  53|       Eliza Solomou|\n",
            "|  54|           Tim Allen|\n",
            "|  55|       Basil Hoffman|\n",
            "|  56|          Scott Caan|\n",
            "|  57|        J.K. Simmons|\n",
            "|  58|         Alain Delon|\n",
            "|  59|      Michel Auclair|\n",
            "|  60|   Dalila Di Lazzaro|\n",
            "|  61|     Pascale Roberts|\n",
            "|  62|         Ahmed Abaza|\n",
            "|  63| Farida Saif Al-Nasr|\n",
            "|  64|          Ragaa Amin|\n",
            "|  65|         Aaliyah Ali|\n",
            "|  66|         Youssef Eid|\n",
            "|  67|  Mahmoud Al Qalaawi|\n",
            "|  68|      Ahmed Adawiyya|\n",
            "|  69|    Fayza Abduljawad|\n",
            "|  70|    Laraine Stephens|\n",
            "|  71|        Audie Murphy|\n",
            "|  72|       Kenneth Tobey|\n",
            "|  73|       Michael Burns|\n",
            "|  74|          Paige Cole|\n",
            "|  75|Funeral Ex-Girlfr...|\n",
            "|  76|     Chris Blanchard|\n",
            "|  77|        Scott Conway|\n",
            "|  78|        Samantha Fox|\n",
            "|  79|         Paul Cooper|\n",
            "|  80|      Steven Berkoff|\n",
            "|  81|Dave Vincent Philips|\n",
            "|  82|   Luis Felipe Tovar|\n",
            "|  83|         Ninel Conde|\n",
            "|  84|     Adriana Fonseca|\n",
            "|  85|    Mauricio Ochmann|\n",
            "|  86|          Joe Castro|\n",
            "|  87|            Al Burke|\n",
            "|  88|      Varda Appleton|\n",
            "|  89|        Thomas Haley|\n",
            "|  90|         Joey Folsom|\n",
            "|  91|          Rick Herod|\n",
            "|  92|           Alex Rech|\n",
            "|  93|       Leona Cavalli|\n",
            "|  94|   Richard Bohringer|\n",
            "|  95|    Romane Bohringer|\n",
            "|  96|   Robinson Stévenin|\n",
            "|  97|     François Négret|\n",
            "|  98|Jennifer Nicole S...|\n",
            "|  99|         Miko Hughes|\n",
            "+----+--------------------+\n",
            "only showing top 100 rows\n",
            "\n"
          ]
        }
      ]
    },
    {
      "cell_type": "code",
      "metadata": {
        "id": "tzqON3js2oIt",
        "colab": {
          "base_uri": "https://localhost:8080/"
        },
        "outputId": "f071bdb5-77d3-4a94-81e2-10306905a3d0"
      },
      "source": [
        "# Format the list of baskets with actors to baskets with the corresponding hash values\n",
        "\n",
        "baskets_hash = (sc.parallelize(baskets_list)\n",
        "                  .map(lambda basket: [key_actors[item] for item in basket])\n",
        "                  .collect())\n",
        "\n",
        "baskets_hash[:100]"
      ],
      "execution_count": 31,
      "outputs": [
        {
          "output_type": "execute_result",
          "data": {
            "text/plain": [
              "[[0, 1, 2, 3, 4, 5],\n",
              " [6, 7, 8, 9],\n",
              " [10, 11, 12, 13],\n",
              " [14, 15, 16, 17],\n",
              " [18, 19, 20, 21, 22],\n",
              " [23, 24, 25, 26, 27],\n",
              " [28, 29, 30, 31],\n",
              " [32, 33, 34, 35],\n",
              " [36, 37, 38, 39],\n",
              " [40, 41, 42, 43],\n",
              " [44],\n",
              " [45, 46, 47, 48, 49, 50, 51],\n",
              " [52, 53],\n",
              " [54, 55, 56, 57],\n",
              " [58, 59, 60, 61],\n",
              " [62, 63, 64, 65, 66, 67, 68, 69],\n",
              " [70, 71, 72, 73],\n",
              " [74, 75, 76, 77],\n",
              " [78, 79, 80, 81],\n",
              " [82, 83, 84, 85],\n",
              " [86, 87, 88, 89],\n",
              " [90, 91],\n",
              " [92, 93],\n",
              " [94, 95, 96, 97],\n",
              " [98, 99, 100, 101],\n",
              " [102, 103, 104, 105],\n",
              " [106, 107, 108, 109],\n",
              " [110, 111, 112, 113],\n",
              " [114, 115, 116, 117, 118, 119],\n",
              " [120, 121, 122, 123],\n",
              " [124, 125, 126, 127],\n",
              " [128, 129, 130, 131, 132],\n",
              " [133, 134, 135, 136],\n",
              " [137, 138, 139, 140, 141, 142],\n",
              " [143, 144, 145, 146],\n",
              " [147, 148, 149, 150, 151, 152],\n",
              " [153, 154, 155, 156],\n",
              " [157, 158, 159, 160],\n",
              " [161],\n",
              " [162, 163],\n",
              " [164, 165, 166, 167],\n",
              " [168, 169, 170, 171],\n",
              " [172, 173, 174, 175],\n",
              " [176, 177, 178, 179],\n",
              " [180, 181, 182],\n",
              " [183, 184, 185, 186],\n",
              " [187],\n",
              " [188, 189, 190, 191, 192, 193, 194],\n",
              " [195, 196, 197, 198],\n",
              " [199, 200, 201, 202, 203, 204],\n",
              " [205, 206, 207, 208],\n",
              " [209, 210, 211, 212],\n",
              " [213, 214, 215, 216, 217, 218, 219, 220, 221, 222, 223, 224, 225, 226],\n",
              " [227, 228, 229, 230],\n",
              " [231, 232, 233, 234, 235, 236, 237, 238],\n",
              " [239, 240, 241, 242],\n",
              " [243],\n",
              " [244, 245, 246, 247, 248],\n",
              " [249, 250, 251, 252],\n",
              " [253, 254, 255, 256, 257],\n",
              " [258, 259, 260, 261, 262, 263],\n",
              " [264],\n",
              " [265, 266, 267, 268],\n",
              " [269, 270, 271, 272, 273, 274, 275, 276, 277, 278],\n",
              " [279, 280, 281, 282, 283, 284],\n",
              " [285, 286, 287, 288],\n",
              " [289, 290, 291, 292],\n",
              " [293, 294, 295, 296],\n",
              " [297, 298, 299, 300],\n",
              " [301, 302, 303, 304],\n",
              " [305, 306, 307, 308],\n",
              " [309, 310, 311, 312],\n",
              " [313, 314, 315, 316],\n",
              " [317, 318, 319, 320],\n",
              " [321, 322, 323, 324],\n",
              " [325, 326, 311, 327, 328],\n",
              " [329, 330, 331, 332, 333, 334, 335],\n",
              " [336],\n",
              " [337, 338, 339, 340],\n",
              " [341, 342, 343, 344, 345, 346],\n",
              " [347, 348, 349, 350],\n",
              " [351, 352, 353, 354],\n",
              " [355, 356, 357, 358],\n",
              " [359, 360, 361, 362],\n",
              " [363, 364, 365],\n",
              " [366, 367, 368, 369, 370, 371, 372, 373],\n",
              " [374, 375, 376, 377, 378],\n",
              " [379, 380, 381, 382, 383, 384, 385],\n",
              " [386, 387, 388, 389],\n",
              " [390],\n",
              " [391, 392, 65, 393, 394, 395, 396, 397],\n",
              " [398, 399],\n",
              " [400, 401, 402, 403, 404, 405],\n",
              " [406, 407, 408, 409, 410],\n",
              " [411, 412, 413, 414, 415, 416, 417],\n",
              " [418, 419, 420, 421, 422, 423, 424, 425],\n",
              " [426],\n",
              " [427, 428, 429],\n",
              " [430,\n",
              "  431,\n",
              "  432,\n",
              "  433,\n",
              "  434,\n",
              "  435,\n",
              "  436,\n",
              "  437,\n",
              "  438,\n",
              "  439,\n",
              "  440,\n",
              "  441,\n",
              "  442,\n",
              "  443,\n",
              "  444,\n",
              "  445,\n",
              "  446,\n",
              "  447,\n",
              "  448,\n",
              "  449,\n",
              "  450],\n",
              " [451, 452, 453, 454, 455]]"
            ]
          },
          "metadata": {},
          "execution_count": 31
        }
      ]
    },
    {
      "cell_type": "code",
      "metadata": {
        "id": "T-_n__B8HcGr",
        "colab": {
          "base_uri": "https://localhost:8080/"
        },
        "outputId": "2d24934b-affa-48ab-c389-ed63678b3a61"
      },
      "source": [
        "# Count the occurrence of each item over all the baskets - SINGLETON (itemsets of size 1)\n",
        "\n",
        "array_counts = sorted((sc.parallelize(baskets_list).flatMap(lambda basket: [(key_actors[item], 1) for item in basket])\n",
        "                             .reduceByKey(lambda a, b: a + b)\n",
        "                             .collect()), key=lambda a: a[0], reverse=False) # key=lambda a: a[1], reverse=True for the order based on the counts\n",
        "\n",
        "print(len(array_counts))"
      ],
      "execution_count": 32,
      "outputs": [
        {
          "output_type": "stream",
          "name": "stdout",
          "text": [
            "560653\n"
          ]
        }
      ]
    },
    {
      "cell_type": "code",
      "metadata": {
        "id": "CETgqY_jmAaE",
        "colab": {
          "base_uri": "https://localhost:8080/"
        },
        "outputId": "542803be-2f2e-421e-d12e-2b689a185b1d"
      },
      "source": [
        "array_counts[:100]"
      ],
      "execution_count": 33,
      "outputs": [
        {
          "output_type": "execute_result",
          "data": {
            "text/plain": [
              "[(0, 1),\n",
              " (1, 77),\n",
              " (2, 6),\n",
              " (3, 15),\n",
              " (4, 19),\n",
              " (5, 9),\n",
              " (6, 2),\n",
              " (7, 63),\n",
              " (8, 2),\n",
              " (9, 5),\n",
              " (10, 1),\n",
              " (11, 1),\n",
              " (12, 1),\n",
              " (13, 1),\n",
              " (14, 1),\n",
              " (15, 1),\n",
              " (16, 10),\n",
              " (17, 16),\n",
              " (18, 33),\n",
              " (19, 23),\n",
              " (20, 54),\n",
              " (21, 43),\n",
              " (22, 2),\n",
              " (23, 4),\n",
              " (24, 30),\n",
              " (25, 27),\n",
              " (26, 4),\n",
              " (27, 5),\n",
              " (28, 1),\n",
              " (29, 3),\n",
              " (30, 1),\n",
              " (31, 1),\n",
              " (32, 37),\n",
              " (33, 53),\n",
              " (34, 78),\n",
              " (35, 106),\n",
              " (36, 1),\n",
              " (37, 1),\n",
              " (38, 1),\n",
              " (39, 1),\n",
              " (40, 1),\n",
              " (41, 1),\n",
              " (42, 1),\n",
              " (43, 1),\n",
              " (44, 6),\n",
              " (45, 5),\n",
              " (46, 126),\n",
              " (47, 6),\n",
              " (48, 73),\n",
              " (49, 51),\n",
              " (50, 4),\n",
              " (51, 44),\n",
              " (52, 9),\n",
              " (53, 6),\n",
              " (54, 26),\n",
              " (55, 15),\n",
              " (56, 15),\n",
              " (57, 36),\n",
              " (58, 75),\n",
              " (59, 52),\n",
              " (60, 26),\n",
              " (61, 18),\n",
              " (62, 9),\n",
              " (63, 15),\n",
              " (64, 4),\n",
              " (65, 5),\n",
              " (66, 24),\n",
              " (67, 7),\n",
              " (68, 10),\n",
              " (69, 22),\n",
              " (70, 2),\n",
              " (71, 41),\n",
              " (72, 10),\n",
              " (73, 5),\n",
              " (74, 1),\n",
              " (75, 1),\n",
              " (76, 1),\n",
              " (77, 2),\n",
              " (78, 58),\n",
              " (79, 2),\n",
              " (80, 40),\n",
              " (81, 1),\n",
              " (82, 34),\n",
              " (83, 2),\n",
              " (84, 2),\n",
              " (85, 8),\n",
              " (86, 2),\n",
              " (87, 20),\n",
              " (88, 8),\n",
              " (89, 14),\n",
              " (90, 5),\n",
              " (91, 4),\n",
              " (92, 1),\n",
              " (93, 8),\n",
              " (94, 72),\n",
              " (95, 30),\n",
              " (96, 16),\n",
              " (97, 14),\n",
              " (98, 1),\n",
              " (99, 10)]"
            ]
          },
          "metadata": {},
          "execution_count": 33
        }
      ]
    },
    {
      "cell_type": "code",
      "metadata": {
        "id": "2rEu9yRND3kG",
        "colab": {
          "base_uri": "https://localhost:8080/"
        },
        "outputId": "38d5e976-6c6d-4a10-e912-fa0b39d9686f"
      },
      "source": [
        "# Format the frequent triples from items to actors names\n",
        "\n",
        "actors_counts = sorted((sc.parallelize(array_counts)\n",
        "                          .map(lambda basket: ((items_to_hash[basket[0]], basket[1])))\n",
        "                          .collect()), key=lambda a: a[1], reverse = True)\n",
        "\n",
        "print(len(actors_counts))"
      ],
      "execution_count": 34,
      "outputs": [
        {
          "output_type": "stream",
          "name": "stdout",
          "text": [
            "560653\n"
          ]
        }
      ]
    },
    {
      "cell_type": "code",
      "metadata": {
        "id": "oJGF_8KtYvfC",
        "colab": {
          "base_uri": "https://localhost:8080/"
        },
        "outputId": "106bad97-723c-4435-b071-f96f82e7a83b"
      },
      "source": [
        "actors_counts[:10]"
      ],
      "execution_count": 35,
      "outputs": [
        {
          "output_type": "execute_result",
          "data": {
            "text/plain": [
              "[('Brahmanandam', 798),\n",
              " ('Adoor Bhasi', 585),\n",
              " ('Matsunosuke Onoe', 565),\n",
              " ('Eddie Garcia', 507),\n",
              " ('Prem Nazir', 438),\n",
              " ('Sung-il Shin', 411),\n",
              " ('Paquito Diaz', 391),\n",
              " ('Masayoshi Nogami', 387),\n",
              " ('Mammootty', 381),\n",
              " ('Aachi Manorama', 355)]"
            ]
          },
          "metadata": {},
          "execution_count": 35
        }
      ]
    },
    {
      "cell_type": "code",
      "metadata": {
        "id": "muKZX_OLlLtX",
        "colab": {
          "base_uri": "https://localhost:8080/"
        },
        "outputId": "7dc28e5b-60fe-49f2-9adc-e5eff8134fde"
      },
      "source": [
        "# Inspect the mean value of movies played by actors/actresses to set the support treshold\n",
        "\n",
        "print('Mean value of movies played by actors/actresses: {}'.format(round((sc.parallelize(array_counts).map(lambda tup: tup[1]).mean()), 2)))"
      ],
      "execution_count": 36,
      "outputs": [
        {
          "output_type": "stream",
          "name": "stdout",
          "text": [
            "Mean value of movies played by actors/actresses: 3.02\n"
          ]
        }
      ]
    },
    {
      "cell_type": "code",
      "metadata": {
        "colab": {
          "base_uri": "https://localhost:8080/",
          "height": 454
        },
        "id": "CnVv2muDpN2d",
        "outputId": "3fafa57d-b11b-48b1-a3e0-13acd76730f6"
      },
      "source": [
        "# Boxplot of the distribution of counts in Log scale\n",
        "\n",
        "import seaborn as sns\n",
        "import matplotlib.pyplot as plt\n",
        "\n",
        "plt.figure(figsize=(10, 7))\n",
        "sns.set(style=\"darkgrid\")\n",
        "g = sns.boxplot(data=[val[1] for val in array_counts], linewidth=2, width=.6, orient=\"h\")\n",
        "g.set_xscale(\"log\")\n",
        "g.set(xlabel=\"Support Value\")\n",
        "plt.show()"
      ],
      "execution_count": 37,
      "outputs": [
        {
          "output_type": "display_data",
          "data": {
            "image/png": "[encoded data removed]",
            "text/plain": [
              "<Figure size 720x504 with 1 Axes>"
            ]
          },
          "metadata": {
            "needs_background": "light"
          }
        }
      ]
    },
    {
      "cell_type": "code",
      "metadata": {
        "colab": {
          "base_uri": "https://localhost:8080/"
        },
        "id": "HySSYOCVZeMl",
        "outputId": "76b48050-0186-42a6-b398-0c7e77740937"
      },
      "source": [
        "# Set the support threshold to the 95% percentile that corresponds to 10 movies played\n",
        "\n",
        "import numpy as np\n",
        "\n",
        "np.percentile([val[1] for val in array_counts], 95)"
      ],
      "execution_count": 38,
      "outputs": [
        {
          "output_type": "execute_result",
          "data": {
            "text/plain": [
              "10.0"
            ]
          },
          "metadata": {},
          "execution_count": 38
        }
      ]
    },
    {
      "cell_type": "code",
      "metadata": {
        "colab": {
          "base_uri": "https://localhost:8080/",
          "height": 450
        },
        "id": "ALg79U7n4P_g",
        "outputId": "0664edcd-b267-49a4-d066-8d184d53aac8"
      },
      "source": [
        "# Histogram of the distribution of counts in Log scale\n",
        "\n",
        "plt.figure(figsize=(10, 7))\n",
        "plt.hist(x=[val[1] for val in array_counts], log=True)\n",
        "plt.xlabel(\"Support value\")\n",
        "plt.ylabel(\"Counts\")\n",
        "plt.show()"
      ],
      "execution_count": 39,
      "outputs": [
        {
          "output_type": "display_data",
          "data": {
            "image/png": "[encoded data removed]",
            "text/plain": [
              "<Figure size 720x504 with 1 Axes>"
            ]
          },
          "metadata": {}
        }
      ]
    },
    {
      "cell_type": "code",
      "metadata": {
        "colab": {
          "base_uri": "https://localhost:8080/"
        },
        "id": "Ko-uofBXd5G0",
        "outputId": "6426540b-2da6-4420-a6e0-9d85d3b873f6"
      },
      "source": [
        "# Hashed value of the first-ranked actor for number of movies\n",
        "\n",
        "key_actors['Brahmanandam']"
      ],
      "execution_count": 40,
      "outputs": [
        {
          "output_type": "execute_result",
          "data": {
            "text/plain": [
              "799"
            ]
          },
          "metadata": {},
          "execution_count": 40
        }
      ]
    },
    {
      "cell_type": "code",
      "metadata": {
        "colab": {
          "base_uri": "https://localhost:8080/"
        },
        "id": "d1n7TyrNlAfI",
        "outputId": "a6f7c153-20f6-4cfd-cd6f-918859c5491c"
      },
      "source": [
        "# Average length of each basket\n",
        "\n",
        "print(\"The average number of actors in each basket is: {}\".format(round((sc.parallelize(baskets_hash))\n",
        "                                                                           .map(lambda basket: len(basket))\n",
        "                                                                           .mean(), 2)))"
      ],
      "execution_count": 41,
      "outputs": [
        {
          "output_type": "stream",
          "name": "stdout",
          "text": [
            "The average number of actors in each basket is: 4.88\n"
          ]
        }
      ]
    },
    {
      "cell_type": "code",
      "metadata": {
        "colab": {
          "base_uri": "https://localhost:8080/"
        },
        "id": "cK2b4GcUV7W9",
        "outputId": "646caeea-9c9d-464a-c300-13d01af0ee91"
      },
      "source": [
        "# Inspect the average number of actors in the movies played by \"Brahmanandam\"\n",
        "\n",
        "Brahmanandam_avgmovies = (sc.parallelize(baskets_hash)\n",
        "                            .map(lambda basket: len(basket) if 799 in basket else 0)\n",
        "                            .collect())\n",
        "\n",
        "print(\"The average number of actors in the movies played by 'Brahmanandam' is : {}\".format(round(np.mean([val for val in Brahmanandam_avgmovies if val != 0]), 2)))"
      ],
      "execution_count": 42,
      "outputs": [
        {
          "output_type": "stream",
          "name": "stdout",
          "text": [
            "The average number of actors in the movies played by 'Brahmanandam' is : 6.12\n"
          ]
        }
      ]
    },
    {
      "cell_type": "code",
      "metadata": {
        "colab": {
          "base_uri": "https://localhost:8080/"
        },
        "id": "V5IDH6TP29Xh",
        "outputId": "d0e9db9d-963b-44e6-b6eb-a3425d72b224"
      },
      "source": [
        "# Frequent-items table - SINGLETON\n",
        "# entry i-th is -1 if item \"i\" is not frequent, while the i-th entry is its hashed value if the item \"i\" is frequent\n",
        "\n",
        "freqitem_table = (sc.parallelize(array_counts)\n",
        "                    .map(lambda basket: -1 if basket[1] <= 10 else basket[0])\n",
        "                    .collect())\n",
        "\n",
        "freqitem_table[:100]"
      ],
      "execution_count": 43,
      "outputs": [
        {
          "output_type": "execute_result",
          "data": {
            "text/plain": [
              "[-1,\n",
              " 1,\n",
              " -1,\n",
              " 3,\n",
              " 4,\n",
              " -1,\n",
              " -1,\n",
              " 7,\n",
              " -1,\n",
              " -1,\n",
              " -1,\n",
              " -1,\n",
              " -1,\n",
              " -1,\n",
              " -1,\n",
              " -1,\n",
              " -1,\n",
              " 17,\n",
              " 18,\n",
              " 19,\n",
              " 20,\n",
              " 21,\n",
              " -1,\n",
              " -1,\n",
              " 24,\n",
              " 25,\n",
              " -1,\n",
              " -1,\n",
              " -1,\n",
              " -1,\n",
              " -1,\n",
              " -1,\n",
              " 32,\n",
              " 33,\n",
              " 34,\n",
              " 35,\n",
              " -1,\n",
              " -1,\n",
              " -1,\n",
              " -1,\n",
              " -1,\n",
              " -1,\n",
              " -1,\n",
              " -1,\n",
              " -1,\n",
              " -1,\n",
              " 46,\n",
              " -1,\n",
              " 48,\n",
              " 49,\n",
              " -1,\n",
              " 51,\n",
              " -1,\n",
              " -1,\n",
              " 54,\n",
              " 55,\n",
              " 56,\n",
              " 57,\n",
              " 58,\n",
              " 59,\n",
              " 60,\n",
              " 61,\n",
              " -1,\n",
              " 63,\n",
              " -1,\n",
              " -1,\n",
              " 66,\n",
              " -1,\n",
              " -1,\n",
              " 69,\n",
              " -1,\n",
              " 71,\n",
              " -1,\n",
              " -1,\n",
              " -1,\n",
              " -1,\n",
              " -1,\n",
              " -1,\n",
              " 78,\n",
              " -1,\n",
              " 80,\n",
              " -1,\n",
              " 82,\n",
              " -1,\n",
              " -1,\n",
              " -1,\n",
              " -1,\n",
              " 87,\n",
              " -1,\n",
              " 89,\n",
              " -1,\n",
              " -1,\n",
              " -1,\n",
              " -1,\n",
              " 94,\n",
              " 95,\n",
              " 96,\n",
              " 97,\n",
              " -1,\n",
              " -1]"
            ]
          },
          "metadata": {},
          "execution_count": 43
        }
      ]
    },
    {
      "cell_type": "code",
      "metadata": {
        "colab": {
          "base_uri": "https://localhost:8080/"
        },
        "id": "waif1GVFnhMl",
        "outputId": "a043e8ec-c262-4bf4-e610-3681b1f52a08"
      },
      "source": [
        "# Inspect the frequent items in each basket (the ones different from -1)\n",
        "\n",
        "baskets_hash = (sc.parallelize(baskets_hash)\n",
        "                  .map(lambda basket: [freqitem_table[item] for item in basket])\n",
        "                  .collect())\n",
        "\n",
        "\n",
        "# Remove non frequent items in the baskets\n",
        "\n",
        "baskets_hash = (sc.parallelize(baskets_hash)\n",
        "                  .map(lambda basket: [item for item in basket if item != -1])\n",
        "                  .collect())\n",
        "\n",
        "\n",
        "# Remove the empty baskets and the ones with length lower than 2\n",
        "\n",
        "baskets_hash = list(filter(lambda bsk: bsk != [] and len(bsk) >= 2, baskets_hash))\n",
        "print(len(baskets_hash))"
      ],
      "execution_count": 44,
      "outputs": [
        {
          "output_type": "stream",
          "name": "stdout",
          "text": [
            "181215\n"
          ]
        }
      ]
    },
    {
      "cell_type": "code",
      "metadata": {
        "colab": {
          "base_uri": "https://localhost:8080/"
        },
        "id": "_FDNp7w2ctT0",
        "outputId": "353a20a1-fece-4097-d8f7-04f88508e785"
      },
      "source": [
        "baskets_hash[:100]"
      ],
      "execution_count": 45,
      "outputs": [
        {
          "output_type": "execute_result",
          "data": {
            "text/plain": [
              "[[1, 3, 4],\n",
              " [18, 19, 20, 21],\n",
              " [24, 25],\n",
              " [32, 33, 34, 35],\n",
              " [46, 48, 49, 51],\n",
              " [54, 55, 56, 57],\n",
              " [58, 59, 60, 61],\n",
              " [63, 66, 69],\n",
              " [78, 80],\n",
              " [87, 89],\n",
              " [94, 95, 96, 97],\n",
              " [111, 112],\n",
              " [128, 131, 132],\n",
              " [134, 135, 136],\n",
              " [137, 138, 139, 141, 142],\n",
              " [143, 144, 145],\n",
              " [153, 154, 156],\n",
              " [162, 163],\n",
              " [164, 165, 166],\n",
              " [176, 177, 178, 179],\n",
              " [180, 181],\n",
              " [189, 194],\n",
              " [205, 206, 207, 208],\n",
              " [209, 211],\n",
              " [213, 215, 216, 217, 218, 219, 220, 226],\n",
              " [231, 232, 233, 234, 235, 236, 237, 238],\n",
              " [249, 250, 251, 252],\n",
              " [253, 254, 255, 256, 257],\n",
              " [258, 259, 260, 261, 262, 263],\n",
              " [266, 267, 268],\n",
              " [269, 270, 271, 272, 274, 275, 277, 278],\n",
              " [280, 281, 282],\n",
              " [286, 288],\n",
              " [293, 295, 296],\n",
              " [309, 310, 311, 312],\n",
              " [313, 314, 315, 316],\n",
              " [317, 318, 319, 320],\n",
              " [323, 324],\n",
              " [326, 311, 327, 328],\n",
              " [329, 330, 332, 333, 335],\n",
              " [341, 342, 343, 345, 346],\n",
              " [376, 377, 378],\n",
              " [379, 380, 381, 383, 384, 385],\n",
              " [386, 388],\n",
              " [391, 392, 393, 395, 397],\n",
              " [398, 399],\n",
              " [400, 401, 403, 404, 405],\n",
              " [406, 407, 408, 409, 410],\n",
              " [411, 412, 413, 414, 415, 416, 417],\n",
              " [418, 419, 420, 421, 422, 423, 424, 425],\n",
              " [430, 431, 432, 439, 440, 441],\n",
              " [462, 423],\n",
              " [467, 468, 469, 470],\n",
              " [471, 472, 473, 474],\n",
              " [479, 482],\n",
              " [494, 495, 496, 497, 498],\n",
              " [506, 507],\n",
              " [509, 510, 511, 512],\n",
              " [517, 519, 520],\n",
              " [522, 523, 524, 526, 529, 530, 531, 532, 533],\n",
              " [538, 539, 540],\n",
              " [541, 543, 544],\n",
              " [551, 552, 553, 554, 555],\n",
              " [573, 574, 575, 576, 581],\n",
              " [582, 591, 592],\n",
              " [538, 596],\n",
              " [607, 610],\n",
              " [611, 612, 613, 615, 616],\n",
              " [621, 624],\n",
              " [627, 628],\n",
              " [632, 634, 312, 635, 638],\n",
              " [658, 659],\n",
              " [662, 663, 664, 665],\n",
              " [674, 676, 677, 678, 679],\n",
              " [680, 681, 682, 684],\n",
              " [689, 690, 692],\n",
              " [697, 698, 699, 700],\n",
              " [702, 703, 704, 705, 706],\n",
              " [711, 712],\n",
              " [714, 715, 716, 717],\n",
              " [718, 720],\n",
              " [724, 725, 726, 727],\n",
              " [732, 733, 734, 735],\n",
              " [742, 743, 744, 745, 746, 747],\n",
              " [748, 749, 750],\n",
              " [756, 757, 759],\n",
              " [767, 768, 769, 770],\n",
              " [775, 776, 777, 778],\n",
              " [779, 780, 781],\n",
              " [795, 797, 798, 799],\n",
              " [801, 422, 802, 803, 804],\n",
              " [807, 808],\n",
              " [813, 815],\n",
              " [820, 821, 822, 823, 824, 825, 826],\n",
              " [827, 828, 830],\n",
              " [831, 832, 833, 834],\n",
              " [835, 836],\n",
              " [839, 841, 842, 843, 844],\n",
              " [866, 867, 868, 869, 870],\n",
              " [872, 874]]"
            ]
          },
          "metadata": {},
          "execution_count": 45
        }
      ]
    },
    {
      "cell_type": "code",
      "metadata": {
        "colab": {
          "base_uri": "https://localhost:8080/"
        },
        "id": "M3ciDmeOOQcz",
        "outputId": "0a9b61d4-e5af-4062-aac5-91d2f1237b07"
      },
      "source": [
        "# Count the occurrence of each item over all the baskets - DOUBLETON (itemsets of size 2)\n",
        "\n",
        "from itertools import combinations\n",
        "\n",
        "array_counts = (sc.parallelize(baskets_hash)\n",
        "                  .map(lambda basket: combinations(basket, 2))\n",
        "                  .flatMap(lambda pairs: [(pair, 1) for pair in pairs])\n",
        "                  .reduceByKey(lambda a, b: a + b)\n",
        "                  .collect())\n",
        "\n",
        "print(len(array_counts))"
      ],
      "execution_count": 46,
      "outputs": [
        {
          "output_type": "stream",
          "name": "stdout",
          "text": [
            "1118443\n"
          ]
        }
      ]
    },
    {
      "cell_type": "code",
      "metadata": {
        "colab": {
          "base_uri": "https://localhost:8080/"
        },
        "id": "mOJB8mg7Uj2r",
        "outputId": "c17cf69b-2459-46ed-ea28-fe7a13c354ab"
      },
      "source": [
        "array_counts[:100]"
      ],
      "execution_count": 47,
      "outputs": [
        {
          "output_type": "execute_result",
          "data": {
            "text/plain": [
              "[((1, 3), 1),\n",
              " ((1, 4), 5),\n",
              " ((3, 4), 2),\n",
              " ((18, 19), 1),\n",
              " ((18, 20), 2),\n",
              " ((18, 21), 1),\n",
              " ((19, 20), 2),\n",
              " ((19, 21), 1),\n",
              " ((20, 21), 2),\n",
              " ((24, 25), 1),\n",
              " ((32, 33), 1),\n",
              " ((32, 34), 4),\n",
              " ((32, 35), 1),\n",
              " ((33, 34), 2),\n",
              " ((33, 35), 2),\n",
              " ((34, 35), 4),\n",
              " ((46, 48), 1),\n",
              " ((46, 49), 1),\n",
              " ((46, 51), 1),\n",
              " ((48, 49), 1),\n",
              " ((48, 51), 1),\n",
              " ((49, 51), 1),\n",
              " ((54, 55), 1),\n",
              " ((54, 56), 1),\n",
              " ((54, 57), 1),\n",
              " ((55, 56), 1),\n",
              " ((55, 57), 1),\n",
              " ((56, 57), 1),\n",
              " ((58, 59), 1),\n",
              " ((58, 60), 1),\n",
              " ((58, 61), 1),\n",
              " ((59, 60), 1),\n",
              " ((59, 61), 1),\n",
              " ((60, 61), 1),\n",
              " ((63, 66), 1),\n",
              " ((63, 69), 2),\n",
              " ((66, 69), 2),\n",
              " ((78, 80), 1),\n",
              " ((87, 89), 2),\n",
              " ((94, 95), 3),\n",
              " ((94, 96), 3),\n",
              " ((94, 97), 1),\n",
              " ((95, 96), 1),\n",
              " ((95, 97), 2),\n",
              " ((96, 97), 1),\n",
              " ((111, 112), 1),\n",
              " ((128, 131), 1),\n",
              " ((128, 132), 4),\n",
              " ((131, 132), 3),\n",
              " ((134, 135), 1),\n",
              " ((134, 136), 1),\n",
              " ((135, 136), 1),\n",
              " ((137, 138), 2),\n",
              " ((137, 139), 3),\n",
              " ((137, 141), 4),\n",
              " ((137, 142), 3),\n",
              " ((138, 139), 1),\n",
              " ((138, 141), 1),\n",
              " ((138, 142), 2),\n",
              " ((139, 141), 1),\n",
              " ((139, 142), 1),\n",
              " ((141, 142), 2),\n",
              " ((143, 144), 1),\n",
              " ((143, 145), 1),\n",
              " ((144, 145), 1),\n",
              " ((153, 154), 1),\n",
              " ((153, 156), 1),\n",
              " ((154, 156), 1),\n",
              " ((162, 163), 3),\n",
              " ((164, 165), 1),\n",
              " ((164, 166), 1),\n",
              " ((165, 166), 1),\n",
              " ((176, 177), 1),\n",
              " ((176, 178), 1),\n",
              " ((176, 179), 1),\n",
              " ((177, 178), 1),\n",
              " ((177, 179), 1),\n",
              " ((178, 179), 1),\n",
              " ((180, 181), 3),\n",
              " ((189, 194), 2),\n",
              " ((205, 206), 13),\n",
              " ((205, 207), 4),\n",
              " ((205, 208), 17),\n",
              " ((206, 207), 14),\n",
              " ((206, 208), 8),\n",
              " ((207, 208), 6),\n",
              " ((209, 211), 1),\n",
              " ((213, 215), 2),\n",
              " ((213, 216), 2),\n",
              " ((213, 217), 1),\n",
              " ((213, 218), 1),\n",
              " ((213, 219), 1),\n",
              " ((213, 220), 1),\n",
              " ((213, 226), 2),\n",
              " ((215, 216), 2),\n",
              " ((215, 217), 1),\n",
              " ((215, 218), 1),\n",
              " ((215, 219), 1),\n",
              " ((215, 220), 1),\n",
              " ((215, 226), 1)]"
            ]
          },
          "metadata": {},
          "execution_count": 47
        }
      ]
    },
    {
      "cell_type": "code",
      "metadata": {
        "colab": {
          "base_uri": "https://localhost:8080/"
        },
        "id": "cG7UObKbaqW5",
        "outputId": "e7303804-06b6-4014-d7d5-ff7ea8a3b848"
      },
      "source": [
        "# Format frequent pairs to actor names\n",
        "\n",
        "actors_counts = sorted((sc.parallelize(array_counts)\n",
        "                          .map(lambda basket: ((items_to_hash[basket[0][0]], items_to_hash[basket[0][1]]), basket[1]))\n",
        "                          .collect()), key = lambda a: a[1], reverse = True)\n",
        "\n",
        "actors_counts[:100]"
      ],
      "execution_count": 48,
      "outputs": [
        {
          "output_type": "execute_result",
          "data": {
            "text/plain": [
              "[(('Adoor Bhasi', 'Prem Nazir'), 237),\n",
              " (('Bahadur', 'Adoor Bhasi'), 169),\n",
              " (('Kijaku Ôtani', 'Matsunosuke Onoe'), 165),\n",
              " (('Jayabharati', 'Adoor Bhasi'), 162),\n",
              " (('Kitsuraku Arashi', 'Matsunosuke Onoe'), 136),\n",
              " (('Adoor Bhasi', 'Thikkurisi Sukumaran Nair'), 123),\n",
              " (('Suminojo Ichikawa', 'Matsunosuke Onoe'), 120),\n",
              " (('Kitsuraku Arashi', 'Kijaku Ôtani'), 113),\n",
              " (('Jayabharati', 'Bahadur'), 109),\n",
              " (('Panchito', 'Dolphy'), 106),\n",
              " ((\"Sen'nosuke Nakamura\", 'Matsunosuke Onoe'), 106),\n",
              " (('Kijaku Ôtani', 'Suminojo Ichikawa'), 101),\n",
              " (('Prem Nazir', 'Thikkurisi Sukumaran Nair'), 101),\n",
              " (('Hôshô Bandô', 'Ritoku Arashi'), 99),\n",
              " (('Kitsuraku Arashi', 'Suminojo Ichikawa'), 97),\n",
              " (('Bahadur', 'Prem Nazir'), 96),\n",
              " (('Jayabharati', 'Prem Nazir'), 94),\n",
              " (('Adoor Bhasi', 'Paravoor Bharathan'), 92),\n",
              " (('Adoor Bhasi', 'Meena'), 90),\n",
              " (('Ritoku Arashi', 'Enshô Jitsukawa'), 90),\n",
              " (('Madhu', 'Adoor Bhasi'), 90),\n",
              " (('Hôshô Bandô', 'Enshô Jitsukawa'), 84),\n",
              " ((\"Sen'nosuke Nakamura\", 'Kijaku Ôtani'), 84),\n",
              " (('T.S. Muthaiah', 'Adoor Bhasi'), 83),\n",
              " (('Ali', 'Brahmanandam'), 83),\n",
              " (('Kaichi Yamamoto', 'Takeo Azuma'), 76),\n",
              " (('Matsunosuke Onoe', 'Matsunosuke Onoe'), 76),\n",
              " (('Kakumatsuro Arashi', 'Matsunosuke Onoe'), 76),\n",
              " (('Rajkumar', 'Balkrishna'), 75),\n",
              " (('Ritoku Arashi', 'Shôzô Arashi'), 73),\n",
              " (('Paquito Diaz', 'Fernando Poe Jr.'), 73),\n",
              " (('Franco Franchi', 'Ciccio Ingrassia'), 72),\n",
              " (('Hideo Fujino', 'Kaichi Yamamoto'), 72),\n",
              " (('Hideo Fujino', 'Takeo Azuma'), 72),\n",
              " (('T.S. Muthaiah', 'Prem Nazir'), 72),\n",
              " (('Kitsuraku Arashi', \"Sen'nosuke Nakamura\"), 71),\n",
              " (('Bahadur', 'Thikkurisi Sukumaran Nair'), 70),\n",
              " (('Chosei Kataoka', 'Matsunosuke Onoe'), 69),\n",
              " (('N. Govindankutty', 'Adoor Bhasi'), 68),\n",
              " (('Shirôgorô Sawamura', 'Enjuro Ichikawa'), 68),\n",
              " (('Sentarô Nakamura', 'Matsunosuke Onoe'), 68),\n",
              " ((\"Sen'nosuke Nakamura\", 'Suminojo Ichikawa'), 67),\n",
              " (('Manavalan Joseph', 'Adoor Bhasi'), 66),\n",
              " (('Nagesh', 'Aachi Manorama'), 64),\n",
              " (('Ichitarô Kataoka', 'Matsunosuke Onoe'), 64),\n",
              " (('Jeong-hie Yun', 'Sung-il Shin'), 63),\n",
              " (('Aachi Manorama', 'Shivaji Ganesan'), 63),\n",
              " (('Nagesh', 'Shivaji Ganesan'), 63),\n",
              " (('Hôshô Bandô', 'Shôzô Arashi'), 63),\n",
              " (('T.S. Muthaiah', 'Bahadur'), 63),\n",
              " (('Gummadi', 'Akkineni Nageshwara Rao'), 61),\n",
              " (('Prem Nazir', 'Meena'), 60),\n",
              " (('Madhu', 'Bahadur'), 59),\n",
              " (('Utae Nakamura', 'Matsunosuke Onoe'), 59),\n",
              " (('Leo Gorcey', 'Huntz Hall'), 59),\n",
              " (('Shôzô Arashi', 'Enshô Jitsukawa'), 59),\n",
              " (('Bahadur', 'Meena'), 59),\n",
              " (('Kakumatsuro Arashi', 'Kijaku Ôtani'), 58),\n",
              " (('Jeong-im Nam', 'Sung-il Shin'), 58),\n",
              " (('Srinivasa Rao Kota', 'Brahmanandam'), 57),\n",
              " (('Hideo Fujino', 'Teinosuke Kinugasa'), 56),\n",
              " (('Rihaku Arashi', 'Matsunosuke Onoe'), 56),\n",
              " (('Adoor Bhasi', 'Sankaradi'), 56),\n",
              " (('Prem Nazir', 'Jose Prakash'), 55),\n",
              " (('M.G. Ramachandran', 'M.N. Nambiar'), 55),\n",
              " (('V.K. Ramasamy', 'Shivaji Ganesan'), 55),\n",
              " (('Nagesh', 'R. Muthuraman'), 55),\n",
              " (('Rajendra Prasad', 'Brahmanandam'), 55),\n",
              " (('Chosei Kataoka', 'Kijaku Ôtani'), 55),\n",
              " (('Adoor Bhasi', 'T.R. Omana'), 55),\n",
              " (('Adoor Bhasi', 'Kaviyoor Ponnamma'), 55),\n",
              " (('Futaba Kinoshita', 'Kusuo Abe'), 54),\n",
              " (('Hie Mun', 'Sung-il Shin'), 54),\n",
              " (('Jayabharati', 'Madhu'), 54),\n",
              " (('Ji-mee Kim', 'Mu-ryong Choi'), 54),\n",
              " (('Chieko Baishô', 'Kiyoshi Atsumi'), 54),\n",
              " (('M.N. Nambiar', 'Shivaji Ganesan'), 54),\n",
              " (('Habibur Rehman', 'Sultan Rahi'), 53),\n",
              " (('Peter North', 'Tom Byron'), 51),\n",
              " (('Kitsuraku Arashi', 'Kakumatsuro Arashi'), 51),\n",
              " (('Utae Nakamura', 'Kijaku Ôtani'), 51),\n",
              " (('Nellikode Bhaskaran', 'Adoor Bhasi'), 51),\n",
              " (('Nestor de Villa', 'Nida Blanca'), 50),\n",
              " (('Unpei Yokoyama', 'Kaichi Yamamoto'), 50),\n",
              " (('Smiley Burnette', 'Gene Autry'), 50),\n",
              " (('Chosei Kataoka', 'Kitsuraku Arashi'), 50),\n",
              " (('Ichitarô Kataoka', 'Kijaku Ôtani'), 50),\n",
              " (('Padmini', 'Shivaji Ganesan'), 50),\n",
              " (('Tanikella Bharani', 'Brahmanandam'), 49),\n",
              " (('Kitsuraku Arashi', 'Utae Nakamura'), 49),\n",
              " (('Thikkurisi Sukumaran Nair', 'S.P. Pillai'), 49),\n",
              " (('Prem Nazir', 'T.R. Omana'), 49),\n",
              " (('Jayabharati', 'Meena'), 48),\n",
              " (('Udaya Kumar', 'Balkrishna'), 48),\n",
              " (('K.P.A.C. Lalitha', 'Adoor Bhasi'), 48),\n",
              " (('Kottarakkara Sridharan Nair', 'Adoor Bhasi'), 48),\n",
              " (('Hideo Fujino', 'Unpei Yokoyama'), 48),\n",
              " (('Unpei Yokoyama', 'Takeo Azuma'), 48),\n",
              " (('Tat-Wah Cho', 'Tak-Hing Kwan'), 48),\n",
              " (('Taraka Rama Rao Nandamuri', 'Anjali Devi'), 48)]"
            ]
          },
          "metadata": {},
          "execution_count": 48
        }
      ]
    },
    {
      "cell_type": "code",
      "metadata": {
        "id": "Tk9uNmBwFBWV",
        "colab": {
          "base_uri": "https://localhost:8080/"
        },
        "outputId": "e62533f2-5148-4ebf-f21b-1283fb306acf"
      },
      "source": [
        "# Frequent-items table - DOUBLETON\n",
        "\n",
        "freqitem_table = (sc.parallelize(array_counts)\n",
        "                     .map(lambda basket: -1 if basket[1] <= 10 else basket[0])\n",
        "                     .collect())\n",
        "\n",
        "print(len(freqitem_table))"
      ],
      "execution_count": 49,
      "outputs": [
        {
          "output_type": "stream",
          "name": "stdout",
          "text": [
            "1118443\n"
          ]
        }
      ]
    },
    {
      "cell_type": "code",
      "metadata": {
        "colab": {
          "base_uri": "https://localhost:8080/"
        },
        "id": "JSanq9YnHEVV",
        "outputId": "0d897565-a58c-4600-8b26-0e3b427a19d0"
      },
      "source": [
        "freqitem_table[:100]"
      ],
      "execution_count": 50,
      "outputs": [
        {
          "output_type": "execute_result",
          "data": {
            "text/plain": [
              "[-1,\n",
              " -1,\n",
              " -1,\n",
              " -1,\n",
              " -1,\n",
              " -1,\n",
              " -1,\n",
              " -1,\n",
              " -1,\n",
              " -1,\n",
              " -1,\n",
              " -1,\n",
              " -1,\n",
              " -1,\n",
              " -1,\n",
              " -1,\n",
              " -1,\n",
              " -1,\n",
              " -1,\n",
              " -1,\n",
              " -1,\n",
              " -1,\n",
              " -1,\n",
              " -1,\n",
              " -1,\n",
              " -1,\n",
              " -1,\n",
              " -1,\n",
              " -1,\n",
              " -1,\n",
              " -1,\n",
              " -1,\n",
              " -1,\n",
              " -1,\n",
              " -1,\n",
              " -1,\n",
              " -1,\n",
              " -1,\n",
              " -1,\n",
              " -1,\n",
              " -1,\n",
              " -1,\n",
              " -1,\n",
              " -1,\n",
              " -1,\n",
              " -1,\n",
              " -1,\n",
              " -1,\n",
              " -1,\n",
              " -1,\n",
              " -1,\n",
              " -1,\n",
              " -1,\n",
              " -1,\n",
              " -1,\n",
              " -1,\n",
              " -1,\n",
              " -1,\n",
              " -1,\n",
              " -1,\n",
              " -1,\n",
              " -1,\n",
              " -1,\n",
              " -1,\n",
              " -1,\n",
              " -1,\n",
              " -1,\n",
              " -1,\n",
              " -1,\n",
              " -1,\n",
              " -1,\n",
              " -1,\n",
              " -1,\n",
              " -1,\n",
              " -1,\n",
              " -1,\n",
              " -1,\n",
              " -1,\n",
              " -1,\n",
              " -1,\n",
              " (205, 206),\n",
              " -1,\n",
              " (205, 208),\n",
              " (206, 207),\n",
              " -1,\n",
              " -1,\n",
              " -1,\n",
              " -1,\n",
              " -1,\n",
              " -1,\n",
              " -1,\n",
              " -1,\n",
              " -1,\n",
              " -1,\n",
              " -1,\n",
              " -1,\n",
              " -1,\n",
              " -1,\n",
              " -1,\n",
              " -1]"
            ]
          },
          "metadata": {},
          "execution_count": 50
        }
      ]
    },
    {
      "cell_type": "code",
      "metadata": {
        "colab": {
          "base_uri": "https://localhost:8080/"
        },
        "id": "0FG-zQF4MJqw",
        "outputId": "68ed33c3-28dc-46fe-c88f-af068a5279e0"
      },
      "source": [
        "# Remove unfrequent pairs\n",
        "\n",
        "freqitem_table = [freq for freq in freqitem_table if freq != -1]\n",
        "\n",
        "\n",
        "# Unwind the frequent tuple pairs and extract the distinct items\n",
        "\n",
        "freqitem_table = sorted(list(set([elem for bsk in freqitem_table for elem in bsk])))\n",
        "freqitem_table[:100]"
      ],
      "execution_count": 51,
      "outputs": [
        {
          "output_type": "execute_result",
          "data": {
            "text/plain": [
              "[1,\n",
              " 46,\n",
              " 78,\n",
              " 128,\n",
              " 132,\n",
              " 134,\n",
              " 205,\n",
              " 206,\n",
              " 207,\n",
              " 208,\n",
              " 220,\n",
              " 233,\n",
              " 253,\n",
              " 254,\n",
              " 255,\n",
              " 256,\n",
              " 258,\n",
              " 261,\n",
              " 262,\n",
              " 266,\n",
              " 268,\n",
              " 269,\n",
              " 270,\n",
              " 271,\n",
              " 272,\n",
              " 280,\n",
              " 281,\n",
              " 309,\n",
              " 311,\n",
              " 312,\n",
              " 327,\n",
              " 328,\n",
              " 335,\n",
              " 376,\n",
              " 400,\n",
              " 403,\n",
              " 407,\n",
              " 408,\n",
              " 409,\n",
              " 410,\n",
              " 411,\n",
              " 414,\n",
              " 416,\n",
              " 417,\n",
              " 418,\n",
              " 420,\n",
              " 421,\n",
              " 423,\n",
              " 424,\n",
              " 425,\n",
              " 462,\n",
              " 507,\n",
              " 509,\n",
              " 510,\n",
              " 517,\n",
              " 520,\n",
              " 538,\n",
              " 539,\n",
              " 634,\n",
              " 664,\n",
              " 681,\n",
              " 682,\n",
              " 684,\n",
              " 689,\n",
              " 698,\n",
              " 699,\n",
              " 701,\n",
              " 702,\n",
              " 703,\n",
              " 704,\n",
              " 706,\n",
              " 711,\n",
              " 720,\n",
              " 723,\n",
              " 737,\n",
              " 742,\n",
              " 743,\n",
              " 744,\n",
              " 747,\n",
              " 756,\n",
              " 757,\n",
              " 759,\n",
              " 767,\n",
              " 768,\n",
              " 769,\n",
              " 770,\n",
              " 775,\n",
              " 776,\n",
              " 777,\n",
              " 795,\n",
              " 797,\n",
              " 799,\n",
              " 807,\n",
              " 808,\n",
              " 821,\n",
              " 822,\n",
              " 823,\n",
              " 825,\n",
              " 826,\n",
              " 844]"
            ]
          },
          "metadata": {},
          "execution_count": 51
        }
      ]
    },
    {
      "cell_type": "code",
      "metadata": {
        "colab": {
          "base_uri": "https://localhost:8080/"
        },
        "id": "jzUbqIJ6N9wi",
        "outputId": "dd55dd85-5e99-41ce-ce62-a6373a44fbbb"
      },
      "source": [
        "# Format the basket lists to frequent items\n",
        "\n",
        "baskets_hash = (sc.parallelize(baskets_hash)\n",
        "                  .map(lambda basket: [item if item in freqitem_table else -1 for item in basket])\n",
        "                  .collect())\n",
        "\n",
        "\n",
        "# Remove non-frequent items and the baskets with length lower than 3\n",
        "\n",
        "baskets_hash = (sc.parallelize(baskets_hash)\n",
        "                  .map(lambda basket: [item for item in basket if item != -1])\n",
        "                  .collect())\n",
        "baskets_hash = list(filter(lambda bsk: bsk != [] and len(bsk) >= 3, baskets_hash))\n",
        "baskets_hash[:100]"
      ],
      "execution_count": 52,
      "outputs": [
        {
          "output_type": "execute_result",
          "data": {
            "text/plain": [
              "[[205, 206, 207, 208],\n",
              " [253, 254, 255, 256],\n",
              " [258, 261, 262],\n",
              " [269, 270, 271, 272],\n",
              " [309, 311, 312],\n",
              " [311, 327, 328],\n",
              " [407, 408, 409, 410],\n",
              " [411, 414, 416, 417],\n",
              " [418, 420, 421, 423, 424, 425],\n",
              " [681, 682, 684],\n",
              " [702, 703, 704, 706],\n",
              " [742, 743, 744, 747],\n",
              " [756, 757, 759],\n",
              " [767, 768, 769, 770],\n",
              " [775, 776, 777],\n",
              " [795, 797, 799],\n",
              " [821, 822, 823, 825, 826],\n",
              " [1075, 1076, 1078, 1082, 1086],\n",
              " [1087, 1088, 1089, 1090, 256],\n",
              " [1135, 1136, 1137, 1138],\n",
              " [1156, 1157, 1158],\n",
              " [1167, 1168, 1169],\n",
              " [1265, 776, 1267, 1268],\n",
              " [1392, 1394, 1395],\n",
              " [1530, 1533, 995],\n",
              " [1837, 1838, 1839, 1842],\n",
              " [1986, 1987, 1988],\n",
              " [2074, 2078, 2080, 2083, 2085],\n",
              " [2102, 2103, 2105],\n",
              " [2126, 2128, 2129, 2130, 2131],\n",
              " [1168, 2281, 2282, 2283],\n",
              " [424, 2323, 2324, 2325],\n",
              " [2368, 2369, 2350],\n",
              " [2460, 2461, 2462],\n",
              " [2504, 2505, 2506, 2507],\n",
              " [821, 2521, 2524],\n",
              " [2539, 2540, 2541],\n",
              " [2655, 2656, 2657],\n",
              " [2713, 2714, 2715],\n",
              " [2791, 2794, 2796],\n",
              " [2931, 1549, 2932],\n",
              " [2975, 2977, 2981],\n",
              " [3031, 3032, 3033, 3034],\n",
              " [3061, 776, 3062],\n",
              " [3063, 3066, 3067, 3068],\n",
              " [3099, 3100, 3101],\n",
              " [3107, 3109, 3111, 3112],\n",
              " [3113, 3114, 3115],\n",
              " [3182, 822, 3184, 261],\n",
              " [46, 3247, 823],\n",
              " [3251, 3252, 3253, 3254],\n",
              " [776, 3256, 3257],\n",
              " [3281, 3282, 3283, 3284],\n",
              " [2525, 3298, 2528],\n",
              " [3301, 3303, 417],\n",
              " [3320, 3321, 3322, 3324, 3326, 3327],\n",
              " [3332, 2351, 261],\n",
              " [3339, 3340, 3341, 3343],\n",
              " [3368, 3369, 3371],\n",
              " [3386, 3389, 3301, 681],\n",
              " [3427, 3428, 3429, 3430],\n",
              " [1394, 425, 1392],\n",
              " [1168, 3471, 3472, 3473],\n",
              " [3627, 2791, 3630, 3631, 3632],\n",
              " [3901, 3903, 3904],\n",
              " [4041, 4042, 4043, 4045],\n",
              " [4060, 704, 3257],\n",
              " [4113, 706, 3062],\n",
              " [4137, 4138, 4142, 4143, 4144],\n",
              " [4216, 4217, 4219, 4220, 4223],\n",
              " [4306, 4307, 4309, 4313],\n",
              " [795, 4383, 4384, 4386],\n",
              " [4479, 4480, 3951],\n",
              " [4488, 4489, 4490, 4042, 3111],\n",
              " [4727, 4728, 4729, 4730, 4731],\n",
              " [4776, 205, 4780],\n",
              " [4812, 4264, 4813, 4731],\n",
              " [1088, 4906, 4907],\n",
              " [743, 744, 5101],\n",
              " [5196,\n",
              "  807,\n",
              "  5202,\n",
              "  5203,\n",
              "  5204,\n",
              "  3109,\n",
              "  5205,\n",
              "  5206,\n",
              "  5207,\n",
              "  5209,\n",
              "  5210,\n",
              "  5211,\n",
              "  327,\n",
              "  5212,\n",
              "  5213],\n",
              " [5218, 5219, 5220],\n",
              " [206, 5263, 5264],\n",
              " [5468, 5475, 3182, 262],\n",
              " [4780, 2460, 5502],\n",
              " [418, 423, 424, 5536],\n",
              " [5637, 5638, 3341, 5640, 5641, 5642],\n",
              " [5648, 2484, 5655],\n",
              " [4217, 5684, 5685, 5688],\n",
              " [5692, 5693, 5640, 5694],\n",
              " [3281, 3282, 5727],\n",
              " [4490, 5780, 5781],\n",
              " [5791, 3386, 5795, 5796, 684, 5798, 3301, 5800, 5802, 5798],\n",
              " [5953, 5202, 5203, 3430],\n",
              " [6017, 6020, 6023],\n",
              " [2528, 6046, 6047],\n",
              " [6126, 6127, 6128, 6129],\n",
              " [3099, 3100, 3284],\n",
              " [6211, 6214, 1268],\n",
              " [6266, 6267, 6268],\n",
              " [6281, 6283, 6284, 6285]]"
            ]
          },
          "metadata": {},
          "execution_count": 52
        }
      ]
    },
    {
      "cell_type": "code",
      "metadata": {
        "colab": {
          "base_uri": "https://localhost:8080/"
        },
        "id": "SemLk9wLHHUz",
        "outputId": "d553a54e-9b9c-4d75-fac7-20522fdc68af"
      },
      "source": [
        "# Count the occurrence of each item over all the baskets - TRIPLE (itemsets of size 3)\n",
        "\n",
        "array_counts = (sc.parallelize(baskets_hash).map(lambda basket: combinations(basket, 3))\n",
        "                                            .flatMap(lambda triples: [(triple, 1) for triple in triples])\n",
        "                                            .reduceByKey(lambda a, b: a + b)\n",
        "                                            .collect())\n",
        "print(len(array_counts))"
      ],
      "execution_count": 53,
      "outputs": [
        {
          "output_type": "stream",
          "name": "stdout",
          "text": [
            "262362\n"
          ]
        }
      ]
    },
    {
      "cell_type": "code",
      "metadata": {
        "colab": {
          "base_uri": "https://localhost:8080/"
        },
        "id": "Vu-nGR-j9kNy",
        "outputId": "3606661a-01fa-4b12-e602-1922dbacae98"
      },
      "source": [
        "array_counts[:100]"
      ],
      "execution_count": 54,
      "outputs": [
        {
          "output_type": "execute_result",
          "data": {
            "text/plain": [
              "[((205, 206, 207), 4),\n",
              " ((205, 206, 208), 4),\n",
              " ((205, 207, 208), 1),\n",
              " ((206, 207, 208), 1),\n",
              " ((253, 254, 255), 3),\n",
              " ((253, 254, 256), 2),\n",
              " ((253, 255, 256), 5),\n",
              " ((254, 255, 256), 4),\n",
              " ((258, 261, 262), 1),\n",
              " ((269, 270, 271), 1),\n",
              " ((269, 270, 272), 2),\n",
              " ((269, 271, 272), 2),\n",
              " ((270, 271, 272), 7),\n",
              " ((309, 311, 312), 1),\n",
              " ((311, 327, 328), 3),\n",
              " ((407, 408, 409), 13),\n",
              " ((407, 408, 410), 14),\n",
              " ((407, 409, 410), 13),\n",
              " ((408, 409, 410), 28),\n",
              " ((411, 414, 416), 1),\n",
              " ((411, 414, 417), 1),\n",
              " ((411, 416, 417), 1),\n",
              " ((414, 416, 417), 2),\n",
              " ((418, 420, 421), 2),\n",
              " ((418, 420, 423), 2),\n",
              " ((418, 420, 424), 1),\n",
              " ((418, 420, 425), 1),\n",
              " ((418, 421, 423), 5),\n",
              " ((418, 421, 424), 5),\n",
              " ((418, 421, 425), 3),\n",
              " ((418, 423, 424), 3),\n",
              " ((418, 423, 425), 2),\n",
              " ((418, 424, 425), 2),\n",
              " ((420, 421, 423), 3),\n",
              " ((420, 421, 424), 1),\n",
              " ((420, 421, 425), 1),\n",
              " ((420, 423, 424), 1),\n",
              " ((420, 423, 425), 1),\n",
              " ((420, 424, 425), 1),\n",
              " ((421, 423, 424), 7),\n",
              " ((421, 423, 425), 1),\n",
              " ((421, 424, 425), 5),\n",
              " ((423, 424, 425), 1),\n",
              " ((681, 682, 684), 1),\n",
              " ((702, 703, 704), 1),\n",
              " ((702, 703, 706), 2),\n",
              " ((702, 704, 706), 2),\n",
              " ((703, 704, 706), 1),\n",
              " ((742, 743, 744), 1),\n",
              " ((742, 743, 747), 1),\n",
              " ((742, 744, 747), 1),\n",
              " ((743, 744, 747), 1),\n",
              " ((756, 757, 759), 9),\n",
              " ((767, 768, 769), 1),\n",
              " ((767, 768, 770), 1),\n",
              " ((767, 769, 770), 1),\n",
              " ((768, 769, 770), 1),\n",
              " ((775, 776, 777), 1),\n",
              " ((795, 797, 799), 2),\n",
              " ((821, 822, 823), 1),\n",
              " ((821, 822, 825), 2),\n",
              " ((821, 822, 826), 2),\n",
              " ((821, 823, 825), 1),\n",
              " ((821, 823, 826), 1),\n",
              " ((821, 825, 826), 2),\n",
              " ((822, 823, 825), 1),\n",
              " ((822, 823, 826), 1),\n",
              " ((822, 825, 826), 4),\n",
              " ((823, 825, 826), 1),\n",
              " ((1075, 1076, 1078), 2),\n",
              " ((1075, 1076, 1082), 1),\n",
              " ((1075, 1076, 1086), 1),\n",
              " ((1075, 1078, 1082), 1),\n",
              " ((1075, 1078, 1086), 1),\n",
              " ((1075, 1082, 1086), 1),\n",
              " ((1076, 1078, 1082), 1),\n",
              " ((1076, 1078, 1086), 1),\n",
              " ((1076, 1082, 1086), 1),\n",
              " ((1078, 1082, 1086), 1),\n",
              " ((1087, 1088, 1089), 1),\n",
              " ((1087, 1088, 1090), 1),\n",
              " ((1087, 1088, 256), 1),\n",
              " ((1087, 1089, 1090), 1),\n",
              " ((1087, 1089, 256), 1),\n",
              " ((1087, 1090, 256), 1),\n",
              " ((1088, 1089, 1090), 3),\n",
              " ((1088, 1089, 256), 5),\n",
              " ((1088, 1090, 256), 8),\n",
              " ((1089, 1090, 256), 5),\n",
              " ((1135, 1136, 1137), 3),\n",
              " ((1135, 1136, 1138), 2),\n",
              " ((1135, 1137, 1138), 2),\n",
              " ((1136, 1137, 1138), 1),\n",
              " ((1156, 1157, 1158), 1),\n",
              " ((1167, 1168, 1169), 3),\n",
              " ((1265, 776, 1267), 1),\n",
              " ((1265, 776, 1268), 1),\n",
              " ((1265, 1267, 1268), 1),\n",
              " ((776, 1267, 1268), 1),\n",
              " ((1392, 1394, 1395), 1)]"
            ]
          },
          "metadata": {},
          "execution_count": 54
        }
      ]
    },
    {
      "cell_type": "code",
      "metadata": {
        "colab": {
          "base_uri": "https://localhost:8080/"
        },
        "id": "WpNwyhKsyOIM",
        "outputId": "b265cfbd-4be9-43eb-898e-22c836faced1"
      },
      "source": [
        "# Format the frequent triples to actors names\n",
        "\n",
        "actors_counts = sorted((sc.parallelize(array_counts)\n",
        "                          .map(lambda basket: ((items_to_hash[basket[0][0]], items_to_hash[basket[0][1]], items_to_hash[basket[0][2]]), basket[1]))\n",
        "                          .collect()), key = lambda a: a[1], reverse = True)\n",
        "\n",
        "print(len(actors_counts))"
      ],
      "execution_count": 55,
      "outputs": [
        {
          "output_type": "stream",
          "name": "stdout",
          "text": [
            "262362\n"
          ]
        }
      ]
    },
    {
      "cell_type": "code",
      "metadata": {
        "colab": {
          "base_uri": "https://localhost:8080/"
        },
        "id": "SllaPmYR9oiJ",
        "outputId": "9df07981-fd8f-478f-aba9-4634a99b0b92"
      },
      "source": [
        "actors_counts[:100]"
      ],
      "execution_count": 56,
      "outputs": [
        {
          "output_type": "execute_result",
          "data": {
            "text/plain": [
              "[(('Kitsuraku Arashi', 'Kijaku Ôtani', 'Matsunosuke Onoe'), 121),\n",
              " (('Kijaku Ôtani', 'Suminojo Ichikawa', 'Matsunosuke Onoe'), 106),\n",
              " (('Kitsuraku Arashi', 'Suminojo Ichikawa', 'Matsunosuke Onoe'), 101),\n",
              " ((\"Sen'nosuke Nakamura\", 'Kijaku Ôtani', 'Matsunosuke Onoe'), 88),\n",
              " (('Kitsuraku Arashi', 'Kijaku Ôtani', 'Suminojo Ichikawa'), 87),\n",
              " (('Jayabharati', 'Bahadur', 'Adoor Bhasi'), 75),\n",
              " (('Kitsuraku Arashi', \"Sen'nosuke Nakamura\", 'Matsunosuke Onoe'), 75),\n",
              " (('Adoor Bhasi', 'Prem Nazir', 'Thikkurisi Sukumaran Nair'), 74),\n",
              " (('Hôshô Bandô', 'Ritoku Arashi', 'Enshô Jitsukawa'), 70),\n",
              " ((\"Sen'nosuke Nakamura\", 'Suminojo Ichikawa', 'Matsunosuke Onoe'), 68),\n",
              " (('Kakumatsuro Arashi', 'Kijaku Ôtani', 'Matsunosuke Onoe'), 63),\n",
              " (('Kitsuraku Arashi', \"Sen'nosuke Nakamura\", 'Kijaku Ôtani'), 63),\n",
              " (('Jayabharati', 'Adoor Bhasi', 'Prem Nazir'), 62),\n",
              " (('Chosei Kataoka', 'Kijaku Ôtani', 'Matsunosuke Onoe'), 61),\n",
              " (('Hôshô Bandô', 'Ritoku Arashi', 'Shôzô Arashi'), 61),\n",
              " (('Bahadur', 'Adoor Bhasi', 'Prem Nazir'), 60),\n",
              " (('Hideo Fujino', 'Kaichi Yamamoto', 'Takeo Azuma'), 58),\n",
              " (('Ritoku Arashi', 'Shôzô Arashi', 'Enshô Jitsukawa'), 58),\n",
              " (('Utae Nakamura', 'Kijaku Ôtani', 'Matsunosuke Onoe'), 55),\n",
              " (('Ichitarô Kataoka', 'Kijaku Ôtani', 'Matsunosuke Onoe'), 55),\n",
              " ((\"Sen'nosuke Nakamura\", 'Kijaku Ôtani', 'Suminojo Ichikawa'), 55),\n",
              " (('T.S. Muthaiah', 'Adoor Bhasi', 'Prem Nazir'), 54),\n",
              " (('Chosei Kataoka', 'Kitsuraku Arashi', 'Matsunosuke Onoe'), 54),\n",
              " (('Kitsuraku Arashi', 'Kakumatsuro Arashi', 'Matsunosuke Onoe'), 53),\n",
              " (('Kitsuraku Arashi', 'Utae Nakamura', 'Matsunosuke Onoe'), 53),\n",
              " (('Chosei Kataoka', 'Suminojo Ichikawa', 'Matsunosuke Onoe'), 52),\n",
              " (('Hôshô Bandô', 'Shôzô Arashi', 'Enshô Jitsukawa'), 52),\n",
              " (('Kitsuraku Arashi', \"Sen'nosuke Nakamura\", 'Suminojo Ichikawa'), 52),\n",
              " (('Rihaku Arashi', 'Kijaku Ôtani', 'Matsunosuke Onoe'), 49),\n",
              " (('Chosei Kataoka', 'Kitsuraku Arashi', 'Kijaku Ôtani'), 48),\n",
              " (('Kakumatsuro Arashi', 'Suminojo Ichikawa', 'Matsunosuke Onoe'), 47),\n",
              " (('Kitsuraku Arashi', 'Utae Nakamura', 'Kijaku Ôtani'), 46),\n",
              " (('Ichitarô Kataoka', 'Kitsuraku Arashi', 'Matsunosuke Onoe'), 46),\n",
              " (('Chosei Kataoka', 'Kijaku Ôtani', 'Suminojo Ichikawa'), 45),\n",
              " (('Adoor Bhasi', 'Prem Nazir', 'Meena'), 44),\n",
              " (('Hideo Fujino', 'Teinosuke Kinugasa', 'Takeo Azuma'), 44),\n",
              " (('Chosei Kataoka', 'Kitsuraku Arashi', 'Suminojo Ichikawa'), 44),\n",
              " (('Rihaku Arashi', 'Suminojo Ichikawa', 'Matsunosuke Onoe'), 44),\n",
              " (('Unpei Yokoyama', 'Kaichi Yamamoto', 'Takeo Azuma'), 43),\n",
              " (('Kitsuraku Arashi', 'Kakumatsuro Arashi', 'Kijaku Ôtani'), 43),\n",
              " (('Ichitarô Kataoka', 'Suminojo Ichikawa', 'Matsunosuke Onoe'), 43),\n",
              " (('Rihaku Arashi', 'Kitsuraku Arashi', 'Matsunosuke Onoe'), 43),\n",
              " (('Sentarô Nakamura', 'Kijaku Ôtani', 'Matsunosuke Onoe'), 43),\n",
              " (('Kakumatsuro Arashi', \"Sen'nosuke Nakamura\", 'Matsunosuke Onoe'), 43),\n",
              " (('Hideo Fujino', 'Teinosuke Kinugasa', 'Kaichi Yamamoto'), 42),\n",
              " (('Bahadur', 'Adoor Bhasi', 'Thikkurisi Sukumaran Nair'), 41),\n",
              " (('Masao Ômura', 'Kaichi Yamamoto', 'Takeo Azuma'), 40),\n",
              " (('Sentarô Nakamura', 'Suminojo Ichikawa', 'Matsunosuke Onoe'), 40),\n",
              " (('Bahadur', 'Adoor Bhasi', 'Meena'), 40),\n",
              " (('Hideo Fujino', 'Unpei Yokoyama', 'Kaichi Yamamoto'), 39),\n",
              " (('Tito Sotto', 'Vic Sotto', 'Joey de Leon'), 39),\n",
              " (('Kakumatsuro Arashi', 'Kijaku Ôtani', 'Suminojo Ichikawa'), 39),\n",
              " (('Ichitarô Kataoka', 'Kitsuraku Arashi', 'Kijaku Ôtani'), 39),\n",
              " (('Ichitarô Kataoka', 'Kijaku Ôtani', 'Suminojo Ichikawa'), 39),\n",
              " (('Adoor Bhasi', 'Prem Nazir', 'T.R. Omana'), 39),\n",
              " (('Adoor Bhasi', 'Prem Nazir', 'Paravoor Bharathan'), 38),\n",
              " (('Hideo Fujino', 'Unpei Yokoyama', 'Takeo Azuma'), 38),\n",
              " (('Kitsuraku Arashi', 'Kakumatsuro Arashi', 'Suminojo Ichikawa'), 38),\n",
              " (('Utae Nakamura', 'Suminojo Ichikawa', 'Matsunosuke Onoe'), 38),\n",
              " (('Rihaku Arashi', 'Kijaku Ôtani', 'Suminojo Ichikawa'), 38),\n",
              " (('Kitsuraku Arashi', 'Sentarô Nakamura', 'Matsunosuke Onoe'), 38),\n",
              " (('Ichitarô Kataoka', 'Kitsuraku Arashi', 'Suminojo Ichikawa'), 37),\n",
              " (('Rihaku Arashi', 'Kitsuraku Arashi', 'Kijaku Ôtani'), 37),\n",
              " (('Sannosuke Fujikawa', 'Kaichi Yamamoto', 'Takeo Azuma'), 36),\n",
              " (('Teinosuke Kinugasa', 'Kaichi Yamamoto', 'Takeo Azuma'), 36),\n",
              " (('T.S. Muthaiah', 'Bahadur', 'Adoor Bhasi'), 36),\n",
              " (('Jayabharati', 'Adoor Bhasi', 'Meena'), 35),\n",
              " (('Sentarô Nakamura', 'Kijaku Ôtani', 'Suminojo Ichikawa'), 35),\n",
              " (('Hôshô Bandô', 'Ritoku Arashi', 'Okuzan Asao'), 35),\n",
              " (('Hideo Fujino', 'Masao Ômura', 'Kaichi Yamamoto'), 34),\n",
              " (('Unpei Yokoyama', 'Masao Ômura', 'Kaichi Yamamoto'), 34),\n",
              " (('Rihaku Arashi', 'Kitsuraku Arashi', 'Suminojo Ichikawa'), 34),\n",
              " (('Kitsuraku Arashi', 'Sentarô Nakamura', 'Kijaku Ôtani'), 34),\n",
              " (('Kaichi Yamamoto', 'Takeo Azuma', 'Misao Satsuki'), 34),\n",
              " (('Utae Nakamura', 'Kijaku Ôtani', 'Suminojo Ichikawa'), 33),\n",
              " ((\"Sen'nosuke Nakamura\", 'Utae Nakamura', 'Matsunosuke Onoe'), 33),\n",
              " (('Kakumatsuro Arashi', \"Sen'nosuke Nakamura\", 'Kijaku Ôtani'), 33),\n",
              " (('Hideo Fujino', 'Sannosuke Fujikawa', 'Kaichi Yamamoto'), 32),\n",
              " (('Unpei Yokoyama', 'Masao Ômura', 'Takeo Azuma'), 32),\n",
              " (('Kitsuraku Arashi', 'Utae Nakamura', 'Suminojo Ichikawa'), 32),\n",
              " (('Ritoku Arashi', 'Okuzan Asao', 'Enshô Jitsukawa'), 32),\n",
              " (('Unpei Yokoyama', 'Teinosuke Kinugasa', 'Takeo Azuma'), 31),\n",
              " (('Hideo Fujino', 'Masao Ômura', 'Takeo Azuma'), 31),\n",
              " (('Kitsuraku Arashi', 'Sentarô Nakamura', 'Suminojo Ichikawa'), 31),\n",
              " (('Ritoku Arashi', 'Okuzan Asao', 'Shôzô Arashi'), 31),\n",
              " (('Sheela', 'Adoor Bhasi', 'Prem Nazir'), 31),\n",
              " (('Hideo Fujino', 'Unpei Yokoyama', 'Teinosuke Kinugasa'), 30),\n",
              " (('Hideo Fujino', 'Sannosuke Fujikawa', 'Takeo Azuma'), 30),\n",
              " (('Allan Lane', 'Black Jack', 'Eddy Waller'), 30),\n",
              " (('Unpei Yokoyama', 'Sannosuke Fujikawa', 'Masao Ômura'), 30),\n",
              " (('Hôshô Bandô', 'Okuzan Asao', 'Enshô Jitsukawa'), 30),\n",
              " (('Jayabharati', 'Adoor Bhasi', 'Thikkurisi Sukumaran Nair'), 30),\n",
              " (('Bahadur', 'Prem Nazir', 'Thikkurisi Sukumaran Nair'), 30),\n",
              " (('Ichitarô Kataoka', \"Sen'nosuke Nakamura\", 'Matsunosuke Onoe'), 30),\n",
              " (('Ichitarô Kataoka', 'Kakumatsuro Arashi', 'Matsunosuke Onoe'), 30),\n",
              " (('Kitsuraku Arashi', 'Kakumatsuro Arashi', \"Sen'nosuke Nakamura\"), 30),\n",
              " ((\"Sen'nosuke Nakamura\", 'Sentarô Nakamura', 'Matsunosuke Onoe'), 30),\n",
              " (('Jayabharati', 'Adoor Bhasi', 'Paravoor Bharathan'), 29),\n",
              " (('Adoor Bhasi', 'Prem Nazir', 'Jose Prakash'), 29),\n",
              " (('Unpei Yokoyama', 'Teinosuke Kinugasa', 'Kaichi Yamamoto'), 29)]"
            ]
          },
          "metadata": {},
          "execution_count": 56
        }
      ]
    },
    {
      "cell_type": "code",
      "metadata": {
        "colab": {
          "base_uri": "https://localhost:8080/"
        },
        "id": "5xil4-ybAOYN",
        "outputId": "b166559a-d178-4490-b554-63b5a095b5ba"
      },
      "source": [
        "# Frequent-items table - TRIPLES\n",
        "\n",
        "freqitem_table = (sc.parallelize(array_counts)\n",
        "                     .map(lambda basket: -1 if basket[1] <= 10 else basket[0]) # .map(lambda basket: -1 if basket[1] <= 1 else basket[0])\n",
        "                     .collect())\n",
        "\n",
        "len(freqitem_table)"
      ],
      "execution_count": 57,
      "outputs": [
        {
          "output_type": "execute_result",
          "data": {
            "text/plain": [
              "262362"
            ]
          },
          "metadata": {},
          "execution_count": 57
        }
      ]
    },
    {
      "cell_type": "code",
      "metadata": {
        "colab": {
          "base_uri": "https://localhost:8080/"
        },
        "id": "w5E3O6PgAa84",
        "outputId": "4bf788ac-0764-46be-9cc9-b1212a2e4e90"
      },
      "source": [
        "# Remove unfrequent triples\n",
        "\n",
        "freqitem_table = [freq for freq in freqitem_table if freq != -1]\n",
        "\n",
        "\n",
        "# Unwind the frequent tuple triples and extract the distinct items\n",
        "\n",
        "freqitem_table = sorted(list(set([elem for bsk in freqitem_table for elem in bsk])))\n",
        "print(len(freqitem_table))"
      ],
      "execution_count": 58,
      "outputs": [
        {
          "output_type": "stream",
          "name": "stdout",
          "text": [
            "436\n"
          ]
        }
      ]
    },
    {
      "cell_type": "code",
      "metadata": {
        "colab": {
          "base_uri": "https://localhost:8080/"
        },
        "id": "hJ9KrxvJ5VC2",
        "outputId": "a20c69cb-fc93-42b0-8f79-6d4c9a76091a"
      },
      "source": [
        "freqitem_table[:100]"
      ],
      "execution_count": 59,
      "outputs": [
        {
          "output_type": "execute_result",
          "data": {
            "text/plain": [
              "[46,\n",
              " 256,\n",
              " 311,\n",
              " 312,\n",
              " 327,\n",
              " 328,\n",
              " 407,\n",
              " 408,\n",
              " 409,\n",
              " 410,\n",
              " 421,\n",
              " 507,\n",
              " 664,\n",
              " 701,\n",
              " 744,\n",
              " 756,\n",
              " 797,\n",
              " 799,\n",
              " 807,\n",
              " 869,\n",
              " 1088,\n",
              " 1135,\n",
              " 1157,\n",
              " 1158,\n",
              " 1267,\n",
              " 1530,\n",
              " 1533,\n",
              " 1549,\n",
              " 2126,\n",
              " 2482,\n",
              " 2525,\n",
              " 2689,\n",
              " 2825,\n",
              " 2981,\n",
              " 2986,\n",
              " 3082,\n",
              " 3109,\n",
              " 3111,\n",
              " 3251,\n",
              " 3252,\n",
              " 3253,\n",
              " 3282,\n",
              " 3298,\n",
              " 3314,\n",
              " 3364,\n",
              " 3375,\n",
              " 3427,\n",
              " 3429,\n",
              " 3430,\n",
              " 3631,\n",
              " 3904,\n",
              " 4042,\n",
              " 4045,\n",
              " 4138,\n",
              " 4142,\n",
              " 4161,\n",
              " 4307,\n",
              " 4309,\n",
              " 4488,\n",
              " 4490,\n",
              " 4727,\n",
              " 4729,\n",
              " 4730,\n",
              " 4825,\n",
              " 5202,\n",
              " 5203,\n",
              " 5205,\n",
              " 5207,\n",
              " 5209,\n",
              " 5210,\n",
              " 5211,\n",
              " 5212,\n",
              " 5213,\n",
              " 5230,\n",
              " 5510,\n",
              " 5637,\n",
              " 5638,\n",
              " 5640,\n",
              " 5641,\n",
              " 5642,\n",
              " 5688,\n",
              " 5692,\n",
              " 5693,\n",
              " 5694,\n",
              " 5780,\n",
              " 5781,\n",
              " 6131,\n",
              " 6266,\n",
              " 6267,\n",
              " 6268,\n",
              " 6281,\n",
              " 6283,\n",
              " 6413,\n",
              " 6417,\n",
              " 6641,\n",
              " 6869,\n",
              " 6871,\n",
              " 6983,\n",
              " 7212,\n",
              " 7214]"
            ]
          },
          "metadata": {},
          "execution_count": 59
        }
      ]
    },
    {
      "cell_type": "code",
      "metadata": {
        "colab": {
          "base_uri": "https://localhost:8080/"
        },
        "id": "xYUnMOZvAupR",
        "outputId": "89ebe64c-6e6e-4f7e-ec2f-5c60fb7931d7"
      },
      "source": [
        "# Format the basket lists to frequent items\n",
        "\n",
        "baskets_hash = (sc.parallelize(baskets_hash)\n",
        "                  .map(lambda basket: [item if item in freqitem_table else -1 for item in basket])\n",
        "                  .collect())\n",
        "\n",
        "\n",
        "# Remove non frequent items and empty baskets from the original baskets\n",
        "\n",
        "baskets_hash = (sc.parallelize(baskets_hash)\n",
        "                  .map(lambda basket: [item for item in basket if item != -1])\n",
        "                  .collect())\n",
        "\n",
        "\n",
        "# Remove the empty lists and the baskets with length lower than 4\n",
        "\n",
        "baskets_hash = list(filter(lambda bsk: bsk != [] and len(bsk) >= 4, baskets_hash))\n",
        "print(len(baskets_hash))"
      ],
      "execution_count": 60,
      "outputs": [
        {
          "output_type": "stream",
          "name": "stdout",
          "text": [
            "2634\n"
          ]
        }
      ]
    },
    {
      "cell_type": "code",
      "metadata": {
        "colab": {
          "base_uri": "https://localhost:8080/"
        },
        "id": "jASLyAv0BniX",
        "outputId": "f35486df-9f41-498c-bb8a-8079fb563f6c"
      },
      "source": [
        "baskets_hash[:100]"
      ],
      "execution_count": 61,
      "outputs": [
        {
          "output_type": "execute_result",
          "data": {
            "text/plain": [
              "[[407, 408, 409, 410],\n",
              " [4488, 4490, 4042, 3111],\n",
              " [807, 5202, 5203, 3109, 5205, 5207, 5209, 5210, 5211, 327, 5212, 5213],\n",
              " [5637, 5638, 5640, 5641, 5642],\n",
              " [5692, 5693, 5640, 5694],\n",
              " [7212, 5207, 7214, 7215, 5210, 5212, 5213],\n",
              " [4488, 7216, 7217, 3314, 664, 7220, 7221],\n",
              " [407, 408, 409, 410],\n",
              " [7548, 311, 7550, 7552],\n",
              " [7548, 8197, 8199, 7552],\n",
              " [8834, 8835, 8836, 8837],\n",
              " [8834, 8838, 8835, 8836, 8837],\n",
              " [7405, 9073, 4309, 9074, 9075],\n",
              " [2525, 9504, 5693, 9505, 9507, 9508],\n",
              " [407, 408, 409, 410],\n",
              " [10409, 10410, 10411, 10413, 2482, 2825, 10414],\n",
              " [5207, 3082, 12013, 12014, 8199, 7215, 5210, 5211],\n",
              " [7372, 13009, 13010, 13011],\n",
              " [14079, 3314, 14081, 14082],\n",
              " [15441, 7215, 5210, 5211],\n",
              " [9042, 9043, 15610, 9046],\n",
              " [4488, 8992, 14081, 3109, 8996],\n",
              " [11399, 16867, 16869, 16873],\n",
              " [4730, 5692, 17328, 4307, 9075],\n",
              " [4488, 17547, 5202, 3314, 14081, 1549],\n",
              " [17547, 4825, 14079, 7220],\n",
              " [2525, 9504, 18683, 9505, 3298, 9507, 9508, 18684],\n",
              " [17547, 7217, 664, 7220, 18416, 5230],\n",
              " [4488, 14079, 4138, 7220, 5230],\n",
              " [807, 5203, 701, 5205],\n",
              " [19760, 10365, 19761, 15078, 19762],\n",
              " [15441, 8199, 19817, 7552, 328, 1549],\n",
              " [3082, 4825, 19817, 5210],\n",
              " [21321, 46, 21322, 21323],\n",
              " [21554, 21555, 21556, 21557, 21558, 21559, 7397],\n",
              " [2525, 9504, 5693, 18683, 9505, 3298, 9507, 9508],\n",
              " [8381, 3082, 19817, 311, 7550, 18524],\n",
              " [17547, 7217, 7220, 18416],\n",
              " [7397, 11760, 25588, 21554, 21555, 25589, 25590, 21558, 21559, 7397],\n",
              " [25641, 2525, 9504, 18683, 3298, 9507, 9508, 25642],\n",
              " [18478, 26533, 18481, 26535],\n",
              " [26733, 26735, 26736, 17324, 26737, 26738],\n",
              " [27483, 27484, 27485, 27486],\n",
              " [4488, 3427, 3430, 3109],\n",
              " [28240, 1088, 26772, 256],\n",
              " [19523, 7405, 28301, 28303, 9075],\n",
              " [5207, 29591, 8199, 19817, 5210, 5211, 328, 29592],\n",
              " [9504, 5693, 18683, 29599, 25642, 29600, 13066, 12656],\n",
              " [7212, 15441, 5207, 19817, 5212],\n",
              " [11760, 5637, 5638, 5640, 5642],\n",
              " [12013, 7214, 7215, 31123, 26110, 29592],\n",
              " [31529, 18524, 29591, 5210],\n",
              " [31548, 31549, 19817, 31550, 5211, 327, 328],\n",
              " [31658, 744, 21919, 12153, 31659, 3904, 507],\n",
              " [25588, 21554, 21555, 5642, 21558, 21559, 7397],\n",
              " [4488, 17547, 12014, 14081, 18416, 5230],\n",
              " [5210, 31550, 5211, 328, 31123, 29592],\n",
              " [25588, 21555, 25589, 13004, 21559, 7397],\n",
              " [34136, 7548, 31549, 34137, 7214],\n",
              " [5510, 5510, 10606, 27575, 26849, 19523, 34442, 7405, 28301, 28303, 9075],\n",
              " [34804, 9073, 34805, 4309],\n",
              " [34136, 18524, 8199, 5210],\n",
              " [5202, 3429, 35978, 14081],\n",
              " [10411, 10413, 2825, 10414],\n",
              " [37122, 34804, 11989, 34805, 37123],\n",
              " [5780, 4042, 11774, 5781, 3111],\n",
              " [5207, 19817, 38373, 5210, 38374, 38375],\n",
              " [22043, 5207, 8199, 7552],\n",
              " [5207, 40226, 40227, 5210, 5212, 38374],\n",
              " [25641, 9504, 5693, 18683, 29599, 25642, 18684],\n",
              " [2126, 19760, 28167, 2126, 19760, 28167],\n",
              " [15441, 22043, 5210, 311, 41047, 1549, 38375],\n",
              " [4488, 17547, 664, 14081],\n",
              " [37122, 34804, 42384, 11989, 34805, 37123],\n",
              " [19761, 15078, 28167, 31369, 10367],\n",
              " [8197, 5210, 31550, 5211, 327, 328, 5213, 29592],\n",
              " [407, 408, 409, 410],\n",
              " [3082, 311, 9765, 18524],\n",
              " [11760, 21555, 13004, 21557, 21558, 21559, 7397],\n",
              " [43782, 5510, 5510, 37122],\n",
              " [4488, 7217, 664, 7220, 18416],\n",
              " [2126, 30649, 28167, 10413],\n",
              " [2126, 19761, 15078, 19762],\n",
              " [4488, 17547, 4138, 8996],\n",
              " [21555, 13004, 21557, 21558, 21559, 7397],\n",
              " [11760, 25588, 21554, 21555, 48164, 48165, 25590, 21558, 21559, 7397],\n",
              " [17547, 3082, 4138, 18416, 48169],\n",
              " [37122, 34804, 34805, 49053],\n",
              " [8381, 14079, 4138, 3314, 18416, 8996],\n",
              " [3082, 12013, 12762, 7214, 31550, 328, 29592],\n",
              " [407, 38827, 38829, 38831],\n",
              " [4488, 7216, 7217, 3429, 664],\n",
              " [51078, 5640, 26849, 51081],\n",
              " [19523, 5692, 37122, 4307, 9075],\n",
              " [5637, 51078, 27575, 26849, 51081],\n",
              " [5207, 8199, 5210, 38375],\n",
              " [14079, 4138, 3314, 8996],\n",
              " [5207, 5210, 5211, 328, 26110, 38375],\n",
              " [17547, 8992, 3314, 664, 7221],\n",
              " [8381, 17547, 4825, 3314]]"
            ]
          },
          "metadata": {},
          "execution_count": 61
        }
      ]
    },
    {
      "cell_type": "code",
      "metadata": {
        "id": "ovdDZ58dB3O-",
        "colab": {
          "base_uri": "https://localhost:8080/"
        },
        "outputId": "53081e4e-302a-4723-ec75-e4b40ab5e66a"
      },
      "source": [
        "# Count the occurrence of each item over all the baskets - FOURPLEX (itemsets of size 4)\n",
        "\n",
        "array_counts = (sc.parallelize(baskets_hash).map(lambda basket: combinations(basket, 4))\n",
        "                                            .flatMap(lambda fourplex: [(fourple, 1) for fourple in fourplex])\n",
        "                                            .reduceByKey(lambda a, b: a + b)\n",
        "                                            .collect())\n",
        "\n",
        "print(len(array_counts))"
      ],
      "execution_count": 62,
      "outputs": [
        {
          "output_type": "stream",
          "name": "stdout",
          "text": [
            "45504\n"
          ]
        }
      ]
    },
    {
      "cell_type": "code",
      "metadata": {
        "id": "du_ouSvsC5ZZ",
        "colab": {
          "base_uri": "https://localhost:8080/"
        },
        "outputId": "83aab485-8eac-4d2a-b981-52e5cb695d79"
      },
      "source": [
        "array_counts[:100]"
      ],
      "execution_count": 63,
      "outputs": [
        {
          "output_type": "execute_result",
          "data": {
            "text/plain": [
              "[((407, 408, 409, 410), 13),\n",
              " ((4488, 4490, 4042, 3111), 1),\n",
              " ((807, 5202, 5203, 3109), 1),\n",
              " ((807, 5202, 5203, 5205), 1),\n",
              " ((807, 5202, 5203, 5207), 1),\n",
              " ((807, 5202, 5203, 5209), 1),\n",
              " ((807, 5202, 5203, 5210), 1),\n",
              " ((807, 5202, 5203, 5211), 1),\n",
              " ((807, 5202, 5203, 327), 1),\n",
              " ((807, 5202, 5203, 5212), 1),\n",
              " ((807, 5202, 5203, 5213), 1),\n",
              " ((807, 5202, 3109, 5205), 1),\n",
              " ((807, 5202, 3109, 5207), 1),\n",
              " ((807, 5202, 3109, 5209), 1),\n",
              " ((807, 5202, 3109, 5210), 1),\n",
              " ((807, 5202, 3109, 5211), 1),\n",
              " ((807, 5202, 3109, 327), 1),\n",
              " ((807, 5202, 3109, 5212), 1),\n",
              " ((807, 5202, 3109, 5213), 1),\n",
              " ((807, 5202, 5205, 5207), 1),\n",
              " ((807, 5202, 5205, 5209), 1),\n",
              " ((807, 5202, 5205, 5210), 1),\n",
              " ((807, 5202, 5205, 5211), 1),\n",
              " ((807, 5202, 5205, 327), 1),\n",
              " ((807, 5202, 5205, 5212), 1),\n",
              " ((807, 5202, 5205, 5213), 1),\n",
              " ((807, 5202, 5207, 5209), 1),\n",
              " ((807, 5202, 5207, 5210), 1),\n",
              " ((807, 5202, 5207, 5211), 1),\n",
              " ((807, 5202, 5207, 327), 1),\n",
              " ((807, 5202, 5207, 5212), 1),\n",
              " ((807, 5202, 5207, 5213), 1),\n",
              " ((807, 5202, 5209, 5210), 1),\n",
              " ((807, 5202, 5209, 5211), 1),\n",
              " ((807, 5202, 5209, 327), 1),\n",
              " ((807, 5202, 5209, 5212), 1),\n",
              " ((807, 5202, 5209, 5213), 1),\n",
              " ((807, 5202, 5210, 5211), 1),\n",
              " ((807, 5202, 5210, 327), 1),\n",
              " ((807, 5202, 5210, 5212), 1),\n",
              " ((807, 5202, 5210, 5213), 1),\n",
              " ((807, 5202, 5211, 327), 1),\n",
              " ((807, 5202, 5211, 5212), 1),\n",
              " ((807, 5202, 5211, 5213), 1),\n",
              " ((807, 5202, 327, 5212), 1),\n",
              " ((807, 5202, 327, 5213), 1),\n",
              " ((807, 5202, 5212, 5213), 1),\n",
              " ((807, 5203, 3109, 5205), 1),\n",
              " ((807, 5203, 3109, 5207), 1),\n",
              " ((807, 5203, 3109, 5209), 1),\n",
              " ((807, 5203, 3109, 5210), 1),\n",
              " ((807, 5203, 3109, 5211), 1),\n",
              " ((807, 5203, 3109, 327), 1),\n",
              " ((807, 5203, 3109, 5212), 1),\n",
              " ((807, 5203, 3109, 5213), 1),\n",
              " ((807, 5203, 5205, 5207), 1),\n",
              " ((807, 5203, 5205, 5209), 1),\n",
              " ((807, 5203, 5205, 5210), 1),\n",
              " ((807, 5203, 5205, 5211), 1),\n",
              " ((807, 5203, 5205, 327), 1),\n",
              " ((807, 5203, 5205, 5212), 1),\n",
              " ((807, 5203, 5205, 5213), 1),\n",
              " ((807, 5203, 5207, 5209), 1),\n",
              " ((807, 5203, 5207, 5210), 1),\n",
              " ((807, 5203, 5207, 5211), 1),\n",
              " ((807, 5203, 5207, 327), 1),\n",
              " ((807, 5203, 5207, 5212), 1),\n",
              " ((807, 5203, 5207, 5213), 1),\n",
              " ((807, 5203, 5209, 5210), 1),\n",
              " ((807, 5203, 5209, 5211), 1),\n",
              " ((807, 5203, 5209, 327), 1),\n",
              " ((807, 5203, 5209, 5212), 1),\n",
              " ((807, 5203, 5209, 5213), 1),\n",
              " ((807, 5203, 5210, 5211), 1),\n",
              " ((807, 5203, 5210, 327), 1),\n",
              " ((807, 5203, 5210, 5212), 1),\n",
              " ((807, 5203, 5210, 5213), 1),\n",
              " ((807, 5203, 5211, 327), 1),\n",
              " ((807, 5203, 5211, 5212), 1),\n",
              " ((807, 5203, 5211, 5213), 1),\n",
              " ((807, 5203, 327, 5212), 1),\n",
              " ((807, 5203, 327, 5213), 1),\n",
              " ((807, 5203, 5212, 5213), 1),\n",
              " ((807, 3109, 5205, 5207), 1),\n",
              " ((807, 3109, 5205, 5209), 1),\n",
              " ((807, 3109, 5205, 5210), 1),\n",
              " ((807, 3109, 5205, 5211), 1),\n",
              " ((807, 3109, 5205, 327), 1),\n",
              " ((807, 3109, 5205, 5212), 1),\n",
              " ((807, 3109, 5205, 5213), 1),\n",
              " ((807, 3109, 5207, 5209), 1),\n",
              " ((807, 3109, 5207, 5210), 1),\n",
              " ((807, 3109, 5207, 5211), 1),\n",
              " ((807, 3109, 5207, 327), 1),\n",
              " ((807, 3109, 5207, 5212), 1),\n",
              " ((807, 3109, 5207, 5213), 1),\n",
              " ((807, 3109, 5209, 5210), 1),\n",
              " ((807, 3109, 5209, 5211), 1),\n",
              " ((807, 3109, 5209, 327), 1),\n",
              " ((807, 3109, 5209, 5212), 1)]"
            ]
          },
          "metadata": {},
          "execution_count": 63
        }
      ]
    },
    {
      "cell_type": "code",
      "metadata": {
        "id": "72v6mF8qCheM",
        "colab": {
          "base_uri": "https://localhost:8080/"
        },
        "outputId": "d72d8250-d43d-4551-d958-fdba527339df"
      },
      "source": [
        "# Format the frequent fourplex to actors names\n",
        "\n",
        "actors_counts = sorted((sc.parallelize(array_counts)\n",
        "                          .map(lambda basket: ((items_to_hash[basket[0][0]], items_to_hash[basket[0][1]], items_to_hash[basket[0][2]], \n",
        "                                                items_to_hash[basket[0][3]]), basket[1]))\n",
        "                          .collect()), key = lambda a: a[1], reverse = True)\n",
        "\n",
        "print(len(actors_counts))"
      ],
      "execution_count": 64,
      "outputs": [
        {
          "output_type": "stream",
          "name": "stdout",
          "text": [
            "45504\n"
          ]
        }
      ]
    },
    {
      "cell_type": "code",
      "metadata": {
        "id": "7D5YcvmsE0zm",
        "colab": {
          "base_uri": "https://localhost:8080/"
        },
        "outputId": "ac436ecc-fd64-43b9-ba73-b0374f44bbff"
      },
      "source": [
        "actors_counts[:10]"
      ],
      "execution_count": 65,
      "outputs": [
        {
          "output_type": "execute_result",
          "data": {
            "text/plain": [
              "[(('Kitsuraku Arashi',\n",
              "   'Kijaku Ôtani',\n",
              "   'Suminojo Ichikawa',\n",
              "   'Matsunosuke Onoe'),\n",
              "  91),\n",
              " (('Kitsuraku Arashi',\n",
              "   \"Sen'nosuke Nakamura\",\n",
              "   'Kijaku Ôtani',\n",
              "   'Matsunosuke Onoe'),\n",
              "  66),\n",
              " ((\"Sen'nosuke Nakamura\",\n",
              "   'Kijaku Ôtani',\n",
              "   'Suminojo Ichikawa',\n",
              "   'Matsunosuke Onoe'),\n",
              "  57),\n",
              " (('Kitsuraku Arashi',\n",
              "   \"Sen'nosuke Nakamura\",\n",
              "   'Suminojo Ichikawa',\n",
              "   'Matsunosuke Onoe'),\n",
              "  54),\n",
              " (('Chosei Kataoka', 'Kitsuraku Arashi', 'Kijaku Ôtani', 'Matsunosuke Onoe'),\n",
              "  52),\n",
              " (('Hôshô Bandô', 'Ritoku Arashi', 'Shôzô Arashi', 'Enshô Jitsukawa'), 52),\n",
              " (('Kitsuraku Arashi', 'Utae Nakamura', 'Kijaku Ôtani', 'Matsunosuke Onoe'),\n",
              "  50),\n",
              " (('Chosei Kataoka', 'Kijaku Ôtani', 'Suminojo Ichikawa', 'Matsunosuke Onoe'),\n",
              "  49),\n",
              " (('Chosei Kataoka',\n",
              "   'Kitsuraku Arashi',\n",
              "   'Suminojo Ichikawa',\n",
              "   'Matsunosuke Onoe'),\n",
              "  48),\n",
              " (('Kitsuraku Arashi',\n",
              "   \"Sen'nosuke Nakamura\",\n",
              "   'Kijaku Ôtani',\n",
              "   'Suminojo Ichikawa'),\n",
              "  45)]"
            ]
          },
          "metadata": {},
          "execution_count": 65
        }
      ]
    }
  ]
}